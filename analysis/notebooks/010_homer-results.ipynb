{
 "cells": [
  {
   "cell_type": "code",
   "execution_count": 1,
   "metadata": {},
   "outputs": [],
   "source": [
    "pacman::p_load(\n",
    "  data.table,\n",
    "  gsheet,\n",
    "  janitor,\n",
    "  dplyr,\n",
    "  ggplot2,\n",
    "  ggstance,\n",
    "  fractional,\n",
    "  RColorBrewer,\n",
    "  stringr,\n",
    "  limma\n",
    ")"
   ]
  },
  {
   "cell_type": "code",
   "execution_count": 2,
   "metadata": {},
   "outputs": [],
   "source": [
    "theme_set(theme_classic(base_size = 18) %+replace% theme(\n",
    "  strip.background = element_blank(),\n",
    "  # axis.line.y = element_line(colour = \"black\", size = 0.2),\n",
    "  # axis.line.x = element_line(colour = \"black\", size = 0.2),\n",
    "  axis.ticks   = element_line(colour = \"black\", size = 0.3),\n",
    "  panel.border = element_rect(size = 0.3, fill = NA),\n",
    "  axis.line    = element_blank(),\n",
    "  plot.title   = element_text(size = 18, vjust = 2, hjust = 0.5),\n",
    "  panel.grid.major = element_line(size = 0.2)\n",
    "))"
   ]
  },
  {
   "cell_type": "code",
   "execution_count": 3,
   "metadata": {},
   "outputs": [],
   "source": [
    "setwd(\"~/work/fibroblast_timecourse\")\n",
    "source(\"R/002_helper_functions.R\")"
   ]
  },
  {
   "cell_type": "code",
   "execution_count": 4,
   "metadata": {},
   "outputs": [],
   "source": [
    "qpcr_colors = list(\n",
    "  cell_line = c(\n",
    "    'RA1357'   = '#1B9E77',\n",
    "    'RA160425' = '#E6AB02',\n",
    "    'RA355'    = '#7570B3',\n",
    "    'RA3916'   = '#E7298A'\n",
    "  ),\n",
    "  stimulation = c(\n",
    "    \"None\" = \"grey50\",\n",
    "    \"TNF (0.1ng/mL)\" = \"#FEB24C\",\n",
    "    \"TNF (0.1ng/mL)+IL-17 (1ng/mL)\" = \"#E31A1C\"\n",
    "  )\n",
    ")"
   ]
  },
  {
   "cell_type": "code",
   "execution_count": 8,
   "metadata": {},
   "outputs": [
    {
     "data": {
      "text/html": [
       "<table>\n",
       "<thead><tr><th scope=col>pval</th><th scope=col>logpval</th><th scope=col>percent_targets</th><th scope=col>percent_background</th><th scope=col>std_bg_std</th><th scope=col>best_match</th><th scope=col>targets</th><th scope=col>consensus</th></tr></thead>\n",
       "<tbody>\n",
       "\t<tr><td>1e-12                                             </td><td>-28.1                                             </td><td>16.00%                                            </td><td>0.00%                                             </td><td>41.0bp (20.8bp)                                   </td><td>NFkB-p65-Rel(RHD)/ThioMac-LPS-Expression(GSE23622)</td><td>CXCL1,CXCL2,CXCL3,CXCL6                           </td><td>CAGGGAATTTCC                                      </td></tr>\n",
       "\t<tr><td>1e-10                                             </td><td>-24.4                                             </td><td>16.00%                                            </td><td>0.02%                                             </td><td>46.0bp (62.7bp)                                   </td><td>CUX1/MA0754.1/Jaspar                              </td><td>CXCL1,CXCL2,CXCL3,PIM2                            </td><td>TCCGGATCGATC                                      </td></tr>\n",
       "\t<tr><td>1e-10                                             </td><td>-23.1                                             </td><td>16.00%                                            </td><td>0.02%                                             </td><td>64.4bp (86.4bp)                                   </td><td>Nur77(NR)/K562-NR4A1-ChIP-Seq(GSE31363)           </td><td>CCL20,CSF2,MMP3,TNFSF13B                          </td><td>ACCTTYMCAWKA                                      </td></tr>\n",
       "\t<tr><td>1e-09                                             </td><td>-23.0                                             </td><td>20.00%                                            </td><td>0.11%                                             </td><td>110.7bp (62.5bp)                                  </td><td>REL/MA0101.1/Jaspar                               </td><td>CXCL1,CXCL2,CXCL3,NFKBIZ,PTGS2                    </td><td>TCCGGGSTTTCC                                      </td></tr>\n",
       "\t<tr><td>1e-09                                             </td><td>-22.8                                             </td><td>16.00%                                            </td><td>0.03%                                             </td><td>88.8bp (94.7bp)                                   </td><td>GLI2/MA0734.1/Jaspar                              </td><td>C15orf48,CD83,G0S2,IL4I1                          </td><td>GACCGCGCTGGC                                      </td></tr>\n",
       "\t<tr><td>1e-08                                             </td><td>-19.5                                             </td><td>24.00%                                            </td><td>0.52%                                             </td><td>53.8bp (103.1bp)                                  </td><td>Hic1/MA0739.1/Jaspar                              </td><td>C15orf48,CCL20,CXCL1,CXCL2,CXCL3,G0S2,NFKBIZ      </td><td>GCGATGGCCC                                        </td></tr>\n",
       "\t<tr><td>1e-07                                             </td><td>-17.4                                             </td><td>12.00%                                            </td><td>0.02%                                             </td><td>39.6bp (100.7bp)                                  </td><td>EWSR1-FLI1/MA0149.1/Jaspar                        </td><td>CXCL1,CXCL2,CXCL3                                 </td><td>GAAGGAAGGCGA                                      </td></tr>\n",
       "\t<tr><td>1e-06                                             </td><td>-15.0                                             </td><td>20.00%                                            </td><td>0.57%                                             </td><td>54.8bp (118.2bp)                                  </td><td>JUND/MA0491.1/Jaspar                              </td><td>CCL7,CSF2,IL11,MMP3,NFKBIZ                        </td><td>GACTCATCCT                                        </td></tr>\n",
       "</tbody>\n",
       "</table>\n"
      ],
      "text/latex": [
       "\\begin{tabular}{r|llllllll}\n",
       " pval & logpval & percent\\_targets & percent\\_background & std\\_bg\\_std & best\\_match & targets & consensus\\\\\n",
       "\\hline\n",
       "\t 1e-12                                              & -28.1                                              & 16.00\\%                                           & 0.00\\%                                            & 41.0bp (20.8bp)                                    & NFkB-p65-Rel(RHD)/ThioMac-LPS-Expression(GSE23622) & CXCL1,CXCL2,CXCL3,CXCL6                            & CAGGGAATTTCC                                      \\\\\n",
       "\t 1e-10                                              & -24.4                                              & 16.00\\%                                           & 0.02\\%                                            & 46.0bp (62.7bp)                                    & CUX1/MA0754.1/Jaspar                               & CXCL1,CXCL2,CXCL3,PIM2                             & TCCGGATCGATC                                      \\\\\n",
       "\t 1e-10                                              & -23.1                                              & 16.00\\%                                           & 0.02\\%                                            & 64.4bp (86.4bp)                                    & Nur77(NR)/K562-NR4A1-ChIP-Seq(GSE31363)            & CCL20,CSF2,MMP3,TNFSF13B                           & ACCTTYMCAWKA                                      \\\\\n",
       "\t 1e-09                                              & -23.0                                              & 20.00\\%                                           & 0.11\\%                                            & 110.7bp (62.5bp)                                   & REL/MA0101.1/Jaspar                                & CXCL1,CXCL2,CXCL3,NFKBIZ,PTGS2                     & TCCGGGSTTTCC                                      \\\\\n",
       "\t 1e-09                                              & -22.8                                              & 16.00\\%                                           & 0.03\\%                                            & 88.8bp (94.7bp)                                    & GLI2/MA0734.1/Jaspar                               & C15orf48,CD83,G0S2,IL4I1                           & GACCGCGCTGGC                                      \\\\\n",
       "\t 1e-08                                              & -19.5                                              & 24.00\\%                                           & 0.52\\%                                            & 53.8bp (103.1bp)                                   & Hic1/MA0739.1/Jaspar                               & C15orf48,CCL20,CXCL1,CXCL2,CXCL3,G0S2,NFKBIZ       & GCGATGGCCC                                        \\\\\n",
       "\t 1e-07                                              & -17.4                                              & 12.00\\%                                           & 0.02\\%                                            & 39.6bp (100.7bp)                                   & EWSR1-FLI1/MA0149.1/Jaspar                         & CXCL1,CXCL2,CXCL3                                  & GAAGGAAGGCGA                                      \\\\\n",
       "\t 1e-06                                              & -15.0                                              & 20.00\\%                                           & 0.57\\%                                            & 54.8bp (118.2bp)                                   & JUND/MA0491.1/Jaspar                               & CCL7,CSF2,IL11,MMP3,NFKBIZ                         & GACTCATCCT                                        \\\\\n",
       "\\end{tabular}\n"
      ],
      "text/markdown": [
       "\n",
       "pval | logpval | percent_targets | percent_background | std_bg_std | best_match | targets | consensus | \n",
       "|---|---|---|---|---|---|---|---|\n",
       "| 1e-12                                              | -28.1                                              | 16.00%                                             | 0.00%                                              | 41.0bp (20.8bp)                                    | NFkB-p65-Rel(RHD)/ThioMac-LPS-Expression(GSE23622) | CXCL1,CXCL2,CXCL3,CXCL6                            | CAGGGAATTTCC                                       | \n",
       "| 1e-10                                              | -24.4                                              | 16.00%                                             | 0.02%                                              | 46.0bp (62.7bp)                                    | CUX1/MA0754.1/Jaspar                               | CXCL1,CXCL2,CXCL3,PIM2                             | TCCGGATCGATC                                       | \n",
       "| 1e-10                                              | -23.1                                              | 16.00%                                             | 0.02%                                              | 64.4bp (86.4bp)                                    | Nur77(NR)/K562-NR4A1-ChIP-Seq(GSE31363)            | CCL20,CSF2,MMP3,TNFSF13B                           | ACCTTYMCAWKA                                       | \n",
       "| 1e-09                                              | -23.0                                              | 20.00%                                             | 0.11%                                              | 110.7bp (62.5bp)                                   | REL/MA0101.1/Jaspar                                | CXCL1,CXCL2,CXCL3,NFKBIZ,PTGS2                     | TCCGGGSTTTCC                                       | \n",
       "| 1e-09                                              | -22.8                                              | 16.00%                                             | 0.03%                                              | 88.8bp (94.7bp)                                    | GLI2/MA0734.1/Jaspar                               | C15orf48,CD83,G0S2,IL4I1                           | GACCGCGCTGGC                                       | \n",
       "| 1e-08                                              | -19.5                                              | 24.00%                                             | 0.52%                                              | 53.8bp (103.1bp)                                   | Hic1/MA0739.1/Jaspar                               | C15orf48,CCL20,CXCL1,CXCL2,CXCL3,G0S2,NFKBIZ       | GCGATGGCCC                                         | \n",
       "| 1e-07                                              | -17.4                                              | 12.00%                                             | 0.02%                                              | 39.6bp (100.7bp)                                   | EWSR1-FLI1/MA0149.1/Jaspar                         | CXCL1,CXCL2,CXCL3                                  | GAAGGAAGGCGA                                       | \n",
       "| 1e-06                                              | -15.0                                              | 20.00%                                             | 0.57%                                              | 54.8bp (118.2bp)                                   | JUND/MA0491.1/Jaspar                               | CCL7,CSF2,IL11,MMP3,NFKBIZ                         | GACTCATCCT                                         | \n",
       "\n",
       "\n"
      ],
      "text/plain": [
       "  pval  logpval percent_targets percent_background std_bg_std      \n",
       "1 1e-12 -28.1   16.00%          0.00%              41.0bp (20.8bp) \n",
       "2 1e-10 -24.4   16.00%          0.02%              46.0bp (62.7bp) \n",
       "3 1e-10 -23.1   16.00%          0.02%              64.4bp (86.4bp) \n",
       "4 1e-09 -23.0   20.00%          0.11%              110.7bp (62.5bp)\n",
       "5 1e-09 -22.8   16.00%          0.03%              88.8bp (94.7bp) \n",
       "6 1e-08 -19.5   24.00%          0.52%              53.8bp (103.1bp)\n",
       "7 1e-07 -17.4   12.00%          0.02%              39.6bp (100.7bp)\n",
       "8 1e-06 -15.0   20.00%          0.57%              54.8bp (118.2bp)\n",
       "  best_match                                        \n",
       "1 NFkB-p65-Rel(RHD)/ThioMac-LPS-Expression(GSE23622)\n",
       "2 CUX1/MA0754.1/Jaspar                              \n",
       "3 Nur77(NR)/K562-NR4A1-ChIP-Seq(GSE31363)           \n",
       "4 REL/MA0101.1/Jaspar                               \n",
       "5 GLI2/MA0734.1/Jaspar                              \n",
       "6 Hic1/MA0739.1/Jaspar                              \n",
       "7 EWSR1-FLI1/MA0149.1/Jaspar                        \n",
       "8 JUND/MA0491.1/Jaspar                              \n",
       "  targets                                      consensus   \n",
       "1 CXCL1,CXCL2,CXCL3,CXCL6                      CAGGGAATTTCC\n",
       "2 CXCL1,CXCL2,CXCL3,PIM2                       TCCGGATCGATC\n",
       "3 CCL20,CSF2,MMP3,TNFSF13B                     ACCTTYMCAWKA\n",
       "4 CXCL1,CXCL2,CXCL3,NFKBIZ,PTGS2               TCCGGGSTTTCC\n",
       "5 C15orf48,CD83,G0S2,IL4I1                     GACCGCGCTGGC\n",
       "6 C15orf48,CCL20,CXCL1,CXCL2,CXCL3,G0S2,NFKBIZ GCGATGGCCC  \n",
       "7 CXCL1,CXCL2,CXCL3                            GAAGGAAGGCGA\n",
       "8 CCL7,CSF2,IL11,MMP3,NFKBIZ                   GACTCATCCT  "
      ]
     },
     "metadata": {},
     "output_type": "display_data"
    }
   ],
   "source": [
    "homer <- readr::read_tsv(\"pval\tlogpval\tpercent_targets\tpercent_background\tstd_bg_std\tbest_match\ttargets\tconsensus\n",
    "1.00E-12\t-2.81E+01\t16.00%\t0.00%\t41.0bp (20.8bp)\tNFkB-p65-Rel(RHD)/ThioMac-LPS-Expression(GSE23622)\tCXCL6,CXCL3,CXCL2,CXCL1\tCAGGGAATTTCC\n",
    "1.00E-10\t-2.44E+01\t16.00%\t0.02%\t46.0bp (62.7bp)\tCUX1/MA0754.1/Jaspar\tCXCL3,CXCL2,PIM2,CXCL1\tTCCGGATCGATC\n",
    "1.00E-10\t-2.31E+01\t16.00%\t0.02%\t64.4bp (86.4bp)\tNur77(NR)/K562-NR4A1-ChIP-Seq(GSE31363)\tTNFSF13B,CSF2,MMP3,CCL20\tACCTTYMCAWKA\n",
    "1.00E-09\t-2.30E+01\t20.00%\t0.11%\t110.7bp (62.5bp)\tREL/MA0101.1/Jaspar\tPTGS2,NFKBIZ,CXCL3,CXCL2,CXCL1\tTCCGGGSTTTCC\n",
    "1.00E-09\t-2.28E+01\t16.00%\t0.03%\t88.8bp (94.7bp)\tGLI2/MA0734.1/Jaspar\tIL4I1,G0S2,C15orf48,CD83\tGACCGCGCTGGC\n",
    "1.00E-08\t-1.95E+01\t24.00%\t0.52%\t53.8bp (103.1bp)\tHic1/MA0739.1/Jaspar\tNFKBIZ,G0S2,CXCL3,CXCL2,C15orf48,CXCL1,CCL20\tGCGATGGCCC\n",
    "1.00E-07\t-1.74E+01\t12.00%\t0.02%\t39.6bp (100.7bp)\tEWSR1-FLI1/MA0149.1/Jaspar\tCXCL3,CXCL2,CXCL1\tGAAGGAAGGCGA\n",
    "1.00E-06\t-1.50E+01\t20.00%\t0.57%\t54.8bp (118.2bp)\tJUND/MA0491.1/Jaspar\tNFKBIZ,CCL7,CSF2,MMP3,IL11\tGACTCATCCT\")\n",
    "\n",
    "homer <- clean_names(homer)\n",
    "homer$targets <- unname(sapply(homer$targets, function(x) paste(sort(str_split(x, \",\")[[1]]), collapse = \",\")))\n",
    "homer"
   ]
  },
  {
   "cell_type": "code",
   "execution_count": 9,
   "metadata": {},
   "outputs": [],
   "source": [
    "homer$log10p <- -log10(exp(homer$logpval))"
   ]
  },
  {
   "cell_type": "code",
   "execution_count": 13,
   "metadata": {},
   "outputs": [
    {
     "data": {
      "text/html": [
       "<ol class=list-inline>\n",
       "\t<li>'NFkB-p65-REL'</li>\n",
       "\t<li>'CUX1'</li>\n",
       "\t<li>'NUR77'</li>\n",
       "\t<li>'REL'</li>\n",
       "\t<li>'GLI2'</li>\n",
       "\t<li>'HIC1'</li>\n",
       "\t<li>'EWSR1'</li>\n",
       "\t<li>'JUND'</li>\n",
       "</ol>\n"
      ],
      "text/latex": [
       "\\begin{enumerate*}\n",
       "\\item 'NFkB-p65-REL'\n",
       "\\item 'CUX1'\n",
       "\\item 'NUR77'\n",
       "\\item 'REL'\n",
       "\\item 'GLI2'\n",
       "\\item 'HIC1'\n",
       "\\item 'EWSR1'\n",
       "\\item 'JUND'\n",
       "\\end{enumerate*}\n"
      ],
      "text/markdown": [
       "1. 'NFkB-p65-REL'\n",
       "2. 'CUX1'\n",
       "3. 'NUR77'\n",
       "4. 'REL'\n",
       "5. 'GLI2'\n",
       "6. 'HIC1'\n",
       "7. 'EWSR1'\n",
       "8. 'JUND'\n",
       "\n",
       "\n"
      ],
      "text/plain": [
       "[1] \"NFkB-p65-REL\" \"CUX1\"         \"NUR77\"        \"REL\"          \"GLI2\"        \n",
       "[6] \"HIC1\"         \"EWSR1\"        \"JUND\"        "
      ]
     },
     "metadata": {},
     "output_type": "display_data"
    }
   ],
   "source": [
    "xx <- str_replace(homer$best_match, \"/Jaspar\", \"\")\n",
    "xx[1] <- 'NFkB-p65-REL'\n",
    "xx[3] <- 'NUR77'\n",
    "xx[7] <- \"EWSR1\"\n",
    "xx[6] <- \"HIC1\"\n",
    "xx <- str_split_fixed(xx, \"/\", 2)[,1]\n",
    "homer$best_match <- xx\n",
    "xx"
   ]
  },
  {
   "cell_type": "code",
   "execution_count": 15,
   "metadata": {},
   "outputs": [
    {
     "data": {
      "image/png": "[encoded data removed]"
     },
     "metadata": {},
     "output_type": "display_data",
     "source": "R display func"
    }
   ],
   "source": [
    "options(repr.plot.width = 2.5, repr.plot.height = 2.75)\n",
    "\n",
    "p <- ggplot(homer, aes(y = reorder(best_match, log10p), x = log10p)) +\n",
    "geom_colh(width = 0.33) +\n",
    "labs(x = bquote(\"-Log\"[10]~\"P\"), y = NULL, title = ) +\n",
    "scale_x_continuous(labels = function(x) sprintf(\"%.0f\", x), expand = c(0, 0)) +\n",
    "theme(\n",
    "  panel.grid = element_line(color = NA),\n",
    "  panel.border = element_blank(),\n",
    "  axis.line.x = element_line(),\n",
    "  axis.ticks.y = element_blank()\n",
    ")\n",
    "                   \n",
    "show_plot(p)#, res = 300)"
   ]
  },
  {
   "cell_type": "code",
   "execution_count": null,
   "metadata": {},
   "outputs": [],
   "source": []
  }
 ],
 "metadata": {
  "kernelspec": {
   "display_name": "R",
   "language": "R",
   "name": "ir"
  },
  "language_info": {
   "codemirror_mode": "r",
   "file_extension": ".r",
   "mimetype": "text/x-r-source",
   "name": "R",
   "pygments_lexer": "r",
   "version": "3.6.1"
  }
 },
 "nbformat": 4,
 "nbformat_minor": 4
}
