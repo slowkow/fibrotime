{
 "cells": [
  {
   "cell_type": "markdown",
   "metadata": {},
   "source": [
    "# Microarray data 2\n",
    "\n",
    "60 samples"
   ]
  },
  {
   "cell_type": "markdown",
   "metadata": {},
   "source": [
    "## Load packages"
   ]
  },
  {
   "cell_type": "code",
   "execution_count": 95,
   "metadata": {},
   "outputs": [],
   "source": [
    "setwd(\"~/work/fibroblast_timecourse\")"
   ]
  },
  {
   "cell_type": "code",
   "execution_count": 96,
   "metadata": {},
   "outputs": [],
   "source": [
    "source(\"R/002_helper_functions.R\")"
   ]
  },
  {
   "cell_type": "code",
   "execution_count": 97,
   "metadata": {},
   "outputs": [],
   "source": [
    "pacman::p_load(\n",
    "  fractional,\n",
    "  dendsort,\n",
    "  patchwork,\n",
    "  stringr,\n",
    "  foreach,\n",
    "  doMC,\n",
    "  RColorBrewer,\n",
    "  data.table,\n",
    "  reshape2,\n",
    "  R.utils,\n",
    "  rjson,\n",
    "  RCurl,\n",
    "  scales,\n",
    "  ggrepel,\n",
    "  matrixStats,\n",
    "  viridis,\n",
    "  dplyr,\n",
    "  pheatmap,\n",
    "  seriation,\n",
    "  janitor\n",
    ")\n",
    "\n",
    "pacman::p_load(\n",
    "  biomaRt,\n",
    "  limma,\n",
    "  oligo,\n",
    "  hgu133plus2.db,\n",
    "  RSQLite,\n",
    "  DBI\n",
    ")\n",
    "  \n",
    "\n",
    "sort_hclust <- function(...) { as.hclust(dendsort(as.dendrogram(hclust(...)))) }\n",
    "\n",
    "Sys.setenv(R_THREADS = 12)\n",
    "registerDoMC(cores = 12)"
   ]
  },
  {
   "cell_type": "code",
   "execution_count": 98,
   "metadata": {},
   "outputs": [],
   "source": [
    "theme_set(theme_classic(base_size = 18) %+replace% theme(\n",
    "  axis.line.y      = element_line(colour = \"black\", size = 0.2),\n",
    "  axis.line.x      = element_line(colour = \"black\", size = 0.2),\n",
    "  axis.ticks       = element_line(colour = \"black\", size = 0.2),\n",
    "  panel.border     = element_rect(size = 0.2, fill = NA),\n",
    "  strip.background = element_rect(size = 0.2)\n",
    "))"
   ]
  },
  {
   "cell_type": "markdown",
   "metadata": {},
   "source": [
    "## Load data"
   ]
  },
  {
   "cell_type": "code",
   "execution_count": 99,
   "metadata": {},
   "outputs": [
    {
     "data": {
      "text/html": [
       "48"
      ],
      "text/latex": [
       "48"
      ],
      "text/markdown": [
       "48"
      ],
      "text/plain": [
       "[1] 48"
      ]
     },
     "metadata": {},
     "output_type": "display_data"
    },
    {
     "name": "stdout",
     "output_type": "stream",
     "text": [
      "[1] \"data-raw/microarray-data-2/cel/NUID-0000-0163-0775.cel.gz\"\n",
      "[2] \"data-raw/microarray-data-2/cel/NUID-0000-0163-0776.cel.gz\"\n",
      "[3] \"data-raw/microarray-data-2/cel/NUID-0000-0163-0777.cel.gz\"\n",
      "[4] \"data-raw/microarray-data-2/cel/NUID-0000-0163-0778.cel.gz\"\n",
      "[5] \"data-raw/microarray-data-2/cel/NUID-0000-0163-0779.cel.gz\"\n"
     ]
    }
   ],
   "source": [
    "CEL_FILES <- Sys.glob(\"data-raw/microarray-data-2/cel/*.cel.gz\")\n",
    "length(CEL_FILES)\n",
    "print(CEL_FILES[1:5])"
   ]
  },
  {
   "cell_type": "code",
   "execution_count": 100,
   "metadata": {},
   "outputs": [
    {
     "data": {
      "text/html": [
       "<table>\n",
       "<thead><tr><th scope=col>sample</th><th scope=col>passage</th><th scope=col>cell_line</th><th scope=col>stimulation</th><th scope=col>donor</th><th scope=col>disease</th><th scope=col>IL6</th></tr></thead>\n",
       "<tbody>\n",
       "\t<tr><td>NUID-0000-0163-0775</td><td>6                  </td><td>OA6 FLS            </td><td>TNF_IL17           </td><td>OA6                </td><td>Osteo              </td><td>high               </td></tr>\n",
       "\t<tr><td>NUID-0000-0163-0776</td><td>7                  </td><td>OA6 FLS            </td><td>None               </td><td>OA6                </td><td>Osteo              </td><td>high               </td></tr>\n",
       "\t<tr><td>NUID-0000-0163-0777</td><td>7                  </td><td>OA6 FLS            </td><td>TNF                </td><td>OA6                </td><td>Osteo              </td><td>high               </td></tr>\n",
       "\t<tr><td>NUID-0000-0163-0778</td><td>7                  </td><td>OA6 FLS            </td><td>TNF_IL17           </td><td>OA6                </td><td>Osteo              </td><td>high               </td></tr>\n",
       "\t<tr><td>NUID-0000-0163-0779</td><td>8                  </td><td>OA6 FLS            </td><td>None               </td><td>OA6                </td><td>Osteo              </td><td>high               </td></tr>\n",
       "\t<tr><td>NUID-0000-0163-0780</td><td>8                  </td><td>OA6 FLS            </td><td>TNF                </td><td>OA6                </td><td>Osteo              </td><td>high               </td></tr>\n",
       "</tbody>\n",
       "</table>\n"
      ],
      "text/latex": [
       "\\begin{tabular}{r|lllllll}\n",
       " sample & passage & cell\\_line & stimulation & donor & disease & IL6\\\\\n",
       "\\hline\n",
       "\t NUID-0000-0163-0775 & 6                   & OA6 FLS             & TNF\\_IL17          & OA6                 & Osteo               & high               \\\\\n",
       "\t NUID-0000-0163-0776 & 7                   & OA6 FLS             & None                & OA6                 & Osteo               & high               \\\\\n",
       "\t NUID-0000-0163-0777 & 7                   & OA6 FLS             & TNF                 & OA6                 & Osteo               & high               \\\\\n",
       "\t NUID-0000-0163-0778 & 7                   & OA6 FLS             & TNF\\_IL17          & OA6                 & Osteo               & high               \\\\\n",
       "\t NUID-0000-0163-0779 & 8                   & OA6 FLS             & None                & OA6                 & Osteo               & high               \\\\\n",
       "\t NUID-0000-0163-0780 & 8                   & OA6 FLS             & TNF                 & OA6                 & Osteo               & high               \\\\\n",
       "\\end{tabular}\n"
      ],
      "text/markdown": [
       "\n",
       "sample | passage | cell_line | stimulation | donor | disease | IL6 | \n",
       "|---|---|---|---|---|---|\n",
       "| NUID-0000-0163-0775 | 6                   | OA6 FLS             | TNF_IL17            | OA6                 | Osteo               | high                | \n",
       "| NUID-0000-0163-0776 | 7                   | OA6 FLS             | None                | OA6                 | Osteo               | high                | \n",
       "| NUID-0000-0163-0777 | 7                   | OA6 FLS             | TNF                 | OA6                 | Osteo               | high                | \n",
       "| NUID-0000-0163-0778 | 7                   | OA6 FLS             | TNF_IL17            | OA6                 | Osteo               | high                | \n",
       "| NUID-0000-0163-0779 | 8                   | OA6 FLS             | None                | OA6                 | Osteo               | high                | \n",
       "| NUID-0000-0163-0780 | 8                   | OA6 FLS             | TNF                 | OA6                 | Osteo               | high                | \n",
       "\n",
       "\n"
      ],
      "text/plain": [
       "  sample              passage cell_line stimulation donor disease IL6 \n",
       "1 NUID-0000-0163-0775 6       OA6 FLS   TNF_IL17    OA6   Osteo   high\n",
       "2 NUID-0000-0163-0776 7       OA6 FLS   None        OA6   Osteo   high\n",
       "3 NUID-0000-0163-0777 7       OA6 FLS   TNF         OA6   Osteo   high\n",
       "4 NUID-0000-0163-0778 7       OA6 FLS   TNF_IL17    OA6   Osteo   high\n",
       "5 NUID-0000-0163-0779 8       OA6 FLS   None        OA6   Osteo   high\n",
       "6 NUID-0000-0163-0780 8       OA6 FLS   TNF         OA6   Osteo   high"
      ]
     },
     "metadata": {},
     "output_type": "display_data"
    }
   ],
   "source": [
    "# -----------------------------------------------------------------------------\n",
    "# Retrieve the phenoData from a table.\n",
    "# Interesting variables:\n",
    "# ----------------------\n",
    "# BioSample.name\n",
    "# Passage\n",
    "# Cell.line.name\n",
    "# Stimulus\n",
    "# Donor\n",
    "# Disease\n",
    "# IL6\n",
    "\n",
    "meta <- read.delim(\n",
    "  file = \"data-raw/microarray-data-2/phenodata.txt\",\n",
    "  stringsAsFactors = FALSE\n",
    ")\n",
    "vars <- c(\n",
    "  \"Array.experiment.NUID\", \"BioSample.name\", \"Passage\", \"Cell.line.name\", \"Stimulus\", \"Donor\",\n",
    "  \"Disease\", \"IL6\"\n",
    ")\n",
    "meta <- meta[ , colnames(meta) %in% vars]\n",
    "\n",
    "# BL = Baseline = start of the experiment\n",
    "# none = no stimulation, end of the experiment\n",
    "meta[str_detect(meta$BioSample.name, \"BL\"), ]$Stimulus = \"Baseline\"\n",
    "meta[str_detect(meta$BioSample.name, \"none\"), ]$Stimulus = \"None\"\n",
    "meta$Disease = substr(meta$Disease, 1, 5)\n",
    "meta$Stimulus = str_replace(meta$Stimulus, \"\\\\+\", \"_\")\n",
    "for (v in vars) {\n",
    "  meta[, v] = as.factor(meta[, v])\n",
    "}\n",
    "\n",
    "meta <- clean_names(meta)\n",
    "meta$biosample_name <- NULL\n",
    "colnames(meta) <- c(\"sample\", \"passage\", \"cell_line\", \"stimulation\", \"donor\", \"disease\", \"IL6\")\n",
    "\n",
    "# Put meta in the same order as the CEL files.\n",
    "cel_samples <- str_split_fixed(str_split_fixed(CEL_FILES, \"cel/\", 2)[,2], \".cel\", 2)[,1]\n",
    "\n",
    "stopifnot(all(cel_samples == meta$samples))\n",
    "\n",
    "labs <- data.frame(\n",
    "  Columns = colnames(meta),\n",
    "  labelDescription = c(\n",
    "    \"Sample name\",\n",
    "    \"Passage number: 6, 7, or 8\",\n",
    "    \"Cell line name\",\n",
    "    \"Stimulus applied to the cells\",\n",
    "    \"Donor identifier: OA502, OA6, RA32, or RA449\",\n",
    "    \"Disease: Osteoarthritis or Rheumatoid arthritis\",\n",
    "    \"IL6 response: high or low\"\n",
    "  )\n",
    ")\n",
    "pd <- AnnotatedDataFrame(meta, labs)\n",
    "\n",
    "head(meta)"
   ]
  },
  {
   "cell_type": "code",
   "execution_count": 101,
   "metadata": {},
   "outputs": [],
   "source": [
    "meta_colors <- list(\n",
    "  \"stimulation\" = c(\n",
    "    \"Baseline\" = 'white',\n",
    "    \"None\"     = 'grey70',\n",
    "    \"TNF\"       = '#FEB24C',\n",
    "    \"TNF_IL17\"  = '#E31A1C'\n",
    "  )\n",
    ")"
   ]
  },
  {
   "cell_type": "code",
   "execution_count": 102,
   "metadata": {},
   "outputs": [
    {
     "data": {
      "text/html": [
       "<table>\n",
       "<thead><tr><th scope=col>sample</th><th scope=col>passage</th><th scope=col>cell_line</th><th scope=col>stimulation</th><th scope=col>donor</th><th scope=col>disease</th><th scope=col>IL6</th></tr></thead>\n",
       "<tbody>\n",
       "\t<tr><td>NUID-0000-0163-0775</td><td>6                  </td><td>OA6 FLS            </td><td>TNF_IL17           </td><td>OA6                </td><td>Osteo              </td><td>high               </td></tr>\n",
       "\t<tr><td>NUID-0000-0163-0776</td><td>7                  </td><td>OA6 FLS            </td><td>None               </td><td>OA6                </td><td>Osteo              </td><td>high               </td></tr>\n",
       "\t<tr><td>NUID-0000-0163-0777</td><td>7                  </td><td>OA6 FLS            </td><td>TNF                </td><td>OA6                </td><td>Osteo              </td><td>high               </td></tr>\n",
       "\t<tr><td>NUID-0000-0163-0778</td><td>7                  </td><td>OA6 FLS            </td><td>TNF_IL17           </td><td>OA6                </td><td>Osteo              </td><td>high               </td></tr>\n",
       "\t<tr><td>NUID-0000-0163-0779</td><td>8                  </td><td>OA6 FLS            </td><td>None               </td><td>OA6                </td><td>Osteo              </td><td>high               </td></tr>\n",
       "\t<tr><td>NUID-0000-0163-0780</td><td>8                  </td><td>OA6 FLS            </td><td>TNF                </td><td>OA6                </td><td>Osteo              </td><td>high               </td></tr>\n",
       "</tbody>\n",
       "</table>\n"
      ],
      "text/latex": [
       "\\begin{tabular}{r|lllllll}\n",
       " sample & passage & cell\\_line & stimulation & donor & disease & IL6\\\\\n",
       "\\hline\n",
       "\t NUID-0000-0163-0775 & 6                   & OA6 FLS             & TNF\\_IL17          & OA6                 & Osteo               & high               \\\\\n",
       "\t NUID-0000-0163-0776 & 7                   & OA6 FLS             & None                & OA6                 & Osteo               & high               \\\\\n",
       "\t NUID-0000-0163-0777 & 7                   & OA6 FLS             & TNF                 & OA6                 & Osteo               & high               \\\\\n",
       "\t NUID-0000-0163-0778 & 7                   & OA6 FLS             & TNF\\_IL17          & OA6                 & Osteo               & high               \\\\\n",
       "\t NUID-0000-0163-0779 & 8                   & OA6 FLS             & None                & OA6                 & Osteo               & high               \\\\\n",
       "\t NUID-0000-0163-0780 & 8                   & OA6 FLS             & TNF                 & OA6                 & Osteo               & high               \\\\\n",
       "\\end{tabular}\n"
      ],
      "text/markdown": [
       "\n",
       "sample | passage | cell_line | stimulation | donor | disease | IL6 | \n",
       "|---|---|---|---|---|---|\n",
       "| NUID-0000-0163-0775 | 6                   | OA6 FLS             | TNF_IL17            | OA6                 | Osteo               | high                | \n",
       "| NUID-0000-0163-0776 | 7                   | OA6 FLS             | None                | OA6                 | Osteo               | high                | \n",
       "| NUID-0000-0163-0777 | 7                   | OA6 FLS             | TNF                 | OA6                 | Osteo               | high                | \n",
       "| NUID-0000-0163-0778 | 7                   | OA6 FLS             | TNF_IL17            | OA6                 | Osteo               | high                | \n",
       "| NUID-0000-0163-0779 | 8                   | OA6 FLS             | None                | OA6                 | Osteo               | high                | \n",
       "| NUID-0000-0163-0780 | 8                   | OA6 FLS             | TNF                 | OA6                 | Osteo               | high                | \n",
       "\n",
       "\n"
      ],
      "text/plain": [
       "  sample              passage cell_line stimulation donor disease IL6 \n",
       "1 NUID-0000-0163-0775 6       OA6 FLS   TNF_IL17    OA6   Osteo   high\n",
       "2 NUID-0000-0163-0776 7       OA6 FLS   None        OA6   Osteo   high\n",
       "3 NUID-0000-0163-0777 7       OA6 FLS   TNF         OA6   Osteo   high\n",
       "4 NUID-0000-0163-0778 7       OA6 FLS   TNF_IL17    OA6   Osteo   high\n",
       "5 NUID-0000-0163-0779 8       OA6 FLS   None        OA6   Osteo   high\n",
       "6 NUID-0000-0163-0780 8       OA6 FLS   TNF         OA6   Osteo   high"
      ]
     },
     "metadata": {},
     "output_type": "display_data"
    }
   ],
   "source": [
    "head(meta)"
   ]
  },
  {
   "cell_type": "code",
   "execution_count": 103,
   "metadata": {},
   "outputs": [
    {
     "name": "stdout",
     "output_type": "stream",
     "text": [
      "NUID-0000-0163-0775.cel.gz\n",
      "NUID-0000-0163-0776.cel.gz\n",
      "NUID-0000-0163-0777.cel.gz\n",
      "NUID-0000-0163-0778.cel.gz\n",
      "NUID-0000-0163-0779.cel.gz\n",
      "NUID-0000-0163-0780.cel.gz\n",
      "NUID-0000-0163-0781.cel.gz\n",
      "NUID-0000-0163-0782.cel.gz\n",
      "NUID-0000-0163-0783.cel.gz\n",
      "NUID-0000-0163-0784.cel.gz\n",
      "NUID-0000-0163-0785.cel.gz\n",
      "NUID-0000-0163-0786.cel.gz\n",
      "NUID-0000-0163-0787.cel.gz\n",
      "NUID-0000-0163-0788.cel.gz\n",
      "NUID-0000-0163-0789.cel.gz\n",
      "NUID-0000-0163-0790.cel.gz\n",
      "NUID-0000-0163-0791.cel.gz\n",
      "NUID-0000-0163-0792.cel.gz\n",
      "NUID-0000-0163-0793.cel.gz\n",
      "NUID-0000-0163-0794.cel.gz\n",
      "NUID-0000-0163-0795.cel.gz\n",
      "NUID-0000-0163-0796.cel.gz\n",
      "NUID-0000-0163-0797.cel.gz\n",
      "NUID-0000-0163-0798.cel.gz\n",
      "NUID-0000-0163-0799.cel.gz\n",
      "NUID-0000-0163-0800.cel.gz\n",
      "NUID-0000-0163-0801.cel.gz\n",
      "NUID-0000-0163-0802.cel.gz\n",
      "NUID-0000-0163-0803.cel.gz\n",
      "NUID-0000-0163-0804.cel.gz\n",
      "NUID-0000-0163-0805.cel.gz\n",
      "NUID-0000-0163-0806.cel.gz\n",
      "NUID-0000-0163-0807.cel.gz\n",
      "NUID-0000-0163-0808.cel.gz\n",
      "NUID-0000-0163-0809.cel.gz\n",
      "NUID-0000-0163-0810.cel.gz\n",
      "NUID-0000-0163-0811.cel.gz\n",
      "NUID-0000-0163-0812.cel.gz\n",
      "NUID-0000-0163-0813.cel.gz\n",
      "NUID-0000-0163-0814.cel.gz\n",
      "NUID-0000-0163-0815.cel.gz\n",
      "NUID-0000-0163-0816.cel.gz\n",
      "NUID-0000-0163-0817.cel.gz\n",
      "NUID-0000-0163-0818.cel.gz\n",
      "NUID-0000-0163-0819.cel.gz\n",
      "NUID-0000-0163-0820.cel.gz\n",
      "NUID-0000-0163-0821.cel.gz\n",
      "NUID-0000-0163-0822.cel.gz\n"
     ]
    }
   ],
   "source": [
    "cat(sprintf(\"%s.cel.gz\", meta$sample), sep = \"\\n\")"
   ]
  },
  {
   "cell_type": "code",
   "execution_count": 104,
   "metadata": {},
   "outputs": [
    {
     "data": {
      "image/png": "[encoded data removed]"
     },
     "metadata": {},
     "output_type": "display_data"
    }
   ],
   "source": [
    "p <- ggplot() +\n",
    "geom_point(\n",
    "  data = meta,\n",
    "  mapping = aes(x = passage, y = donor, group = stimulation, fill = stimulation),\n",
    "  shape = 21, stroke = 0.2,\n",
    "  size = 2.5,\n",
    "  position = position_dodge(width = 0.75)\n",
    ") +\n",
    "scale_fill_manual(\n",
    "  name = \"Stimulation\",\n",
    "  values = meta_colors$stimulation,\n",
    "  labels = c(\"Baseline\", \"None\", \"TNF\", \"TNF and IL-17A\")\n",
    ") +\n",
    "theme(\n",
    "  legend.background = element_rect(colour = \"grey80\", size = 0.1),\n",
    "  title = element_text(size = 11),\n",
    "  axis.ticks.length = unit(0, \"cm\"),\n",
    "  axis.text = element_text(size = 11, color = \"black\"),\n",
    "  legend.text = element_text(size = 11),\n",
    "  panel.border = element_blank(),\n",
    "  axis.line.x = element_blank(),\n",
    "  axis.line.y = element_blank(),\n",
    "  axis.ticks = element_blank()\n",
    ") +\n",
    "labs(title = \"Microarray Data 2\", x = \"Passage\", y = NULL)\n",
    "\n",
    "options(repr.plot.width = 4, repr.plot.height = 1.7)\n",
    "show_plot(p, name = \"microarray-data-2-design\")"
   ]
  },
  {
   "cell_type": "markdown",
   "metadata": {},
   "source": [
    "## Robust Multi-array Averaging (RMA)"
   ]
  },
  {
   "cell_type": "code",
   "execution_count": 105,
   "metadata": {},
   "outputs": [
    {
     "name": "stderr",
     "output_type": "stream",
     "text": [
      "Platform design info loaded.\n"
     ]
    },
    {
     "name": "stdout",
     "output_type": "stream",
     "text": [
      "Reading in : data-raw/microarray-data-2/cel/NUID-0000-0163-0775.cel.gz\n",
      "Reading in : data-raw/microarray-data-2/cel/NUID-0000-0163-0776.cel.gz\n",
      "Reading in : data-raw/microarray-data-2/cel/NUID-0000-0163-0777.cel.gz\n",
      "Reading in : data-raw/microarray-data-2/cel/NUID-0000-0163-0778.cel.gz\n",
      "Reading in : data-raw/microarray-data-2/cel/NUID-0000-0163-0779.cel.gz\n",
      "Reading in : data-raw/microarray-data-2/cel/NUID-0000-0163-0780.cel.gz\n",
      "Reading in : data-raw/microarray-data-2/cel/NUID-0000-0163-0781.cel.gz\n",
      "Reading in : data-raw/microarray-data-2/cel/NUID-0000-0163-0782.cel.gz\n",
      "Reading in : data-raw/microarray-data-2/cel/NUID-0000-0163-0783.cel.gz\n",
      "Reading in : data-raw/microarray-data-2/cel/NUID-0000-0163-0784.cel.gz\n",
      "Reading in : data-raw/microarray-data-2/cel/NUID-0000-0163-0785.cel.gz\n",
      "Reading in : data-raw/microarray-data-2/cel/NUID-0000-0163-0786.cel.gz\n",
      "Reading in : data-raw/microarray-data-2/cel/NUID-0000-0163-0787.cel.gz\n",
      "Reading in : data-raw/microarray-data-2/cel/NUID-0000-0163-0788.cel.gz\n",
      "Reading in : data-raw/microarray-data-2/cel/NUID-0000-0163-0789.cel.gz\n",
      "Reading in : data-raw/microarray-data-2/cel/NUID-0000-0163-0790.cel.gz\n",
      "Reading in : data-raw/microarray-data-2/cel/NUID-0000-0163-0791.cel.gz\n",
      "Reading in : data-raw/microarray-data-2/cel/NUID-0000-0163-0792.cel.gz\n",
      "Reading in : data-raw/microarray-data-2/cel/NUID-0000-0163-0793.cel.gz\n",
      "Reading in : data-raw/microarray-data-2/cel/NUID-0000-0163-0794.cel.gz\n",
      "Reading in : data-raw/microarray-data-2/cel/NUID-0000-0163-0795.cel.gz\n",
      "Reading in : data-raw/microarray-data-2/cel/NUID-0000-0163-0796.cel.gz\n",
      "Reading in : data-raw/microarray-data-2/cel/NUID-0000-0163-0797.cel.gz\n",
      "Reading in : data-raw/microarray-data-2/cel/NUID-0000-0163-0798.cel.gz\n",
      "Reading in : data-raw/microarray-data-2/cel/NUID-0000-0163-0799.cel.gz\n",
      "Reading in : data-raw/microarray-data-2/cel/NUID-0000-0163-0800.cel.gz\n",
      "Reading in : data-raw/microarray-data-2/cel/NUID-0000-0163-0801.cel.gz\n",
      "Reading in : data-raw/microarray-data-2/cel/NUID-0000-0163-0802.cel.gz\n",
      "Reading in : data-raw/microarray-data-2/cel/NUID-0000-0163-0803.cel.gz\n",
      "Reading in : data-raw/microarray-data-2/cel/NUID-0000-0163-0804.cel.gz\n",
      "Reading in : data-raw/microarray-data-2/cel/NUID-0000-0163-0805.cel.gz\n",
      "Reading in : data-raw/microarray-data-2/cel/NUID-0000-0163-0806.cel.gz\n",
      "Reading in : data-raw/microarray-data-2/cel/NUID-0000-0163-0807.cel.gz\n",
      "Reading in : data-raw/microarray-data-2/cel/NUID-0000-0163-0808.cel.gz\n",
      "Reading in : data-raw/microarray-data-2/cel/NUID-0000-0163-0809.cel.gz\n",
      "Reading in : data-raw/microarray-data-2/cel/NUID-0000-0163-0810.cel.gz\n",
      "Reading in : data-raw/microarray-data-2/cel/NUID-0000-0163-0811.cel.gz\n",
      "Reading in : data-raw/microarray-data-2/cel/NUID-0000-0163-0812.cel.gz\n",
      "Reading in : data-raw/microarray-data-2/cel/NUID-0000-0163-0813.cel.gz\n",
      "Reading in : data-raw/microarray-data-2/cel/NUID-0000-0163-0814.cel.gz\n",
      "Reading in : data-raw/microarray-data-2/cel/NUID-0000-0163-0815.cel.gz\n",
      "Reading in : data-raw/microarray-data-2/cel/NUID-0000-0163-0816.cel.gz\n",
      "Reading in : data-raw/microarray-data-2/cel/NUID-0000-0163-0817.cel.gz\n",
      "Reading in : data-raw/microarray-data-2/cel/NUID-0000-0163-0818.cel.gz\n",
      "Reading in : data-raw/microarray-data-2/cel/NUID-0000-0163-0819.cel.gz\n",
      "Reading in : data-raw/microarray-data-2/cel/NUID-0000-0163-0820.cel.gz\n",
      "Reading in : data-raw/microarray-data-2/cel/NUID-0000-0163-0821.cel.gz\n",
      "Reading in : data-raw/microarray-data-2/cel/NUID-0000-0163-0822.cel.gz\n"
     ]
    },
    {
     "name": "stderr",
     "output_type": "stream",
     "text": [
      "Warning message in oligo::read.celfiles(CEL_FILES, phenoData = pd):\n",
      "“'channel' automatically added to varMetadata in phenoData.”"
     ]
    },
    {
     "name": "stdout",
     "output_type": "stream",
     "text": [
      "Background correcting\n",
      "Normalizing\n",
      "Calculating Expression\n"
     ]
    },
    {
     "name": "stderr",
     "output_type": "stream",
     "text": [
      "Background correcting... OK\n",
      "Normalizing... OK\n",
      "Summarizing... OK\n",
      "Extracting...\n",
      "  Estimates... OK\n",
      "  StdErrors... OK\n",
      "  Weights..... OK\n",
      "  Residuals... OK\n",
      "  Scale....... OK\n"
     ]
    }
   ],
   "source": [
    "microarray_data_file <- \"data/microarray-data-2.rda\"\n",
    "\n",
    "if (file.exists(microarray_data_file)) {\n",
    "  load(microarray_data_file)\n",
    "} else {\n",
    "  rawData <- oligo::read.celfiles(CEL_FILES, phenoData = pd)\n",
    "  rmaData <- oligo::rma(rawData)\n",
    "  plmFit  <- oligo::fitProbeLevelModel(rawData)\n",
    "  save(list = c(\"rawData\", \"rmaData\", \"plmFit\"), file = microarray_data_file)\n",
    "}\n",
    "\n",
    "rmaExp <- exprs(rmaData)"
   ]
  },
  {
   "cell_type": "code",
   "execution_count": 106,
   "metadata": {},
   "outputs": [
    {
     "ename": "ERROR",
     "evalue": "Error in file(con, \"rb\"): cannot open the connection\n",
     "output_type": "error",
     "traceback": [
      "Error in file(con, \"rb\"): cannot open the connection\nTraceback:\n"
     ]
    },
    {
     "data": {
      "text/plain": [
       "Plot with title “Raw Data”"
      ]
     },
     "metadata": {},
     "output_type": "display_data"
    },
    {
     "ename": "ERROR",
     "evalue": "Error in file(con, \"rb\"): cannot open the connection\n",
     "output_type": "error",
     "traceback": [
      "Error in file(con, \"rb\"): cannot open the connection\nTraceback:\n"
     ]
    },
    {
     "data": {
      "text/plain": [
       "Plot with title “RMA Data”"
      ]
     },
     "metadata": {},
     "output_type": "display_data"
    }
   ],
   "source": [
    "options(repr.plot.width = 6.5, repr.plot.height = 3)\n",
    "\n",
    "boxplot(rawData, main = \"Raw Data\", cex.axis = 1.2, cex.lab = 1.2, target = \"core\")\n",
    "\n",
    "boxplot(rmaData, main = \"RMA Data\", cex.axis = 1.2, cex.lab = 1.2, target = \"core\")"
   ]
  },
  {
   "cell_type": "code",
   "execution_count": 16,
   "metadata": {},
   "outputs": [
    {
     "data": {
      "image/png": "[encoded data removed]",
      "text/plain": [
       "Plot with title “PLM”"
      ]
     },
     "metadata": {},
     "output_type": "display_data"
    },
    {
     "data": {
      "image/png": "[encoded data removed]",
      "text/plain": [
       "plot without title"
      ]
     },
     "metadata": {},
     "output_type": "display_data"
    }
   ],
   "source": [
    "# Normalized Unscaled Standard-Errors (NUSE), should be distributed around 1\n",
    "NUSE(plmFit, main = \"PLM\", cex.axis = 1.2, cex.lab = 1.2)\n",
    "\n",
    "# Relative Log-Expression (RLE), should be distributed around 0\n",
    "RLE(plmFit, cex.axis = 1.2, cex.lab = 1.2)"
   ]
  },
  {
   "cell_type": "code",
   "execution_count": 17,
   "metadata": {},
   "outputs": [
    {
     "data": {
      "text/html": [
       "<table>\n",
       "<thead><tr><th></th><th scope=col>1</th><th scope=col>2</th><th scope=col>3</th><th scope=col>4</th><th scope=col>5</th></tr></thead>\n",
       "<tbody>\n",
       "\t<tr><th scope=row>1007_s_at</th><td>9.333330</td><td>9.336766</td><td>9.200997</td><td>9.336742</td><td>9.811173</td></tr>\n",
       "\t<tr><th scope=row>1053_at</th><td>8.967804</td><td>8.360850</td><td>8.641779</td><td>8.259643</td><td>8.588528</td></tr>\n",
       "\t<tr><th scope=row>117_at</th><td>6.732569</td><td>6.636760</td><td>6.347943</td><td>6.404281</td><td>6.326498</td></tr>\n",
       "\t<tr><th scope=row>121_at</th><td>6.971258</td><td>6.456208</td><td>6.924206</td><td>7.016922</td><td>6.508583</td></tr>\n",
       "\t<tr><th scope=row>1255_g_at</th><td>3.416362</td><td>3.365297</td><td>3.198647</td><td>3.213606</td><td>3.525532</td></tr>\n",
       "</tbody>\n",
       "</table>\n"
      ],
      "text/latex": [
       "\\begin{tabular}{r|lllll}\n",
       "  & 1 & 2 & 3 & 4 & 5\\\\\n",
       "\\hline\n",
       "\t1007\\_s\\_at & 9.333330 & 9.336766 & 9.200997 & 9.336742 & 9.811173\\\\\n",
       "\t1053\\_at & 8.967804 & 8.360850 & 8.641779 & 8.259643 & 8.588528\\\\\n",
       "\t117\\_at & 6.732569 & 6.636760 & 6.347943 & 6.404281 & 6.326498\\\\\n",
       "\t121\\_at & 6.971258 & 6.456208 & 6.924206 & 7.016922 & 6.508583\\\\\n",
       "\t1255\\_g\\_at & 3.416362 & 3.365297 & 3.198647 & 3.213606 & 3.525532\\\\\n",
       "\\end{tabular}\n"
      ],
      "text/markdown": [
       "\n",
       "| <!--/--> | 1 | 2 | 3 | 4 | 5 | \n",
       "|---|---|---|---|---|\n",
       "| 1007_s_at | 9.333330 | 9.336766 | 9.200997 | 9.336742 | 9.811173 | \n",
       "| 1053_at | 8.967804 | 8.360850 | 8.641779 | 8.259643 | 8.588528 | \n",
       "| 117_at | 6.732569 | 6.636760 | 6.347943 | 6.404281 | 6.326498 | \n",
       "| 121_at | 6.971258 | 6.456208 | 6.924206 | 7.016922 | 6.508583 | \n",
       "| 1255_g_at | 3.416362 | 3.365297 | 3.198647 | 3.213606 | 3.525532 | \n",
       "\n",
       "\n"
      ],
      "text/plain": [
       "          1        2        3        4        5       \n",
       "1007_s_at 9.333330 9.336766 9.200997 9.336742 9.811173\n",
       "1053_at   8.967804 8.360850 8.641779 8.259643 8.588528\n",
       "117_at    6.732569 6.636760 6.347943 6.404281 6.326498\n",
       "121_at    6.971258 6.456208 6.924206 7.016922 6.508583\n",
       "1255_g_at 3.416362 3.365297 3.198647 3.213606 3.525532"
      ]
     },
     "metadata": {},
     "output_type": "display_data"
    }
   ],
   "source": [
    "rmaExp[1:5,1:5]"
   ]
  },
  {
   "cell_type": "markdown",
   "metadata": {},
   "source": [
    "## BioMart takes 30-40 minutes\n",
    "\n",
    "Running on `cn003` and should be done sometime today...."
   ]
  },
  {
   "cell_type": "code",
   "execution_count": 18,
   "metadata": {},
   "outputs": [],
   "source": [
    "# mart_dat_file <- \"data/microarray-data-2-biomart.rds\"\n",
    "\n",
    "# array_name <- \"affy_hg_u133_plus_2\"\n",
    "\n",
    "# if (file.exists(mart_dat_file)) {\n",
    "#   mart_dat <- readRDS(mart_dat_file)\n",
    "# } else {\n",
    "#   mart <- useMart(\"ensembl\", dataset=\"hsapiens_gene_ensembl\")\n",
    "#   mart_dat <- getBM(\n",
    "#     mart       = mart,\n",
    "#     values     = rownames(rmaData),\n",
    "#     filters    = c(array_name),\n",
    "#     attributes = c(\n",
    "#       array_name,\n",
    "#       \"gene_biotype\", \"chromosome_name\", \"start_position\", \"end_position\", \"strand\",\n",
    "#       \"ensembl_gene_id\", \"entrezgene\", \"hgnc_id\", \"hgnc_symbol\"\n",
    "#     )\n",
    "#   )\n",
    "#   saveRDS(mart_dat, mart_dat_file)\n",
    "# }\n",
    "\n",
    "# allowed_biotypes <- c(\"protein_coding\", \"lincRNA\")\n",
    "# mart_dat <- subset(mart_dat, gene_biotype %in% allowed_biotypes)\n",
    "\n",
    "# # Filter out patches, contigs, and novel segments.\n",
    "# allowed_chroms <- as.character(c(1:22, \"X\", \"Y\", \"MT\"))\n",
    "# mart_dat <- subset(mart_dat, chromosome_name %in% allowed_chroms)\n",
    "\n",
    "# # How many probesets do not map to an Ensembl Gene ID?\n",
    "# mart_dat <- unique(mart_dat[!is.na(mart_dat$ensembl_gene_id), ])\n",
    "\n",
    "# # Dictionaries for converting probeset identifiers to other identifiers.\n",
    "# probeset_to_ensembl <- split(mart_dat$ensembl_gene_id, mart_dat[[array_name]])\n",
    "# probeset_to_ensembl <- sapply(probeset_to_ensembl, paste, collapse = ';')\n",
    "# # Exclude probesets that map to multiple Ensembl IDs.\n",
    "# probeset_to_ensembl <- probeset_to_ensembl[grep(\";\", probeset_to_ensembl, invert = TRUE)]\n",
    "# message(length(probeset_to_ensembl), \" probesets with Ensembl Gene IDs\")\n",
    "\n",
    "# mart_dat <- mart_dat[mart_dat[[array_name]] %in% names(probeset_to_ensembl),]\n",
    "# message(nrow(mart_dat), \" rows in mart_dat\")\n",
    "\n",
    "# probeset_to_symbol <- split(mart_dat$hgnc_symbol, mart_dat[[array_name]])\n",
    "# probeset_to_symbol <- sapply(probeset_to_symbol, function(x) { paste(unique(x), collapse = ';') })\n",
    "# print(head(probeset_to_symbol))\n",
    "\n",
    "# # ensembl_to_symbol <- unlist(split(mart_dat$hgnc_symbol, mart_dat$ensembl_gene_id))\n",
    "# ensembl_to_symbol <- with(unique(mart_dat[,c(\"hgnc_symbol\", \"ensembl_gene_id\")]), unlist(split(hgnc_symbol, ensembl_gene_id)))\n",
    "# print(head(ensembl_to_symbol))"
   ]
  },
  {
   "cell_type": "code",
   "execution_count": 19,
   "metadata": {},
   "outputs": [],
   "source": [
    "# genes <- readr::read_tsv(\"data-raw/microarray-data-2/pilot_annotations.txt.gz\")\n",
    "\n",
    "# head(genes)\n",
    "\n",
    "# # Dictionaries for converting probeset identifiers to other identifiers.\n",
    "# probeset_to_entrez <- split(genes$EntrezGeneID, genes$ProbesetID)\n",
    "# # probeset_to_entrez <- sapply(probeset_to_entrez, paste, collapse = ';')\n",
    "# # Exclude probesets that map to multiple Ensembl IDs.\n",
    "# # probeset_to_entrez <- probeset_to_entrez[grep(\";\", probeset_to_entrez, invert = TRUE)]\n",
    "# # message(length(probeset_to_entrez), \" probesets with Ensembl Gene IDs\")\n",
    "# probeset_to_entrez <- unlist(probeset_to_entrez)\n",
    "# x <- names(probeset_to_entrez)\n",
    "# probeset_to_entrez <- as.character(probeset_to_entrez)\n",
    "# names(probeset_to_entrez) <- x\n",
    "\n",
    "# length(probeset_to_entrez)\n",
    "\n",
    "# print(head(probeset_to_entrez))"
   ]
  },
  {
   "cell_type": "code",
   "execution_count": 20,
   "metadata": {},
   "outputs": [
    {
     "name": "stdout",
     "output_type": "stream",
     "text": [
      "          1053_at            117_at            121_at         1255_g_at \n",
      "\"ENSG00000049541\" \"ENSG00000173110\" \"ENSG00000125618\" \"ENSG00000048545\" \n",
      "          1316_at           1320_at \n",
      "\"ENSG00000126351\" \"ENSG00000070778\" \n"
     ]
    }
   ],
   "source": [
    "probeset_to_ensembl <- unlist(as.list(hgu133plus2ENSEMBL[mappedkeys(hgu133plus2ENSEMBL)]))\n",
    "print(head(probeset_to_ensembl))\n",
    "\n",
    "# hgu133plus2_dbInfo()"
   ]
  },
  {
   "cell_type": "code",
   "execution_count": 21,
   "metadata": {},
   "outputs": [
    {
     "data": {
      "text/html": [
       "<table>\n",
       "<thead><tr><th></th><th scope=col>1</th><th scope=col>2</th><th scope=col>3</th><th scope=col>4</th><th scope=col>5</th></tr></thead>\n",
       "<tbody>\n",
       "\t<tr><th scope=row>1007_s_at</th><td>9.333330</td><td>9.336766</td><td>9.200997</td><td>9.336742</td><td>9.811173</td></tr>\n",
       "\t<tr><th scope=row>1053_at</th><td>8.967804</td><td>8.360850</td><td>8.641779</td><td>8.259643</td><td>8.588528</td></tr>\n",
       "\t<tr><th scope=row>117_at</th><td>6.732569</td><td>6.636760</td><td>6.347943</td><td>6.404281</td><td>6.326498</td></tr>\n",
       "\t<tr><th scope=row>121_at</th><td>6.971258</td><td>6.456208</td><td>6.924206</td><td>7.016922</td><td>6.508583</td></tr>\n",
       "\t<tr><th scope=row>1255_g_at</th><td>3.416362</td><td>3.365297</td><td>3.198647</td><td>3.213606</td><td>3.525532</td></tr>\n",
       "</tbody>\n",
       "</table>\n"
      ],
      "text/latex": [
       "\\begin{tabular}{r|lllll}\n",
       "  & 1 & 2 & 3 & 4 & 5\\\\\n",
       "\\hline\n",
       "\t1007\\_s\\_at & 9.333330 & 9.336766 & 9.200997 & 9.336742 & 9.811173\\\\\n",
       "\t1053\\_at & 8.967804 & 8.360850 & 8.641779 & 8.259643 & 8.588528\\\\\n",
       "\t117\\_at & 6.732569 & 6.636760 & 6.347943 & 6.404281 & 6.326498\\\\\n",
       "\t121\\_at & 6.971258 & 6.456208 & 6.924206 & 7.016922 & 6.508583\\\\\n",
       "\t1255\\_g\\_at & 3.416362 & 3.365297 & 3.198647 & 3.213606 & 3.525532\\\\\n",
       "\\end{tabular}\n"
      ],
      "text/markdown": [
       "\n",
       "| <!--/--> | 1 | 2 | 3 | 4 | 5 | \n",
       "|---|---|---|---|---|\n",
       "| 1007_s_at | 9.333330 | 9.336766 | 9.200997 | 9.336742 | 9.811173 | \n",
       "| 1053_at | 8.967804 | 8.360850 | 8.641779 | 8.259643 | 8.588528 | \n",
       "| 117_at | 6.732569 | 6.636760 | 6.347943 | 6.404281 | 6.326498 | \n",
       "| 121_at | 6.971258 | 6.456208 | 6.924206 | 7.016922 | 6.508583 | \n",
       "| 1255_g_at | 3.416362 | 3.365297 | 3.198647 | 3.213606 | 3.525532 | \n",
       "\n",
       "\n"
      ],
      "text/plain": [
       "          1        2        3        4        5       \n",
       "1007_s_at 9.333330 9.336766 9.200997 9.336742 9.811173\n",
       "1053_at   8.967804 8.360850 8.641779 8.259643 8.588528\n",
       "117_at    6.732569 6.636760 6.347943 6.404281 6.326498\n",
       "121_at    6.971258 6.456208 6.924206 7.016922 6.508583\n",
       "1255_g_at 3.416362 3.365297 3.198647 3.213606 3.525532"
      ]
     },
     "metadata": {},
     "output_type": "display_data"
    }
   ],
   "source": [
    "rmaExp[1:5,1:5]"
   ]
  },
  {
   "cell_type": "code",
   "execution_count": 22,
   "metadata": {},
   "outputs": [
    {
     "data": {
      "text/plain": [
       "\n",
       "FALSE  TRUE \n",
       "16226 38449 "
      ]
     },
     "metadata": {},
     "output_type": "display_data"
    }
   ],
   "source": [
    "table(rownames(rmaData) %in% names(probeset_to_ensembl))"
   ]
  },
  {
   "cell_type": "code",
   "execution_count": 23,
   "metadata": {},
   "outputs": [
    {
     "data": {
      "text/html": [
       "<table>\n",
       "<thead><tr><th scope=col>1</th><th scope=col>2</th><th scope=col>3</th><th scope=col>4</th><th scope=col>5</th><th scope=col>6</th><th scope=col>7</th><th scope=col>8</th><th scope=col>9</th><th scope=col>10</th><th scope=col>⋯</th><th scope=col>39</th><th scope=col>40</th><th scope=col>41</th><th scope=col>42</th><th scope=col>43</th><th scope=col>44</th><th scope=col>45</th><th scope=col>46</th><th scope=col>47</th><th scope=col>48</th></tr></thead>\n",
       "<tbody>\n",
       "\t<tr><td>8.967804</td><td>8.360850</td><td>8.641779</td><td>8.259643</td><td>8.588528</td><td>8.674981</td><td>8.024302</td><td>9.209920</td><td>8.686837</td><td>9.186001</td><td>⋯       </td><td>8.550275</td><td>8.693810</td><td>8.454054</td><td>8.288221</td><td>8.413368</td><td>8.674400</td><td>9.494072</td><td>8.738919</td><td>8.584290</td><td>9.161270</td></tr>\n",
       "\t<tr><td>6.732569</td><td>6.636760</td><td>6.347943</td><td>6.404281</td><td>6.326498</td><td>6.239869</td><td>6.336845</td><td>6.155588</td><td>6.047753</td><td>6.412371</td><td>⋯       </td><td>6.695840</td><td>6.371869</td><td>6.478002</td><td>6.583971</td><td>6.548206</td><td>6.379311</td><td>6.348367</td><td>6.302606</td><td>6.599044</td><td>6.406307</td></tr>\n",
       "\t<tr><td>6.971258</td><td>6.456208</td><td>6.924206</td><td>7.016922</td><td>6.508583</td><td>6.878497</td><td>6.858650</td><td>7.084958</td><td>6.821011</td><td>6.500524</td><td>⋯       </td><td>7.900827</td><td>8.215148</td><td>7.969196</td><td>6.453448</td><td>6.851222</td><td>6.631985</td><td>6.483845</td><td>7.640759</td><td>6.888262</td><td>7.083837</td></tr>\n",
       "\t<tr><td>3.416362</td><td>3.365297</td><td>3.198647</td><td>3.213606</td><td>3.525532</td><td>3.330208</td><td>3.339503</td><td>3.077578</td><td>3.403104</td><td>2.949193</td><td>⋯       </td><td>3.131003</td><td>3.741301</td><td>3.582748</td><td>3.039479</td><td>3.190704</td><td>3.290868</td><td>2.869937</td><td>3.303229</td><td>3.343694</td><td>3.184514</td></tr>\n",
       "\t<tr><td>7.899306</td><td>7.776464</td><td>7.893956</td><td>7.579777</td><td>7.704503</td><td>7.700098</td><td>7.645179</td><td>7.639257</td><td>7.623793</td><td>7.987101</td><td>⋯       </td><td>8.579588</td><td>8.304741</td><td>8.364008</td><td>8.507282</td><td>8.628566</td><td>8.046530</td><td>8.348418</td><td>8.888798</td><td>8.790061</td><td>7.990406</td></tr>\n",
       "\t<tr><td>6.187971</td><td>6.469448</td><td>6.388923</td><td>6.120907</td><td>6.712164</td><td>6.191678</td><td>6.061852</td><td>6.100152</td><td>5.960702</td><td>6.734348</td><td>⋯       </td><td>6.532211</td><td>6.673362</td><td>6.239626</td><td>6.821790</td><td>6.640175</td><td>6.775447</td><td>6.402095</td><td>6.372041</td><td>6.419643</td><td>6.344750</td></tr>\n",
       "</tbody>\n",
       "</table>\n"
      ],
      "text/latex": [
       "\\begin{tabular}{r|llllllllllllllllllllllllllllllllllllllllllllllll}\n",
       " 1 & 2 & 3 & 4 & 5 & 6 & 7 & 8 & 9 & 10 & ⋯ & 39 & 40 & 41 & 42 & 43 & 44 & 45 & 46 & 47 & 48\\\\\n",
       "\\hline\n",
       "\t 8.967804 & 8.360850 & 8.641779 & 8.259643 & 8.588528 & 8.674981 & 8.024302 & 9.209920 & 8.686837 & 9.186001 & ⋯        & 8.550275 & 8.693810 & 8.454054 & 8.288221 & 8.413368 & 8.674400 & 9.494072 & 8.738919 & 8.584290 & 9.161270\\\\\n",
       "\t 6.732569 & 6.636760 & 6.347943 & 6.404281 & 6.326498 & 6.239869 & 6.336845 & 6.155588 & 6.047753 & 6.412371 & ⋯        & 6.695840 & 6.371869 & 6.478002 & 6.583971 & 6.548206 & 6.379311 & 6.348367 & 6.302606 & 6.599044 & 6.406307\\\\\n",
       "\t 6.971258 & 6.456208 & 6.924206 & 7.016922 & 6.508583 & 6.878497 & 6.858650 & 7.084958 & 6.821011 & 6.500524 & ⋯        & 7.900827 & 8.215148 & 7.969196 & 6.453448 & 6.851222 & 6.631985 & 6.483845 & 7.640759 & 6.888262 & 7.083837\\\\\n",
       "\t 3.416362 & 3.365297 & 3.198647 & 3.213606 & 3.525532 & 3.330208 & 3.339503 & 3.077578 & 3.403104 & 2.949193 & ⋯        & 3.131003 & 3.741301 & 3.582748 & 3.039479 & 3.190704 & 3.290868 & 2.869937 & 3.303229 & 3.343694 & 3.184514\\\\\n",
       "\t 7.899306 & 7.776464 & 7.893956 & 7.579777 & 7.704503 & 7.700098 & 7.645179 & 7.639257 & 7.623793 & 7.987101 & ⋯        & 8.579588 & 8.304741 & 8.364008 & 8.507282 & 8.628566 & 8.046530 & 8.348418 & 8.888798 & 8.790061 & 7.990406\\\\\n",
       "\t 6.187971 & 6.469448 & 6.388923 & 6.120907 & 6.712164 & 6.191678 & 6.061852 & 6.100152 & 5.960702 & 6.734348 & ⋯        & 6.532211 & 6.673362 & 6.239626 & 6.821790 & 6.640175 & 6.775447 & 6.402095 & 6.372041 & 6.419643 & 6.344750\\\\\n",
       "\\end{tabular}\n"
      ],
      "text/markdown": [
       "\n",
       "1 | 2 | 3 | 4 | 5 | 6 | 7 | 8 | 9 | 10 | ⋯ | 39 | 40 | 41 | 42 | 43 | 44 | 45 | 46 | 47 | 48 | \n",
       "|---|---|---|---|---|---|\n",
       "| 8.967804 | 8.360850 | 8.641779 | 8.259643 | 8.588528 | 8.674981 | 8.024302 | 9.209920 | 8.686837 | 9.186001 | ⋯        | 8.550275 | 8.693810 | 8.454054 | 8.288221 | 8.413368 | 8.674400 | 9.494072 | 8.738919 | 8.584290 | 9.161270 | \n",
       "| 6.732569 | 6.636760 | 6.347943 | 6.404281 | 6.326498 | 6.239869 | 6.336845 | 6.155588 | 6.047753 | 6.412371 | ⋯        | 6.695840 | 6.371869 | 6.478002 | 6.583971 | 6.548206 | 6.379311 | 6.348367 | 6.302606 | 6.599044 | 6.406307 | \n",
       "| 6.971258 | 6.456208 | 6.924206 | 7.016922 | 6.508583 | 6.878497 | 6.858650 | 7.084958 | 6.821011 | 6.500524 | ⋯        | 7.900827 | 8.215148 | 7.969196 | 6.453448 | 6.851222 | 6.631985 | 6.483845 | 7.640759 | 6.888262 | 7.083837 | \n",
       "| 3.416362 | 3.365297 | 3.198647 | 3.213606 | 3.525532 | 3.330208 | 3.339503 | 3.077578 | 3.403104 | 2.949193 | ⋯        | 3.131003 | 3.741301 | 3.582748 | 3.039479 | 3.190704 | 3.290868 | 2.869937 | 3.303229 | 3.343694 | 3.184514 | \n",
       "| 7.899306 | 7.776464 | 7.893956 | 7.579777 | 7.704503 | 7.700098 | 7.645179 | 7.639257 | 7.623793 | 7.987101 | ⋯        | 8.579588 | 8.304741 | 8.364008 | 8.507282 | 8.628566 | 8.046530 | 8.348418 | 8.888798 | 8.790061 | 7.990406 | \n",
       "| 6.187971 | 6.469448 | 6.388923 | 6.120907 | 6.712164 | 6.191678 | 6.061852 | 6.100152 | 5.960702 | 6.734348 | ⋯        | 6.532211 | 6.673362 | 6.239626 | 6.821790 | 6.640175 | 6.775447 | 6.402095 | 6.372041 | 6.419643 | 6.344750 | \n",
       "\n",
       "\n"
      ],
      "text/plain": [
       "  1        2        3        4        5        6        7        8       \n",
       "1 8.967804 8.360850 8.641779 8.259643 8.588528 8.674981 8.024302 9.209920\n",
       "2 6.732569 6.636760 6.347943 6.404281 6.326498 6.239869 6.336845 6.155588\n",
       "3 6.971258 6.456208 6.924206 7.016922 6.508583 6.878497 6.858650 7.084958\n",
       "4 3.416362 3.365297 3.198647 3.213606 3.525532 3.330208 3.339503 3.077578\n",
       "5 7.899306 7.776464 7.893956 7.579777 7.704503 7.700098 7.645179 7.639257\n",
       "6 6.187971 6.469448 6.388923 6.120907 6.712164 6.191678 6.061852 6.100152\n",
       "  9        10       ⋯ 39       40       41       42       43       44      \n",
       "1 8.686837 9.186001 ⋯ 8.550275 8.693810 8.454054 8.288221 8.413368 8.674400\n",
       "2 6.047753 6.412371 ⋯ 6.695840 6.371869 6.478002 6.583971 6.548206 6.379311\n",
       "3 6.821011 6.500524 ⋯ 7.900827 8.215148 7.969196 6.453448 6.851222 6.631985\n",
       "4 3.403104 2.949193 ⋯ 3.131003 3.741301 3.582748 3.039479 3.190704 3.290868\n",
       "5 7.623793 7.987101 ⋯ 8.579588 8.304741 8.364008 8.507282 8.628566 8.046530\n",
       "6 5.960702 6.734348 ⋯ 6.532211 6.673362 6.239626 6.821790 6.640175 6.775447\n",
       "  45       46       47       48      \n",
       "1 9.494072 8.738919 8.584290 9.161270\n",
       "2 6.348367 6.302606 6.599044 6.406307\n",
       "3 6.483845 7.640759 6.888262 7.083837\n",
       "4 2.869937 3.303229 3.343694 3.184514\n",
       "5 8.348418 8.888798 8.790061 7.990406\n",
       "6 6.402095 6.372041 6.419643 6.344750"
      ]
     },
     "metadata": {},
     "output_type": "display_data"
    },
    {
     "data": {
      "text/html": [
       "<ol class=list-inline>\n",
       "\t<li>54675</li>\n",
       "\t<li>48</li>\n",
       "</ol>\n"
      ],
      "text/latex": [
       "\\begin{enumerate*}\n",
       "\\item 54675\n",
       "\\item 48\n",
       "\\end{enumerate*}\n"
      ],
      "text/markdown": [
       "1. 54675\n",
       "2. 48\n",
       "\n",
       "\n"
      ],
      "text/plain": [
       "[1] 54675    48"
      ]
     },
     "metadata": {},
     "output_type": "display_data"
    },
    {
     "data": {
      "text/html": [
       "<ol class=list-inline>\n",
       "\t<li>18098</li>\n",
       "\t<li>49</li>\n",
       "</ol>\n"
      ],
      "text/latex": [
       "\\begin{enumerate*}\n",
       "\\item 18098\n",
       "\\item 49\n",
       "\\end{enumerate*}\n"
      ],
      "text/markdown": [
       "1. 18098\n",
       "2. 49\n",
       "\n",
       "\n"
      ],
      "text/plain": [
       "[1] 18098    49"
      ]
     },
     "metadata": {},
     "output_type": "display_data"
    }
   ],
   "source": [
    "dat <- rmaExp[rownames(rmaExp) %in% names(probeset_to_ensembl),]\n",
    "dat_rows <- rownames(dat)\n",
    "dat <- data.table(dat)\n",
    "head(dat)\n",
    "dat$agg_var <- probeset_to_ensembl[dat_rows]\n",
    "d_mean <- dat[, lapply(.SD, mean), by = agg_var, .SDcols = 1:48]\n",
    "\n",
    "dim(rmaExp)\n",
    "dim(d_mean)"
   ]
  },
  {
   "cell_type": "code",
   "execution_count": 24,
   "metadata": {},
   "outputs": [
    {
     "data": {
      "text/html": [
       "<table>\n",
       "<thead><tr><th></th><th scope=col>1</th><th scope=col>2</th><th scope=col>3</th><th scope=col>4</th><th scope=col>5</th></tr></thead>\n",
       "<tbody>\n",
       "\t<tr><th scope=row>ENSG00000049541</th><td>8.879701</td><td>8.229514</td><td>8.604127</td><td>8.318159</td><td>8.583540</td></tr>\n",
       "\t<tr><th scope=row>ENSG00000173110</th><td>6.760682</td><td>6.399005</td><td>6.186556</td><td>6.101994</td><td>6.139234</td></tr>\n",
       "\t<tr><th scope=row>ENSG00000125618</th><td>5.769516</td><td>5.627592</td><td>5.759441</td><td>5.928625</td><td>5.612206</td></tr>\n",
       "\t<tr><th scope=row>ENSG00000048545</th><td>4.239316</td><td>4.336656</td><td>4.076079</td><td>4.196081</td><td>4.327161</td></tr>\n",
       "\t<tr><th scope=row>ENSG00000126351</th><td>7.174974</td><td>7.397678</td><td>7.062165</td><td>7.208529</td><td>7.327084</td></tr>\n",
       "</tbody>\n",
       "</table>\n"
      ],
      "text/latex": [
       "\\begin{tabular}{r|lllll}\n",
       "  & 1 & 2 & 3 & 4 & 5\\\\\n",
       "\\hline\n",
       "\tENSG00000049541 & 8.879701 & 8.229514 & 8.604127 & 8.318159 & 8.583540\\\\\n",
       "\tENSG00000173110 & 6.760682 & 6.399005 & 6.186556 & 6.101994 & 6.139234\\\\\n",
       "\tENSG00000125618 & 5.769516 & 5.627592 & 5.759441 & 5.928625 & 5.612206\\\\\n",
       "\tENSG00000048545 & 4.239316 & 4.336656 & 4.076079 & 4.196081 & 4.327161\\\\\n",
       "\tENSG00000126351 & 7.174974 & 7.397678 & 7.062165 & 7.208529 & 7.327084\\\\\n",
       "\\end{tabular}\n"
      ],
      "text/markdown": [
       "\n",
       "| <!--/--> | 1 | 2 | 3 | 4 | 5 | \n",
       "|---|---|---|---|---|\n",
       "| ENSG00000049541 | 8.879701 | 8.229514 | 8.604127 | 8.318159 | 8.583540 | \n",
       "| ENSG00000173110 | 6.760682 | 6.399005 | 6.186556 | 6.101994 | 6.139234 | \n",
       "| ENSG00000125618 | 5.769516 | 5.627592 | 5.759441 | 5.928625 | 5.612206 | \n",
       "| ENSG00000048545 | 4.239316 | 4.336656 | 4.076079 | 4.196081 | 4.327161 | \n",
       "| ENSG00000126351 | 7.174974 | 7.397678 | 7.062165 | 7.208529 | 7.327084 | \n",
       "\n",
       "\n"
      ],
      "text/plain": [
       "                1        2        3        4        5       \n",
       "ENSG00000049541 8.879701 8.229514 8.604127 8.318159 8.583540\n",
       "ENSG00000173110 6.760682 6.399005 6.186556 6.101994 6.139234\n",
       "ENSG00000125618 5.769516 5.627592 5.759441 5.928625 5.612206\n",
       "ENSG00000048545 4.239316 4.336656 4.076079 4.196081 4.327161\n",
       "ENSG00000126351 7.174974 7.397678 7.062165 7.208529 7.327084"
      ]
     },
     "metadata": {},
     "output_type": "display_data"
    }
   ],
   "source": [
    "x <- as.matrix(d_mean[,-c(\"agg_var\")])\n",
    "rownames(x) <- d_mean$agg_var\n",
    "x <- x[!is.na(rownames(x)),]\n",
    "rmaExp <- x\n",
    "rm(x)\n",
    "\n",
    "rmaExp[1:5,1:5]"
   ]
  },
  {
   "cell_type": "code",
   "execution_count": 25,
   "metadata": {},
   "outputs": [
    {
     "name": "stdout",
     "output_type": "stream",
     "text": [
      "ENSG00000000003 ENSG00000000005 ENSG00000000419 ENSG00000000457 ENSG00000000460 \n",
      "       \"TSPAN6\"          \"TNMD\"          \"DPM1\"         \"SCYL3\"      \"C1orf112\" \n",
      "ENSG00000000938 \n",
      "          \"FGR\" \n"
     ]
    }
   ],
   "source": [
    "mart <- useMart(\"ensembl\", dataset = \"hsapiens_gene_ensembl\")\n",
    "\n",
    "mart_dat_file <- \"data/microarray-data-2-mart.rds\"\n",
    "\n",
    "if (file.exists(mart_dat_file)) {\n",
    "  mart_dat <- readRDS(mart_dat_file)\n",
    "} else {\n",
    "  mart_dat <- getBM(\n",
    "    mart       = mart,\n",
    "    values     = rownames(rmaExp),\n",
    "    filters    = c(\"ensembl_gene_id\"),\n",
    "    attributes = c(\n",
    "      \"ensembl_gene_id\", \"hgnc_symbol\"\n",
    "    )\n",
    "  )\n",
    "  saveRDS(mart_dat, mart_dat_file)\n",
    "}\n",
    "\n",
    "ensembl_to_symbol <- with(unique(mart_dat[,c(\"hgnc_symbol\", \"ensembl_gene_id\")]), unlist(split(hgnc_symbol, ensembl_gene_id)))\n",
    "print(head(ensembl_to_symbol))"
   ]
  },
  {
   "cell_type": "code",
   "execution_count": 26,
   "metadata": {},
   "outputs": [],
   "source": [
    "#' Get an index for extreme values in a vector.\n",
    "#' @param xs A numeric vector.\n",
    "#' @param low The lower quantile.\n",
    "#' @param high The upper quantile.\n",
    "#' @return A boolean vector indicating items below or above the quantiles.\n",
    "extreme_idx <- function(xs, low = 0.005, high = 0.995) {\n",
    "  qs <- quantile(xs, probs = c(low, high))\n",
    "  xs < qs[1] | xs > qs[2]\n",
    "}\n",
    "\n",
    "notna    <- function(xs) xs[!is.na(xs)]\n",
    "negative <- function(xs) xs[xs < 0]\n",
    "positive <- function(xs) xs[xs > 0]\n",
    "\n",
    "lt <- function(xs, x) xs[xs < x]\n",
    "gt <- function(xs, x) xs[xs > x]"
   ]
  },
  {
   "cell_type": "code",
   "execution_count": 27,
   "metadata": {},
   "outputs": [],
   "source": [
    "# https://stackoverflow.com/questions/31677923/set-0-point-for-pheatmap-in-r\n",
    "get_breaks <- function(test, paletteLength) {\n",
    "  myColor <- colorRampPalette(c(\"red\", \"white\", \"blue\"))(paletteLength)\n",
    "  # use floor and ceiling to deal with even/odd length pallette lengths\n",
    "  c(\n",
    "    seq(min(test), 0, length.out = ceiling(paletteLength / 2) + 1), \n",
    "    seq(max(test) / paletteLength, max(test), length.out = floor(paletteLength / 2))\n",
    "  )\n",
    "}\n",
    "\n",
    "my_breaks <- function(xs, n = 20, method = 'symmetric') {\n",
    "  if (method == 'symmetric') {\n",
    "    neg_max <- min(xs[xs < 0])\n",
    "    pos_max <- max(xs[xs > 0])\n",
    "    abs_max_sign <- ifelse(abs(neg_max) > pos_max, -1, 1)\n",
    "    abs_max <- max(abs(xs))\n",
    "    ret_breaks <- seq(-abs_max, abs_max, length.out = n)\n",
    "    ret_colors <- colorRampPalette(rev(brewer.pal(n = 7, name = \"RdBu\")))(n)\n",
    "    if (abs_max_sign == 1) {\n",
    "      ix <- tail(which(ret_breaks < neg_max), 1):length(ret_breaks)\n",
    "      ret_breaks <- ret_breaks[ix]\n",
    "      ret_colors <- ret_colors[ix]\n",
    "    } else {\n",
    "      ix <- 1:head(which(ret_breaks > pos_max), 1)\n",
    "      ret_breaks <- ret_breaks[ix]\n",
    "      ret_colors <- ret_colors[ix]\n",
    "    }\n",
    "  }\n",
    "  list(\"breaks\" = ret_breaks, \"colors\" = ret_colors)\n",
    "}\n",
    "\n",
    "# Get density of points in 2 dimensions.\n",
    "# @param x A numeric vector.\n",
    "# @param y A numeric vector.\n",
    "# @param n Create a square n by n grid to compute density.\n",
    "# @return The density within each square.\n",
    "get_density <- function(x, y, n = 100) {\n",
    "  dens <- MASS::kde2d(x = x, y = y, n = n)\n",
    "  ix <- findInterval(x, dens$x)\n",
    "  iy <- findInterval(y, dens$y)\n",
    "  ii <- cbind(ix, iy)\n",
    "  return(dens$z[ii])\n",
    "}\n",
    "\n",
    "plot_geneset_median <- function(geneset, meta, log2tpm, ci = 0.5) {\n",
    "    if (!grepl(\"^ENSG\", geneset[1])) {\n",
    "        gene <- names(which(gene_symbols %in% geneset))\n",
    "        stopifnot(length(geneset) > 1)\n",
    "    }\n",
    "    geneset <- geneset[geneset %in% rownames(log2tpm)]\n",
    "    dat <- data.frame(Time = meta[[\"Time\"]], t(log2tpm[geneset, ]))\n",
    "    x <- dat[dat$Time == 0, ]\n",
    "    dat_zero <- rbind(x, x, x)\n",
    "    dat <- rbind(dat, dat_zero)\n",
    "    dat$Time <- factor(dat$Time)\n",
    "    dat_median <- reshape2::melt(dat, id.vars = c(\"Time\")) %>%\n",
    "      group_by(Time, variable) %>% \n",
    "      summarise(mean = mean(value)) %>%\n",
    "      group_by(Time) %>%\n",
    "      summarise(\n",
    "        median = median(mean),\n",
    "        low = quantile(mean, probs = (1 - ci)/2),\n",
    "        high = quantile(mean, probs = 1 - ((1 - ci)/2))\n",
    "      )\n",
    "    ggplot(data = dat_median, mapping = aes(x = Time, y = median, ymin = low, ymax = high, group = 1)) + \n",
    "    geom_line(size = 1) +\n",
    "    geom_ribbon(alpha = 0.15, fill = \"black\", color = NA) +\n",
    "    theme_bw(base_size = font_size) + \n",
    "    labs(x = \"Hours\", y = bquote(\"Log\"[2] ~ \"TPM\")) +\n",
    "    theme(\n",
    "      panel.grid.major = element_line(color = \"grey60\", size = 0.1),\n",
    "      panel.grid.minor = element_blank()\n",
    "    )\n",
    "}"
   ]
  },
  {
   "cell_type": "markdown",
   "metadata": {},
   "source": [
    "## Quality control with common genes"
   ]
  },
  {
   "cell_type": "code",
   "execution_count": 28,
   "metadata": {},
   "outputs": [],
   "source": [
    "median_val <- median(rmaExp)\n",
    "\n",
    "common_genes <- names(which(apply(\n",
    "  X = rmaExp,\n",
    "  MARGIN = 1,\n",
    "  FUN = function(x) sum(x > median_val) > ceiling(0.9 * ncol(rmaExp))\n",
    ")))\n",
    "\n",
    "meta$common_percent <- apply(\n",
    "  X = rmaExp[common_genes,],\n",
    "  MARGIN = 2,\n",
    "  FUN = function(x) sum(x > median_val)\n",
    ") / length(common_genes)"
   ]
  },
  {
   "cell_type": "code",
   "execution_count": 29,
   "metadata": {},
   "outputs": [
    {
     "data": {
      "text/html": [
       "<table>\n",
       "<thead><tr><th scope=col>sample</th><th scope=col>passage</th><th scope=col>cell_line</th><th scope=col>stimulation</th><th scope=col>donor</th><th scope=col>disease</th><th scope=col>IL6</th><th scope=col>common_percent</th><th scope=col>Sample</th></tr></thead>\n",
       "<tbody>\n",
       "\t<tr><td>NUID-0000-0163-0775</td><td>6                  </td><td>OA6 FLS            </td><td>TNF_IL17           </td><td>OA6                </td><td>Osteo              </td><td>high               </td><td>0.9978675          </td><td>1                  </td></tr>\n",
       "\t<tr><td>NUID-0000-0163-0776</td><td>7                  </td><td>OA6 FLS            </td><td>None               </td><td>OA6                </td><td>Osteo              </td><td>high               </td><td>0.9984947          </td><td>2                  </td></tr>\n",
       "\t<tr><td>NUID-0000-0163-0777</td><td>7                  </td><td>OA6 FLS            </td><td>TNF                </td><td>OA6                </td><td>Osteo              </td><td>high               </td><td>0.9977421          </td><td>3                  </td></tr>\n",
       "\t<tr><td>NUID-0000-0163-0778</td><td>7                  </td><td>OA6 FLS            </td><td>TNF_IL17           </td><td>OA6                </td><td>Osteo              </td><td>high               </td><td>0.9938535          </td><td>4                  </td></tr>\n",
       "\t<tr><td>NUID-0000-0163-0779</td><td>8                  </td><td>OA6 FLS            </td><td>None               </td><td>OA6                </td><td>Osteo              </td><td>high               </td><td>0.9986202          </td><td>5                  </td></tr>\n",
       "\t<tr><td>NUID-0000-0163-0780</td><td>8                  </td><td>OA6 FLS            </td><td>TNF                </td><td>OA6                </td><td>Osteo              </td><td>high               </td><td>0.9977421          </td><td>6                  </td></tr>\n",
       "</tbody>\n",
       "</table>\n"
      ],
      "text/latex": [
       "\\begin{tabular}{r|lllllllll}\n",
       " sample & passage & cell\\_line & stimulation & donor & disease & IL6 & common\\_percent & Sample\\\\\n",
       "\\hline\n",
       "\t NUID-0000-0163-0775 & 6                   & OA6 FLS             & TNF\\_IL17          & OA6                 & Osteo               & high                & 0.9978675           & 1                  \\\\\n",
       "\t NUID-0000-0163-0776 & 7                   & OA6 FLS             & None                & OA6                 & Osteo               & high                & 0.9984947           & 2                  \\\\\n",
       "\t NUID-0000-0163-0777 & 7                   & OA6 FLS             & TNF                 & OA6                 & Osteo               & high                & 0.9977421           & 3                  \\\\\n",
       "\t NUID-0000-0163-0778 & 7                   & OA6 FLS             & TNF\\_IL17          & OA6                 & Osteo               & high                & 0.9938535           & 4                  \\\\\n",
       "\t NUID-0000-0163-0779 & 8                   & OA6 FLS             & None                & OA6                 & Osteo               & high                & 0.9986202           & 5                  \\\\\n",
       "\t NUID-0000-0163-0780 & 8                   & OA6 FLS             & TNF                 & OA6                 & Osteo               & high                & 0.9977421           & 6                  \\\\\n",
       "\\end{tabular}\n"
      ],
      "text/markdown": [
       "\n",
       "sample | passage | cell_line | stimulation | donor | disease | IL6 | common_percent | Sample | \n",
       "|---|---|---|---|---|---|\n",
       "| NUID-0000-0163-0775 | 6                   | OA6 FLS             | TNF_IL17            | OA6                 | Osteo               | high                | 0.9978675           | 1                   | \n",
       "| NUID-0000-0163-0776 | 7                   | OA6 FLS             | None                | OA6                 | Osteo               | high                | 0.9984947           | 2                   | \n",
       "| NUID-0000-0163-0777 | 7                   | OA6 FLS             | TNF                 | OA6                 | Osteo               | high                | 0.9977421           | 3                   | \n",
       "| NUID-0000-0163-0778 | 7                   | OA6 FLS             | TNF_IL17            | OA6                 | Osteo               | high                | 0.9938535           | 4                   | \n",
       "| NUID-0000-0163-0779 | 8                   | OA6 FLS             | None                | OA6                 | Osteo               | high                | 0.9986202           | 5                   | \n",
       "| NUID-0000-0163-0780 | 8                   | OA6 FLS             | TNF                 | OA6                 | Osteo               | high                | 0.9977421           | 6                   | \n",
       "\n",
       "\n"
      ],
      "text/plain": [
       "  sample              passage cell_line stimulation donor disease IL6 \n",
       "1 NUID-0000-0163-0775 6       OA6 FLS   TNF_IL17    OA6   Osteo   high\n",
       "2 NUID-0000-0163-0776 7       OA6 FLS   None        OA6   Osteo   high\n",
       "3 NUID-0000-0163-0777 7       OA6 FLS   TNF         OA6   Osteo   high\n",
       "4 NUID-0000-0163-0778 7       OA6 FLS   TNF_IL17    OA6   Osteo   high\n",
       "5 NUID-0000-0163-0779 8       OA6 FLS   None        OA6   Osteo   high\n",
       "6 NUID-0000-0163-0780 8       OA6 FLS   TNF         OA6   Osteo   high\n",
       "  common_percent Sample\n",
       "1 0.9978675      1     \n",
       "2 0.9984947      2     \n",
       "3 0.9977421      3     \n",
       "4 0.9938535      4     \n",
       "5 0.9986202      5     \n",
       "6 0.9977421      6     "
      ]
     },
     "metadata": {},
     "output_type": "display_data"
    }
   ],
   "source": [
    "meta$Sample <- colnames(rmaExp)\n",
    "head(meta)"
   ]
  },
  {
   "cell_type": "code",
   "execution_count": 30,
   "metadata": {},
   "outputs": [
    {
     "data": {
      "image/png": "[encoded data removed]",
      "text/plain": [
       "plot without title"
      ]
     },
     "metadata": {},
     "output_type": "display_data"
    }
   ],
   "source": [
    "options(repr.plot.width = 6, repr.plot.height = 3)\n",
    "\n",
    "ggplot(meta, aes(x = reorder(Sample, common_percent), y = common_percent, label = Sample)) +\n",
    "  geom_point(size = 0.1) +\n",
    "  geom_text_repel(\n",
    "    data = subset(meta, common_percent < 0.99),\n",
    "    nudge_x = 2,\n",
    "    segment.size = 0.1,\n",
    "    size = 3\n",
    "  ) +\n",
    "#  geom_hline(yintercept = 0.9, color = \"red\", linetype = 2) +\n",
    "  scale_y_continuous(labels = percent, expand = c(0.1, 0)) +\n",
    "  scale_x_discrete(expand = c(0.01, 0)) +\n",
    "  theme(\n",
    "    axis.ticks.x = element_blank(),\n",
    "    axis.text.x = element_blank(),\n",
    "#    panel.grid.major.y = element_line(size = 0.03, color = 'black'),\n",
    "    axis.line.x = element_blank()\n",
    "  ) +\n",
    "  labs(\n",
    "    x = NULL, y = NULL, title = \"Percent of Common Genes\",\n",
    "    subtitle = sprintf(\n",
    "      \"%s genes detected in %s (90%%) of %s samples\",\n",
    "      comma(length(common_genes)),\n",
    "      ceiling(nrow(meta) * 0.9), nrow(meta)\n",
    "    )\n",
    "  )"
   ]
  },
  {
   "cell_type": "code",
   "execution_count": 31,
   "metadata": {},
   "outputs": [
    {
     "data": {
      "text/html": [
       "<table>\n",
       "<thead><tr><th scope=col>sample</th><th scope=col>passage</th><th scope=col>cell_line</th><th scope=col>stimulation</th><th scope=col>donor</th><th scope=col>disease</th><th scope=col>IL6</th><th scope=col>common_percent</th><th scope=col>Sample</th></tr></thead>\n",
       "<tbody>\n",
       "</tbody>\n",
       "</table>\n"
      ],
      "text/latex": [
       "\\begin{tabular}{r|lllllllll}\n",
       " sample & passage & cell\\_line & stimulation & donor & disease & IL6 & common\\_percent & Sample\\\\\n",
       "\\hline\n",
       "\\end{tabular}\n"
      ],
      "text/markdown": [
       "\n",
       "sample | passage | cell_line | stimulation | donor | disease | IL6 | common_percent | Sample | \n",
       "||\n",
       "\n",
       "\n"
      ],
      "text/plain": [
       "     sample passage cell_line stimulation donor disease IL6 common_percent\n",
       "     Sample"
      ]
     },
     "metadata": {},
     "output_type": "display_data"
    }
   ],
   "source": [
    "subset(meta, common_percent < 0.99)"
   ]
  },
  {
   "cell_type": "code",
   "execution_count": 32,
   "metadata": {},
   "outputs": [],
   "source": [
    "gene_summary <- data.frame(\n",
    "  mean = rowMeans(rmaExp),\n",
    "  sd   = rowSds(rmaExp)\n",
    ")\n",
    "gene_summary$density <- with(gene_summary, get_density(mean, sd))"
   ]
  },
  {
   "cell_type": "code",
   "execution_count": 33,
   "metadata": {},
   "outputs": [
    {
     "data": {
      "text/html": [
       "1500"
      ],
      "text/latex": [
       "1500"
      ],
      "text/markdown": [
       "1500"
      ],
      "text/plain": [
       "[1] 1500"
      ]
     },
     "metadata": {},
     "output_type": "display_data"
    },
    {
     "data": {
      "text/html": [
       "0.0828820864183888"
      ],
      "text/latex": [
       "0.0828820864183888"
      ],
      "text/markdown": [
       "0.0828820864183888"
      ],
      "text/plain": [
       "[1] 0.08288209"
      ]
     },
     "metadata": {},
     "output_type": "display_data"
    }
   ],
   "source": [
    "ix_exclude <- gene_summary$sd < quantile(gene_summary$sd, probs = 0.25) &\n",
    "              gene_summary$mean < quantile(gene_summary$mean, probs = 0.25)\n",
    "\n",
    "sum(ix_exclude)\n",
    "sum(ix_exclude) / length(ix_exclude)"
   ]
  },
  {
   "cell_type": "code",
   "execution_count": 34,
   "metadata": {},
   "outputs": [
    {
     "data": {
      "image/png": "[encoded data removed]",
      "text/plain": [
       "plot without title"
      ]
     },
     "metadata": {},
     "output_type": "display_data"
    }
   ],
   "source": [
    "options(repr.plot.width = 4.5, repr.plot.height = 3)\n",
    "\n",
    "ggplot(gene_summary[order(gene_summary$density),], aes(mean, sd, color = density)) +\n",
    "scale_color_viridis() +\n",
    "geom_point(size = 0.01) +\n",
    "# geom_hline(yintercept = quantile(gene_summary$sd, probs = 0.25), color = \"red\", size = 0.2) +\n",
    "# geom_vline(xintercept = quantile(gene_summary$mean, probs = 0.25), color = \"red\", size = 0.2) +\n",
    "labs(\n",
    "  x = \"Mean\",\n",
    "  y = \"SD\"\n",
    "#   subtitle = sprintf(\n",
    "#     \"Exclude %s (%s) lowly expressed genes\",\n",
    "#     comma(sum(ix_exclude)),\n",
    "#     percent(sum(ix_exclude) / length(ix_exclude))\n",
    "#   )\n",
    ")"
   ]
  },
  {
   "cell_type": "code",
   "execution_count": 35,
   "metadata": {},
   "outputs": [],
   "source": [
    "m_exp <- rmaExp\n",
    "m_meta <- meta"
   ]
  },
  {
   "cell_type": "code",
   "execution_count": 36,
   "metadata": {},
   "outputs": [
    {
     "data": {
      "text/html": [
       "<table>\n",
       "<thead><tr><th scope=col>sample</th><th scope=col>passage</th><th scope=col>cell_line</th><th scope=col>stimulation</th><th scope=col>donor</th><th scope=col>disease</th><th scope=col>IL6</th><th scope=col>common_percent</th><th scope=col>Sample</th></tr></thead>\n",
       "<tbody>\n",
       "\t<tr><td>NUID-0000-0163-0775</td><td>6                  </td><td>OA6 FLS            </td><td>TNF_IL17           </td><td>OA6                </td><td>Osteo              </td><td>high               </td><td>0.9978675          </td><td>1                  </td></tr>\n",
       "\t<tr><td>NUID-0000-0163-0776</td><td>7                  </td><td>OA6 FLS            </td><td>None               </td><td>OA6                </td><td>Osteo              </td><td>high               </td><td>0.9984947          </td><td>2                  </td></tr>\n",
       "\t<tr><td>NUID-0000-0163-0777</td><td>7                  </td><td>OA6 FLS            </td><td>TNF                </td><td>OA6                </td><td>Osteo              </td><td>high               </td><td>0.9977421          </td><td>3                  </td></tr>\n",
       "\t<tr><td>NUID-0000-0163-0778</td><td>7                  </td><td>OA6 FLS            </td><td>TNF_IL17           </td><td>OA6                </td><td>Osteo              </td><td>high               </td><td>0.9938535          </td><td>4                  </td></tr>\n",
       "\t<tr><td>NUID-0000-0163-0779</td><td>8                  </td><td>OA6 FLS            </td><td>None               </td><td>OA6                </td><td>Osteo              </td><td>high               </td><td>0.9986202          </td><td>5                  </td></tr>\n",
       "\t<tr><td>NUID-0000-0163-0780</td><td>8                  </td><td>OA6 FLS            </td><td>TNF                </td><td>OA6                </td><td>Osteo              </td><td>high               </td><td>0.9977421          </td><td>6                  </td></tr>\n",
       "</tbody>\n",
       "</table>\n"
      ],
      "text/latex": [
       "\\begin{tabular}{r|lllllllll}\n",
       " sample & passage & cell\\_line & stimulation & donor & disease & IL6 & common\\_percent & Sample\\\\\n",
       "\\hline\n",
       "\t NUID-0000-0163-0775 & 6                   & OA6 FLS             & TNF\\_IL17          & OA6                 & Osteo               & high                & 0.9978675           & 1                  \\\\\n",
       "\t NUID-0000-0163-0776 & 7                   & OA6 FLS             & None                & OA6                 & Osteo               & high                & 0.9984947           & 2                  \\\\\n",
       "\t NUID-0000-0163-0777 & 7                   & OA6 FLS             & TNF                 & OA6                 & Osteo               & high                & 0.9977421           & 3                  \\\\\n",
       "\t NUID-0000-0163-0778 & 7                   & OA6 FLS             & TNF\\_IL17          & OA6                 & Osteo               & high                & 0.9938535           & 4                  \\\\\n",
       "\t NUID-0000-0163-0779 & 8                   & OA6 FLS             & None                & OA6                 & Osteo               & high                & 0.9986202           & 5                  \\\\\n",
       "\t NUID-0000-0163-0780 & 8                   & OA6 FLS             & TNF                 & OA6                 & Osteo               & high                & 0.9977421           & 6                  \\\\\n",
       "\\end{tabular}\n"
      ],
      "text/markdown": [
       "\n",
       "sample | passage | cell_line | stimulation | donor | disease | IL6 | common_percent | Sample | \n",
       "|---|---|---|---|---|---|\n",
       "| NUID-0000-0163-0775 | 6                   | OA6 FLS             | TNF_IL17            | OA6                 | Osteo               | high                | 0.9978675           | 1                   | \n",
       "| NUID-0000-0163-0776 | 7                   | OA6 FLS             | None                | OA6                 | Osteo               | high                | 0.9984947           | 2                   | \n",
       "| NUID-0000-0163-0777 | 7                   | OA6 FLS             | TNF                 | OA6                 | Osteo               | high                | 0.9977421           | 3                   | \n",
       "| NUID-0000-0163-0778 | 7                   | OA6 FLS             | TNF_IL17            | OA6                 | Osteo               | high                | 0.9938535           | 4                   | \n",
       "| NUID-0000-0163-0779 | 8                   | OA6 FLS             | None                | OA6                 | Osteo               | high                | 0.9986202           | 5                   | \n",
       "| NUID-0000-0163-0780 | 8                   | OA6 FLS             | TNF                 | OA6                 | Osteo               | high                | 0.9977421           | 6                   | \n",
       "\n",
       "\n"
      ],
      "text/plain": [
       "  sample              passage cell_line stimulation donor disease IL6 \n",
       "1 NUID-0000-0163-0775 6       OA6 FLS   TNF_IL17    OA6   Osteo   high\n",
       "2 NUID-0000-0163-0776 7       OA6 FLS   None        OA6   Osteo   high\n",
       "3 NUID-0000-0163-0777 7       OA6 FLS   TNF         OA6   Osteo   high\n",
       "4 NUID-0000-0163-0778 7       OA6 FLS   TNF_IL17    OA6   Osteo   high\n",
       "5 NUID-0000-0163-0779 8       OA6 FLS   None        OA6   Osteo   high\n",
       "6 NUID-0000-0163-0780 8       OA6 FLS   TNF         OA6   Osteo   high\n",
       "  common_percent Sample\n",
       "1 0.9978675      1     \n",
       "2 0.9984947      2     \n",
       "3 0.9977421      3     \n",
       "4 0.9938535      4     \n",
       "5 0.9986202      5     \n",
       "6 0.9977421      6     "
      ]
     },
     "metadata": {},
     "output_type": "display_data"
    }
   ],
   "source": [
    "head(m_meta)"
   ]
  },
  {
   "cell_type": "code",
   "execution_count": 37,
   "metadata": {},
   "outputs": [
    {
     "data": {
      "text/plain": [
       "   \n",
       "    Baseline None TNF TNF_IL17\n",
       "  6        4    4   4        4\n",
       "  7        4    4   4        4\n",
       "  8        4    4   4        4"
      ]
     },
     "metadata": {},
     "output_type": "display_data"
    }
   ],
   "source": [
    "table(m_meta$passage, m_meta$stimulation)"
   ]
  },
  {
   "cell_type": "markdown",
   "metadata": {},
   "source": [
    "# Export for NCBI GEO"
   ]
  },
  {
   "cell_type": "code",
   "execution_count": 91,
   "metadata": {},
   "outputs": [
    {
     "name": "stdout",
     "output_type": "stream",
     "text": [
      "[1] \"share/NCBI-GEO/microarray-data-2/microarray-data-2_gene-expression.tsv.gz\"\n",
      "ID_REF           S1                 S2                  S3                 S4\n",
      "ENSG00000049541  8.879701391807236  8.229513710748321   8.60412733263852   8.318158559399988\n",
      "ENSG00000173110  6.760681733978776  6.399004786328597   6.18655588724593   6.101994008660945\n",
      "ENSG00000125618  5.769515842621303  5.6275917825357435  5.759441274757496  5.928624917001503\n",
      "ENSG00000048545  4.239315841669887  4.336656300089474   4.076079437931257  4.196081355425469\n",
      "ENSG00000126351  7.174973887936542  7.397678342248016   7.062164699244461  7.208528816100849\n",
      "ENSG00000070778  6.714978955796548  6.954284875153388   6.916402855032298  6.7269312271467046\n",
      "ENSG00000130649  5.853547335956081  5.7272126298023425  5.632005084570396  5.85466206727274\n",
      "ENSG00000182580  5.665059686457781  6.006806409492613   5.675929440865061  5.813109245114646\n",
      "ENSG00000173153  8.143348168112825  7.929581506335845   8.160117157719942  8.218745255039778\n",
      "\n",
      "[1] \"share/NCBI-GEO/microarray-data-2/microarray-data-2_probe-expression.tsv.gz\"\n",
      "ID_REF     S1                  S2                  S3                  S4\n",
      "1007_s_at  9.3333297644641     9.33676560230244    9.200996518273284   9.336742351397447\n",
      "1053_at    8.96780372860249    8.36085023068184    8.641778890147037   8.259642734847418\n",
      "117_at     6.73256898140264    6.636760035307297   6.347943269457166   6.404281063722754\n",
      "121_at     6.971258187569084   6.456207634798095   6.924206014366512   7.0169218972598735\n",
      "1255_g_at  3.416362249047369   3.3652971581261086  3.1986466191900393  3.2136056135600986\n",
      "1294_at    9.155100683837798   8.69722728859419    10.25376742856516   9.42818435976779\n",
      "1316_at    7.899305624499859   7.776464037086726   7.893956136852099   7.579777248315665\n",
      "1320_at    6.187971318089943   6.469447739659929   6.388923024860842   6.120907331310144\n",
      "1405_i_at  10.303141918126315  4.917626017019149   12.496228277663223  11.578524484633196\n",
      "\n",
      "[1] \"share/NCBI-GEO/microarray-data-2/microarray-data-2_metadata.tsv\"\n",
      "sample  donor  IL6   passage  stimulation\n",
      "S1      OA6    high  6        TNF_IL17\n",
      "S2      OA6    high  7        None\n",
      "S3      OA6    high  7        TNF\n",
      "S4      OA6    high  7        TNF_IL17\n",
      "S5      OA6    high  8        None\n",
      "S6      OA6    high  8        TNF\n",
      "S7      OA6    high  8        TNF_IL17\n",
      "S8      RA32   high  6        TNF\n",
      "S9      RA32   high  6        TNF_IL17\n",
      "\n"
     ]
    }
   ],
   "source": [
    "write_matrix <- function(x, path) {\n",
    "  colnames(x) <- sprintf(\"S%s\", colnames(x))\n",
    "  x <- data.frame(\n",
    "    ID_REF = rownames(x),\n",
    "    x,\n",
    "    stringsAsFactors = FALSE\n",
    "  )\n",
    "  rownames(x) <- NULL\n",
    "  readr::write_tsv(x, path)\n",
    "}\n",
    "\n",
    "###\n",
    "\n",
    "out_dir <- \"share/NCBI-GEO/microarray-data-2\"\n",
    "dir.create(out_dir, showWarnings = FALSE, recursive = TRUE)\n",
    "\n",
    "rmaExp_file <- sprintf(\"%s/microarray-data-2_gene-expression.tsv.gz\", out_dir)\n",
    "write_matrix(rmaExp, rmaExp_file)\n",
    "\n",
    "print(rmaExp_file)\n",
    "cat(paste(system(sprintf(\"zcat %s | head | cut -f1-5 | column -t\", rmaExp_file), intern = TRUE), collapse = \"\\n\"))\n",
    "cat(\"\\n\\n\")\n",
    "\n",
    "###\n",
    "\n",
    "probeExp <- exprs(rmaData)\n",
    "probeExp_file <- sprintf(\"%s/microarray-data-2_probe-expression.tsv.gz\", out_dir)\n",
    "write_matrix(probeExp, probeExp_file)\n",
    "\n",
    "print(probeExp_file)\n",
    "cat(paste(system(sprintf(\"zcat %s | head | cut -f1-5 | column -t\", probeExp_file), intern = TRUE), collapse = \"\\n\"))\n",
    "cat(\"\\n\\n\")\n",
    "\n",
    "###\n",
    "\n",
    "meta_cols <- c(\n",
    "  \"Sample\",\n",
    "  \"donor\",\n",
    "  \"passage\",\n",
    "  \"IL6\",\n",
    "  \"stimulation\"\n",
    ")\n",
    "x <- meta[,meta_cols]\n",
    "x$sample <- sprintf(\"S%s\", x$Sample)\n",
    "x$Sample <- NULL\n",
    "x <- x[,c(\"sample\", \"donor\", \"IL6\", \"passage\", \"stimulation\")]\n",
    "meta_file <- sprintf(\"%s/microarray-data-2_metadata.tsv\", out_dir)\n",
    "readr::write_tsv(x, meta_file)\n",
    "\n",
    "print(meta_file)\n",
    "cat(paste(system(sprintf(\"cat %s | head | column -t\", meta_file), intern = TRUE), collapse = \"\\n\"))\n",
    "cat(\"\\n\\n\")\n"
   ]
  },
  {
   "cell_type": "markdown",
   "metadata": {},
   "source": [
    "## Linear modeling with treatment-time"
   ]
  },
  {
   "cell_type": "code",
   "execution_count": 38,
   "metadata": {},
   "outputs": [
    {
     "data": {
      "text/html": [
       "<table>\n",
       "<thead><tr><th></th><th scope=col>1</th><th scope=col>2</th><th scope=col>3</th><th scope=col>4</th><th scope=col>5</th></tr></thead>\n",
       "<tbody>\n",
       "\t<tr><th scope=row>ENSG00000049541</th><td>8.879701</td><td>8.229514</td><td>8.604127</td><td>8.318159</td><td>8.583540</td></tr>\n",
       "\t<tr><th scope=row>ENSG00000173110</th><td>6.760682</td><td>6.399005</td><td>6.186556</td><td>6.101994</td><td>6.139234</td></tr>\n",
       "\t<tr><th scope=row>ENSG00000125618</th><td>5.769516</td><td>5.627592</td><td>5.759441</td><td>5.928625</td><td>5.612206</td></tr>\n",
       "\t<tr><th scope=row>ENSG00000048545</th><td>4.239316</td><td>4.336656</td><td>4.076079</td><td>4.196081</td><td>4.327161</td></tr>\n",
       "\t<tr><th scope=row>ENSG00000126351</th><td>7.174974</td><td>7.397678</td><td>7.062165</td><td>7.208529</td><td>7.327084</td></tr>\n",
       "</tbody>\n",
       "</table>\n"
      ],
      "text/latex": [
       "\\begin{tabular}{r|lllll}\n",
       "  & 1 & 2 & 3 & 4 & 5\\\\\n",
       "\\hline\n",
       "\tENSG00000049541 & 8.879701 & 8.229514 & 8.604127 & 8.318159 & 8.583540\\\\\n",
       "\tENSG00000173110 & 6.760682 & 6.399005 & 6.186556 & 6.101994 & 6.139234\\\\\n",
       "\tENSG00000125618 & 5.769516 & 5.627592 & 5.759441 & 5.928625 & 5.612206\\\\\n",
       "\tENSG00000048545 & 4.239316 & 4.336656 & 4.076079 & 4.196081 & 4.327161\\\\\n",
       "\tENSG00000126351 & 7.174974 & 7.397678 & 7.062165 & 7.208529 & 7.327084\\\\\n",
       "\\end{tabular}\n"
      ],
      "text/markdown": [
       "\n",
       "| <!--/--> | 1 | 2 | 3 | 4 | 5 | \n",
       "|---|---|---|---|---|\n",
       "| ENSG00000049541 | 8.879701 | 8.229514 | 8.604127 | 8.318159 | 8.583540 | \n",
       "| ENSG00000173110 | 6.760682 | 6.399005 | 6.186556 | 6.101994 | 6.139234 | \n",
       "| ENSG00000125618 | 5.769516 | 5.627592 | 5.759441 | 5.928625 | 5.612206 | \n",
       "| ENSG00000048545 | 4.239316 | 4.336656 | 4.076079 | 4.196081 | 4.327161 | \n",
       "| ENSG00000126351 | 7.174974 | 7.397678 | 7.062165 | 7.208529 | 7.327084 | \n",
       "\n",
       "\n"
      ],
      "text/plain": [
       "                1        2        3        4        5       \n",
       "ENSG00000049541 8.879701 8.229514 8.604127 8.318159 8.583540\n",
       "ENSG00000173110 6.760682 6.399005 6.186556 6.101994 6.139234\n",
       "ENSG00000125618 5.769516 5.627592 5.759441 5.928625 5.612206\n",
       "ENSG00000048545 4.239316 4.336656 4.076079 4.196081 4.327161\n",
       "ENSG00000126351 7.174974 7.397678 7.062165 7.208529 7.327084"
      ]
     },
     "metadata": {},
     "output_type": "display_data"
    }
   ],
   "source": [
    "rmaExp[1:5,1:5]"
   ]
  },
  {
   "cell_type": "code",
   "execution_count": 39,
   "metadata": {},
   "outputs": [],
   "source": [
    "m_des <- with(\n",
    "  m_meta,\n",
    "  model.matrix(~ stimulation)\n",
    ")\n",
    "colnames(m_des) <- str_replace_all(colnames(m_des), \"stimulation\", \"\")\n",
    "colnames(m_des) <- str_replace_all(colnames(m_des), \"\\\\(Intercept\\\\)\", \"Baseline\")\n",
    "# colnames(m_des) <- str_replace_all(colnames(m_des), \"Time\", \"T\")\n",
    "\n",
    "m_fit <- lmFit(object = m_exp, design = m_des)\n",
    "m_fit <- eBayes(m_fit)\n",
    "m_fit$genes <- ensembl_to_symbol[rownames(m_fit$coefficients)]\n",
    "\n",
    "# m_treat_cols <- grep(\"^dose\", colnames(m_fit$coefficients), value = TRUE)\n",
    "# m_time_cols  <- grep(\"^time\", colnames(m_fit$coefficients), value = TRUE)\n",
    "\n",
    "save(\n",
    "  list = c(\"m_des\", \"m_fit\", \"m_exp\", \"m_meta\"),\n",
    "  file = \"data/microarray-data-2-limma.rda\"\n",
    ")"
   ]
  },
  {
   "cell_type": "code",
   "execution_count": 40,
   "metadata": {},
   "outputs": [
    {
     "data": {
      "text/html": [
       "<table>\n",
       "<thead><tr><th></th><th scope=col>Up</th><th scope=col>Down</th><th scope=col>Unchanged</th></tr></thead>\n",
       "<tbody>\n",
       "\t<tr><th scope=row>Baseline</th><td>18098</td><td>  0  </td><td>    0</td></tr>\n",
       "\t<tr><th scope=row>None</th><td>    3</td><td>  6  </td><td>18089</td></tr>\n",
       "\t<tr><th scope=row>TNF</th><td>  450</td><td>179  </td><td>17469</td></tr>\n",
       "\t<tr><th scope=row>TNF_IL17</th><td>  473</td><td>260  </td><td>17365</td></tr>\n",
       "</tbody>\n",
       "</table>\n"
      ],
      "text/latex": [
       "\\begin{tabular}{r|lll}\n",
       "  & Up & Down & Unchanged\\\\\n",
       "\\hline\n",
       "\tBaseline & 18098 &   0   &     0\\\\\n",
       "\tNone &     3 &   6   & 18089\\\\\n",
       "\tTNF &   450 & 179   & 17469\\\\\n",
       "\tTNF\\_IL17 &   473 & 260   & 17365\\\\\n",
       "\\end{tabular}\n"
      ],
      "text/markdown": [
       "\n",
       "| <!--/--> | Up | Down | Unchanged | \n",
       "|---|---|---|---|\n",
       "| Baseline | 18098 |   0   |     0 | \n",
       "| None |     3 |   6   | 18089 | \n",
       "| TNF |   450 | 179   | 17469 | \n",
       "| TNF_IL17 |   473 | 260   | 17365 | \n",
       "\n",
       "\n"
      ],
      "text/plain": [
       "         Up    Down Unchanged\n",
       "Baseline 18098   0      0    \n",
       "None         3   6  18089    \n",
       "TNF        450 179  17469    \n",
       "TNF_IL17   473 260  17365    "
      ]
     },
     "metadata": {},
     "output_type": "display_data"
    }
   ],
   "source": [
    "m_fit_signif <- decideTests(m_fit, lfc = log2(2), p.value = 0.05)\n",
    "\n",
    "do.call(rbind, apply(m_fit_signif, 2, function(x) {\n",
    "  data.frame(\n",
    "    \"Up\"        = sum(x == 1),\n",
    "    \"Down\"      = sum(x == -1),\n",
    "    \"Unchanged\" = sum(x == 0)\n",
    "  )\n",
    "}))"
   ]
  },
  {
   "cell_type": "code",
   "execution_count": 41,
   "metadata": {},
   "outputs": [
    {
     "data": {
      "text/html": [
       "<table>\n",
       "<thead><tr><th></th><th scope=col>ID</th><th scope=col>logFC</th><th scope=col>AveExpr</th><th scope=col>t</th><th scope=col>P.Value</th><th scope=col>adj.P.Val</th><th scope=col>B</th></tr></thead>\n",
       "<tbody>\n",
       "\t<tr><th scope=row>ENSG00000131979</th><td>GCH1        </td><td>3.724523    </td><td>10.580272   </td><td>26.54243    </td><td>1.064755e-29</td><td>1.926993e-25</td><td>56.55652    </td></tr>\n",
       "\t<tr><th scope=row>ENSG00000118503</th><td>TNFAIP3     </td><td>2.843562    </td><td>10.298845   </td><td>22.86009    </td><td>6.716647e-27</td><td>6.077894e-23</td><td>50.56353    </td></tr>\n",
       "\t<tr><th scope=row>ENSG00000138821</th><td>SLC39A8     </td><td>3.261441    </td><td> 7.845503   </td><td>21.31152    </td><td>1.319235e-25</td><td>7.958507e-22</td><td>47.75049    </td></tr>\n",
       "\t<tr><th scope=row>ENSG00000077150</th><td>NFKB2       </td><td>1.292231    </td><td> 6.370521   </td><td>20.36139    </td><td>8.963413e-25</td><td>2.917709e-21</td><td>45.92734    </td></tr>\n",
       "\t<tr><th scope=row>ENSG00000166348</th><td>USP54       </td><td>1.758923    </td><td> 8.765297   </td><td>20.33858    </td><td>9.393710e-25</td><td>2.917709e-21</td><td>45.88260    </td></tr>\n",
       "\t<tr><th scope=row>ENSG00000146374</th><td>RSPO3       </td><td>4.614369    </td><td> 7.947501   </td><td>20.32433    </td><td>9.673032e-25</td><td>2.917709e-21</td><td>45.85465    </td></tr>\n",
       "\t<tr><th scope=row>ENSG00000090339</th><td>ICAM1       </td><td>3.399096    </td><td> 9.287439   </td><td>19.43517    </td><td>6.226892e-24</td><td>1.609918e-20</td><td>44.07363    </td></tr>\n",
       "\t<tr><th scope=row>ENSG00000131669</th><td>NINJ1       </td><td>1.633954    </td><td> 9.595996   </td><td>18.46631    </td><td>5.119623e-23</td><td>1.158187e-19</td><td>42.04892    </td></tr>\n",
       "\t<tr><th scope=row>ENSG00000145365</th><td>TIFA        </td><td>1.923501    </td><td> 8.048432   </td><td>18.16257    </td><td>1.008530e-22</td><td>2.028042e-19</td><td>41.39529    </td></tr>\n",
       "\t<tr><th scope=row>ENSG00000173114</th><td>LRRN3       </td><td>4.234795    </td><td> 7.963400   </td><td>18.01480    </td><td>1.407010e-22</td><td>2.546406e-19</td><td>41.07394    </td></tr>\n",
       "</tbody>\n",
       "</table>\n"
      ],
      "text/latex": [
       "\\begin{tabular}{r|lllllll}\n",
       "  & ID & logFC & AveExpr & t & P.Value & adj.P.Val & B\\\\\n",
       "\\hline\n",
       "\tENSG00000131979 & GCH1         & 3.724523     & 10.580272    & 26.54243     & 1.064755e-29 & 1.926993e-25 & 56.55652    \\\\\n",
       "\tENSG00000118503 & TNFAIP3      & 2.843562     & 10.298845    & 22.86009     & 6.716647e-27 & 6.077894e-23 & 50.56353    \\\\\n",
       "\tENSG00000138821 & SLC39A8      & 3.261441     &  7.845503    & 21.31152     & 1.319235e-25 & 7.958507e-22 & 47.75049    \\\\\n",
       "\tENSG00000077150 & NFKB2        & 1.292231     &  6.370521    & 20.36139     & 8.963413e-25 & 2.917709e-21 & 45.92734    \\\\\n",
       "\tENSG00000166348 & USP54        & 1.758923     &  8.765297    & 20.33858     & 9.393710e-25 & 2.917709e-21 & 45.88260    \\\\\n",
       "\tENSG00000146374 & RSPO3        & 4.614369     &  7.947501    & 20.32433     & 9.673032e-25 & 2.917709e-21 & 45.85465    \\\\\n",
       "\tENSG00000090339 & ICAM1        & 3.399096     &  9.287439    & 19.43517     & 6.226892e-24 & 1.609918e-20 & 44.07363    \\\\\n",
       "\tENSG00000131669 & NINJ1        & 1.633954     &  9.595996    & 18.46631     & 5.119623e-23 & 1.158187e-19 & 42.04892    \\\\\n",
       "\tENSG00000145365 & TIFA         & 1.923501     &  8.048432    & 18.16257     & 1.008530e-22 & 2.028042e-19 & 41.39529    \\\\\n",
       "\tENSG00000173114 & LRRN3        & 4.234795     &  7.963400    & 18.01480     & 1.407010e-22 & 2.546406e-19 & 41.07394    \\\\\n",
       "\\end{tabular}\n"
      ],
      "text/markdown": [
       "\n",
       "| <!--/--> | ID | logFC | AveExpr | t | P.Value | adj.P.Val | B | \n",
       "|---|---|---|---|---|---|---|---|---|---|\n",
       "| ENSG00000131979 | GCH1         | 3.724523     | 10.580272    | 26.54243     | 1.064755e-29 | 1.926993e-25 | 56.55652     | \n",
       "| ENSG00000118503 | TNFAIP3      | 2.843562     | 10.298845    | 22.86009     | 6.716647e-27 | 6.077894e-23 | 50.56353     | \n",
       "| ENSG00000138821 | SLC39A8      | 3.261441     |  7.845503    | 21.31152     | 1.319235e-25 | 7.958507e-22 | 47.75049     | \n",
       "| ENSG00000077150 | NFKB2        | 1.292231     |  6.370521    | 20.36139     | 8.963413e-25 | 2.917709e-21 | 45.92734     | \n",
       "| ENSG00000166348 | USP54        | 1.758923     |  8.765297    | 20.33858     | 9.393710e-25 | 2.917709e-21 | 45.88260     | \n",
       "| ENSG00000146374 | RSPO3        | 4.614369     |  7.947501    | 20.32433     | 9.673032e-25 | 2.917709e-21 | 45.85465     | \n",
       "| ENSG00000090339 | ICAM1        | 3.399096     |  9.287439    | 19.43517     | 6.226892e-24 | 1.609918e-20 | 44.07363     | \n",
       "| ENSG00000131669 | NINJ1        | 1.633954     |  9.595996    | 18.46631     | 5.119623e-23 | 1.158187e-19 | 42.04892     | \n",
       "| ENSG00000145365 | TIFA         | 1.923501     |  8.048432    | 18.16257     | 1.008530e-22 | 2.028042e-19 | 41.39529     | \n",
       "| ENSG00000173114 | LRRN3        | 4.234795     |  7.963400    | 18.01480     | 1.407010e-22 | 2.546406e-19 | 41.07394     | \n",
       "\n",
       "\n"
      ],
      "text/plain": [
       "                ID      logFC    AveExpr   t        P.Value      adj.P.Val   \n",
       "ENSG00000131979 GCH1    3.724523 10.580272 26.54243 1.064755e-29 1.926993e-25\n",
       "ENSG00000118503 TNFAIP3 2.843562 10.298845 22.86009 6.716647e-27 6.077894e-23\n",
       "ENSG00000138821 SLC39A8 3.261441  7.845503 21.31152 1.319235e-25 7.958507e-22\n",
       "ENSG00000077150 NFKB2   1.292231  6.370521 20.36139 8.963413e-25 2.917709e-21\n",
       "ENSG00000166348 USP54   1.758923  8.765297 20.33858 9.393710e-25 2.917709e-21\n",
       "ENSG00000146374 RSPO3   4.614369  7.947501 20.32433 9.673032e-25 2.917709e-21\n",
       "ENSG00000090339 ICAM1   3.399096  9.287439 19.43517 6.226892e-24 1.609918e-20\n",
       "ENSG00000131669 NINJ1   1.633954  9.595996 18.46631 5.119623e-23 1.158187e-19\n",
       "ENSG00000145365 TIFA    1.923501  8.048432 18.16257 1.008530e-22 2.028042e-19\n",
       "ENSG00000173114 LRRN3   4.234795  7.963400 18.01480 1.407010e-22 2.546406e-19\n",
       "                B       \n",
       "ENSG00000131979 56.55652\n",
       "ENSG00000118503 50.56353\n",
       "ENSG00000138821 47.75049\n",
       "ENSG00000077150 45.92734\n",
       "ENSG00000166348 45.88260\n",
       "ENSG00000146374 45.85465\n",
       "ENSG00000090339 44.07363\n",
       "ENSG00000131669 42.04892\n",
       "ENSG00000145365 41.39529\n",
       "ENSG00000173114 41.07394"
      ]
     },
     "metadata": {},
     "output_type": "display_data"
    },
    {
     "data": {
      "text/html": [
       "<table>\n",
       "<thead><tr><th></th><th scope=col>ID</th><th scope=col>logFC</th><th scope=col>AveExpr</th><th scope=col>t</th><th scope=col>P.Value</th><th scope=col>adj.P.Val</th><th scope=col>B</th></tr></thead>\n",
       "<tbody>\n",
       "\t<tr><th scope=row>ENSG00000108342</th><td>CSF3        </td><td>5.333474    </td><td> 6.665895   </td><td>28.62101    </td><td>3.921862e-31</td><td>7.097785e-27</td><td>60.18957    </td></tr>\n",
       "\t<tr><th scope=row>ENSG00000105835</th><td>NAMPT       </td><td>2.976370    </td><td> 9.918208   </td><td>27.55104    </td><td>2.087131e-30</td><td>1.888645e-26</td><td>58.61733    </td></tr>\n",
       "\t<tr><th scope=row>ENSG00000131979</th><td>GCH1        </td><td>3.726292    </td><td>10.580272   </td><td>26.55504    </td><td>1.042939e-29</td><td>6.291700e-26</td><td>57.09633    </td></tr>\n",
       "\t<tr><th scope=row>ENSG00000081041</th><td>CXCL2       </td><td>4.321189    </td><td> 6.519552   </td><td>26.12444    </td><td>2.125680e-29</td><td>9.617637e-26</td><td>56.42078    </td></tr>\n",
       "\t<tr><th scope=row>ENSG00000077150</th><td>NFKB2       </td><td>1.543404    </td><td> 6.370521   </td><td>24.31906    </td><td>4.725302e-28</td><td>1.710370e-24</td><td>53.46253    </td></tr>\n",
       "\t<tr><th scope=row>ENSG00000115009</th><td>CCL20       </td><td>7.267348    </td><td> 8.006477   </td><td>22.89588    </td><td>6.282549e-27</td><td>1.895026e-23</td><td>50.97646    </td></tr>\n",
       "\t<tr><th scope=row>ENSG00000138821</th><td>SLC39A8     </td><td>3.378562    </td><td> 7.845503   </td><td>22.07684    </td><td>2.963582e-26</td><td>7.662129e-23</td><td>49.47888    </td></tr>\n",
       "\t<tr><th scope=row>ENSG00000118503</th><td>TNFAIP3     </td><td>2.697445    </td><td>10.298845   </td><td>21.68541    </td><td>6.326177e-26</td><td>1.431139e-22</td><td>48.74498    </td></tr>\n",
       "\t<tr><th scope=row>ENSG00000110911</th><td>SLC11A2     </td><td>1.591143    </td><td> 8.646284   </td><td>21.53591    </td><td>8.476583e-26</td><td>1.704547e-22</td><td>48.46147    </td></tr>\n",
       "\t<tr><th scope=row>ENSG00000146374</th><td>RSPO3       </td><td>4.856319    </td><td> 7.947501   </td><td>21.39002    </td><td>1.129617e-25</td><td>2.044381e-22</td><td>48.18309    </td></tr>\n",
       "</tbody>\n",
       "</table>\n"
      ],
      "text/latex": [
       "\\begin{tabular}{r|lllllll}\n",
       "  & ID & logFC & AveExpr & t & P.Value & adj.P.Val & B\\\\\n",
       "\\hline\n",
       "\tENSG00000108342 & CSF3         & 5.333474     &  6.665895    & 28.62101     & 3.921862e-31 & 7.097785e-27 & 60.18957    \\\\\n",
       "\tENSG00000105835 & NAMPT        & 2.976370     &  9.918208    & 27.55104     & 2.087131e-30 & 1.888645e-26 & 58.61733    \\\\\n",
       "\tENSG00000131979 & GCH1         & 3.726292     & 10.580272    & 26.55504     & 1.042939e-29 & 6.291700e-26 & 57.09633    \\\\\n",
       "\tENSG00000081041 & CXCL2        & 4.321189     &  6.519552    & 26.12444     & 2.125680e-29 & 9.617637e-26 & 56.42078    \\\\\n",
       "\tENSG00000077150 & NFKB2        & 1.543404     &  6.370521    & 24.31906     & 4.725302e-28 & 1.710370e-24 & 53.46253    \\\\\n",
       "\tENSG00000115009 & CCL20        & 7.267348     &  8.006477    & 22.89588     & 6.282549e-27 & 1.895026e-23 & 50.97646    \\\\\n",
       "\tENSG00000138821 & SLC39A8      & 3.378562     &  7.845503    & 22.07684     & 2.963582e-26 & 7.662129e-23 & 49.47888    \\\\\n",
       "\tENSG00000118503 & TNFAIP3      & 2.697445     & 10.298845    & 21.68541     & 6.326177e-26 & 1.431139e-22 & 48.74498    \\\\\n",
       "\tENSG00000110911 & SLC11A2      & 1.591143     &  8.646284    & 21.53591     & 8.476583e-26 & 1.704547e-22 & 48.46147    \\\\\n",
       "\tENSG00000146374 & RSPO3        & 4.856319     &  7.947501    & 21.39002     & 1.129617e-25 & 2.044381e-22 & 48.18309    \\\\\n",
       "\\end{tabular}\n"
      ],
      "text/markdown": [
       "\n",
       "| <!--/--> | ID | logFC | AveExpr | t | P.Value | adj.P.Val | B | \n",
       "|---|---|---|---|---|---|---|---|---|---|\n",
       "| ENSG00000108342 | CSF3         | 5.333474     |  6.665895    | 28.62101     | 3.921862e-31 | 7.097785e-27 | 60.18957     | \n",
       "| ENSG00000105835 | NAMPT        | 2.976370     |  9.918208    | 27.55104     | 2.087131e-30 | 1.888645e-26 | 58.61733     | \n",
       "| ENSG00000131979 | GCH1         | 3.726292     | 10.580272    | 26.55504     | 1.042939e-29 | 6.291700e-26 | 57.09633     | \n",
       "| ENSG00000081041 | CXCL2        | 4.321189     |  6.519552    | 26.12444     | 2.125680e-29 | 9.617637e-26 | 56.42078     | \n",
       "| ENSG00000077150 | NFKB2        | 1.543404     |  6.370521    | 24.31906     | 4.725302e-28 | 1.710370e-24 | 53.46253     | \n",
       "| ENSG00000115009 | CCL20        | 7.267348     |  8.006477    | 22.89588     | 6.282549e-27 | 1.895026e-23 | 50.97646     | \n",
       "| ENSG00000138821 | SLC39A8      | 3.378562     |  7.845503    | 22.07684     | 2.963582e-26 | 7.662129e-23 | 49.47888     | \n",
       "| ENSG00000118503 | TNFAIP3      | 2.697445     | 10.298845    | 21.68541     | 6.326177e-26 | 1.431139e-22 | 48.74498     | \n",
       "| ENSG00000110911 | SLC11A2      | 1.591143     |  8.646284    | 21.53591     | 8.476583e-26 | 1.704547e-22 | 48.46147     | \n",
       "| ENSG00000146374 | RSPO3        | 4.856319     |  7.947501    | 21.39002     | 1.129617e-25 | 2.044381e-22 | 48.18309     | \n",
       "\n",
       "\n"
      ],
      "text/plain": [
       "                ID      logFC    AveExpr   t        P.Value      adj.P.Val   \n",
       "ENSG00000108342 CSF3    5.333474  6.665895 28.62101 3.921862e-31 7.097785e-27\n",
       "ENSG00000105835 NAMPT   2.976370  9.918208 27.55104 2.087131e-30 1.888645e-26\n",
       "ENSG00000131979 GCH1    3.726292 10.580272 26.55504 1.042939e-29 6.291700e-26\n",
       "ENSG00000081041 CXCL2   4.321189  6.519552 26.12444 2.125680e-29 9.617637e-26\n",
       "ENSG00000077150 NFKB2   1.543404  6.370521 24.31906 4.725302e-28 1.710370e-24\n",
       "ENSG00000115009 CCL20   7.267348  8.006477 22.89588 6.282549e-27 1.895026e-23\n",
       "ENSG00000138821 SLC39A8 3.378562  7.845503 22.07684 2.963582e-26 7.662129e-23\n",
       "ENSG00000118503 TNFAIP3 2.697445 10.298845 21.68541 6.326177e-26 1.431139e-22\n",
       "ENSG00000110911 SLC11A2 1.591143  8.646284 21.53591 8.476583e-26 1.704547e-22\n",
       "ENSG00000146374 RSPO3   4.856319  7.947501 21.39002 1.129617e-25 2.044381e-22\n",
       "                B       \n",
       "ENSG00000108342 60.18957\n",
       "ENSG00000105835 58.61733\n",
       "ENSG00000131979 57.09633\n",
       "ENSG00000081041 56.42078\n",
       "ENSG00000077150 53.46253\n",
       "ENSG00000115009 50.97646\n",
       "ENSG00000138821 49.47888\n",
       "ENSG00000118503 48.74498\n",
       "ENSG00000110911 48.46147\n",
       "ENSG00000146374 48.18309"
      ]
     },
     "metadata": {},
     "output_type": "display_data"
    }
   ],
   "source": [
    "topTable(m_fit, coef = \"TNF\")\n",
    "\n",
    "topTable(m_fit, coef = \"TNF_IL17\")"
   ]
  },
  {
   "cell_type": "markdown",
   "metadata": {},
   "source": [
    "## TNF effects and TNF+IL17 effects"
   ]
  },
  {
   "cell_type": "code",
   "execution_count": 42,
   "metadata": {},
   "outputs": [
    {
     "data": {
      "text/html": [
       "<ol class=list-inline>\n",
       "\t<li>'Baseline'</li>\n",
       "\t<li>'None'</li>\n",
       "\t<li>'TNF'</li>\n",
       "\t<li>'TNF_IL17'</li>\n",
       "</ol>\n"
      ],
      "text/latex": [
       "\\begin{enumerate*}\n",
       "\\item 'Baseline'\n",
       "\\item 'None'\n",
       "\\item 'TNF'\n",
       "\\item 'TNF\\_IL17'\n",
       "\\end{enumerate*}\n"
      ],
      "text/markdown": [
       "1. 'Baseline'\n",
       "2. 'None'\n",
       "3. 'TNF'\n",
       "4. 'TNF_IL17'\n",
       "\n",
       "\n"
      ],
      "text/plain": [
       "[1] \"Baseline\" \"None\"     \"TNF\"      \"TNF_IL17\""
      ]
     },
     "metadata": {},
     "output_type": "display_data"
    }
   ],
   "source": [
    "colnames(m_des)"
   ]
  },
  {
   "cell_type": "code",
   "execution_count": 43,
   "metadata": {},
   "outputs": [
    {
     "data": {
      "text/html": [
       "<table>\n",
       "<thead><tr><th></th><th scope=col>ID</th><th scope=col>logFC</th><th scope=col>CI.L</th><th scope=col>CI.R</th><th scope=col>AveExpr</th><th scope=col>t</th><th scope=col>P.Value</th><th scope=col>adj.P.Val</th><th scope=col>B</th></tr></thead>\n",
       "<tbody>\n",
       "\t<tr><th scope=row>ENSG00000108342</th><td>CSF3        </td><td>4.8572111   </td><td>4.4822000   </td><td>5.2322223   </td><td> 6.665895   </td><td>26.06524    </td><td>2.346185e-29</td><td>4.246126e-25</td><td>53.29588    </td></tr>\n",
       "\t<tr><th scope=row>ENSG00000163435</th><td>ELF3        </td><td>3.3511038   </td><td>2.9999560   </td><td>3.7022516   </td><td> 6.064851   </td><td>19.20512    </td><td>1.019192e-23</td><td>9.222669e-20</td><td>42.31613    </td></tr>\n",
       "\t<tr><th scope=row>ENSG00000105792</th><td>CFAP69      </td><td>1.3977818   </td><td>1.2366017   </td><td>1.5589619   </td><td> 6.688704   </td><td>17.45207    </td><td>5.096866e-22</td><td>3.074770e-18</td><td>38.82590    </td></tr>\n",
       "\t<tr><th scope=row>ENSG00000110944</th><td>IL23A       </td><td>0.8636468   </td><td>0.7557028   </td><td>0.9715908   </td><td> 3.535327   </td><td>16.10115    </td><td>1.274836e-20</td><td>5.767997e-17</td><td>35.90370    </td></tr>\n",
       "\t<tr><th scope=row>ENSG00000152503</th><td>TRIM36      </td><td>0.7213517   </td><td>0.6297524   </td><td>0.8129511   </td><td> 4.795544   </td><td>15.84797    </td><td>2.380796e-20</td><td>8.617530e-17</td><td>35.33198    </td></tr>\n",
       "\t<tr><th scope=row>ENSG00000168389</th><td>MFSD2A      </td><td>1.2242814   </td><td>1.0544213   </td><td>1.3941415   </td><td> 6.616967   </td><td>14.50470    </td><td>7.375738e-19</td><td>2.224769e-15</td><td>32.16431    </td></tr>\n",
       "\t<tr><th scope=row>ENSG00000074603</th><td>DPP8        </td><td>0.6400091   </td><td>0.5485296   </td><td>0.7314886   </td><td>11.040899   </td><td>14.07931    </td><td>2.285059e-18</td><td>5.907857e-15</td><td>31.11237    </td></tr>\n",
       "\t<tr><th scope=row>ENSG00000213949</th><td>ITGA1       </td><td>1.6029277   </td><td>1.3541634   </td><td>1.8516921   </td><td> 6.472764   </td><td>12.96716    </td><td>4.873738e-17</td><td>1.102561e-13</td><td>28.24637    </td></tr>\n",
       "\t<tr><th scope=row>ENSG00000090376</th><td>IRAK3       </td><td>1.1211819   </td><td>0.9435905   </td><td>1.2987732   </td><td> 7.968347   </td><td>12.70496    </td><td>1.025455e-16</td><td>2.062075e-13</td><td>27.54574    </td></tr>\n",
       "\t<tr><th scope=row>ENSG00000105835</th><td>NAMPT       </td><td>1.3268737   </td><td>1.1094695   </td><td>1.5442778   </td><td> 9.918208   </td><td>12.28233    </td><td>3.464373e-16</td><td>6.269822e-13</td><td>26.39602    </td></tr>\n",
       "</tbody>\n",
       "</table>\n"
      ],
      "text/latex": [
       "\\begin{tabular}{r|lllllllll}\n",
       "  & ID & logFC & CI.L & CI.R & AveExpr & t & P.Value & adj.P.Val & B\\\\\n",
       "\\hline\n",
       "\tENSG00000108342 & CSF3         & 4.8572111    & 4.4822000    & 5.2322223    &  6.665895    & 26.06524     & 2.346185e-29 & 4.246126e-25 & 53.29588    \\\\\n",
       "\tENSG00000163435 & ELF3         & 3.3511038    & 2.9999560    & 3.7022516    &  6.064851    & 19.20512     & 1.019192e-23 & 9.222669e-20 & 42.31613    \\\\\n",
       "\tENSG00000105792 & CFAP69       & 1.3977818    & 1.2366017    & 1.5589619    &  6.688704    & 17.45207     & 5.096866e-22 & 3.074770e-18 & 38.82590    \\\\\n",
       "\tENSG00000110944 & IL23A        & 0.8636468    & 0.7557028    & 0.9715908    &  3.535327    & 16.10115     & 1.274836e-20 & 5.767997e-17 & 35.90370    \\\\\n",
       "\tENSG00000152503 & TRIM36       & 0.7213517    & 0.6297524    & 0.8129511    &  4.795544    & 15.84797     & 2.380796e-20 & 8.617530e-17 & 35.33198    \\\\\n",
       "\tENSG00000168389 & MFSD2A       & 1.2242814    & 1.0544213    & 1.3941415    &  6.616967    & 14.50470     & 7.375738e-19 & 2.224769e-15 & 32.16431    \\\\\n",
       "\tENSG00000074603 & DPP8         & 0.6400091    & 0.5485296    & 0.7314886    & 11.040899    & 14.07931     & 2.285059e-18 & 5.907857e-15 & 31.11237    \\\\\n",
       "\tENSG00000213949 & ITGA1        & 1.6029277    & 1.3541634    & 1.8516921    &  6.472764    & 12.96716     & 4.873738e-17 & 1.102561e-13 & 28.24637    \\\\\n",
       "\tENSG00000090376 & IRAK3        & 1.1211819    & 0.9435905    & 1.2987732    &  7.968347    & 12.70496     & 1.025455e-16 & 2.062075e-13 & 27.54574    \\\\\n",
       "\tENSG00000105835 & NAMPT        & 1.3268737    & 1.1094695    & 1.5442778    &  9.918208    & 12.28233     & 3.464373e-16 & 6.269822e-13 & 26.39602    \\\\\n",
       "\\end{tabular}\n"
      ],
      "text/markdown": [
       "\n",
       "| <!--/--> | ID | logFC | CI.L | CI.R | AveExpr | t | P.Value | adj.P.Val | B | \n",
       "|---|---|---|---|---|---|---|---|---|---|\n",
       "| ENSG00000108342 | CSF3         | 4.8572111    | 4.4822000    | 5.2322223    |  6.665895    | 26.06524     | 2.346185e-29 | 4.246126e-25 | 53.29588     | \n",
       "| ENSG00000163435 | ELF3         | 3.3511038    | 2.9999560    | 3.7022516    |  6.064851    | 19.20512     | 1.019192e-23 | 9.222669e-20 | 42.31613     | \n",
       "| ENSG00000105792 | CFAP69       | 1.3977818    | 1.2366017    | 1.5589619    |  6.688704    | 17.45207     | 5.096866e-22 | 3.074770e-18 | 38.82590     | \n",
       "| ENSG00000110944 | IL23A        | 0.8636468    | 0.7557028    | 0.9715908    |  3.535327    | 16.10115     | 1.274836e-20 | 5.767997e-17 | 35.90370     | \n",
       "| ENSG00000152503 | TRIM36       | 0.7213517    | 0.6297524    | 0.8129511    |  4.795544    | 15.84797     | 2.380796e-20 | 8.617530e-17 | 35.33198     | \n",
       "| ENSG00000168389 | MFSD2A       | 1.2242814    | 1.0544213    | 1.3941415    |  6.616967    | 14.50470     | 7.375738e-19 | 2.224769e-15 | 32.16431     | \n",
       "| ENSG00000074603 | DPP8         | 0.6400091    | 0.5485296    | 0.7314886    | 11.040899    | 14.07931     | 2.285059e-18 | 5.907857e-15 | 31.11237     | \n",
       "| ENSG00000213949 | ITGA1        | 1.6029277    | 1.3541634    | 1.8516921    |  6.472764    | 12.96716     | 4.873738e-17 | 1.102561e-13 | 28.24637     | \n",
       "| ENSG00000090376 | IRAK3        | 1.1211819    | 0.9435905    | 1.2987732    |  7.968347    | 12.70496     | 1.025455e-16 | 2.062075e-13 | 27.54574     | \n",
       "| ENSG00000105835 | NAMPT        | 1.3268737    | 1.1094695    | 1.5442778    |  9.918208    | 12.28233     | 3.464373e-16 | 6.269822e-13 | 26.39602     | \n",
       "\n",
       "\n"
      ],
      "text/plain": [
       "                ID     logFC     CI.L      CI.R      AveExpr   t       \n",
       "ENSG00000108342 CSF3   4.8572111 4.4822000 5.2322223  6.665895 26.06524\n",
       "ENSG00000163435 ELF3   3.3511038 2.9999560 3.7022516  6.064851 19.20512\n",
       "ENSG00000105792 CFAP69 1.3977818 1.2366017 1.5589619  6.688704 17.45207\n",
       "ENSG00000110944 IL23A  0.8636468 0.7557028 0.9715908  3.535327 16.10115\n",
       "ENSG00000152503 TRIM36 0.7213517 0.6297524 0.8129511  4.795544 15.84797\n",
       "ENSG00000168389 MFSD2A 1.2242814 1.0544213 1.3941415  6.616967 14.50470\n",
       "ENSG00000074603 DPP8   0.6400091 0.5485296 0.7314886 11.040899 14.07931\n",
       "ENSG00000213949 ITGA1  1.6029277 1.3541634 1.8516921  6.472764 12.96716\n",
       "ENSG00000090376 IRAK3  1.1211819 0.9435905 1.2987732  7.968347 12.70496\n",
       "ENSG00000105835 NAMPT  1.3268737 1.1094695 1.5442778  9.918208 12.28233\n",
       "                P.Value      adj.P.Val    B       \n",
       "ENSG00000108342 2.346185e-29 4.246126e-25 53.29588\n",
       "ENSG00000163435 1.019192e-23 9.222669e-20 42.31613\n",
       "ENSG00000105792 5.096866e-22 3.074770e-18 38.82590\n",
       "ENSG00000110944 1.274836e-20 5.767997e-17 35.90370\n",
       "ENSG00000152503 2.380796e-20 8.617530e-17 35.33198\n",
       "ENSG00000168389 7.375738e-19 2.224769e-15 32.16431\n",
       "ENSG00000074603 2.285059e-18 5.907857e-15 31.11237\n",
       "ENSG00000213949 4.873738e-17 1.102561e-13 28.24637\n",
       "ENSG00000090376 1.025455e-16 2.062075e-13 27.54574\n",
       "ENSG00000105835 3.464373e-16 6.269822e-13 26.39602"
      ]
     },
     "metadata": {},
     "output_type": "display_data"
    }
   ],
   "source": [
    "m_con2 <- makeContrasts(\n",
    "  levels   = m_des,\n",
    "  TNF_vs_None      = TNF - None,\n",
    "  TNF_IL17_vs_None = TNF_IL17 - None,\n",
    "  TNF_IL17_vs_TNF  = TNF_IL17 - TNF\n",
    ")\n",
    "m_con2 <- contrasts.fit(m_fit, m_con2)\n",
    "m_con2 <- eBayes(m_con2)\n",
    "m_con2$genes <- ensembl_to_symbol[rownames(m_con2$coefficients)]\n",
    "\n",
    "topTable(m_con2, coef = \"TNF_IL17_vs_TNF\", confint = TRUE)"
   ]
  },
  {
   "cell_type": "code",
   "execution_count": 44,
   "metadata": {},
   "outputs": [
    {
     "data": {
      "text/html": [
       "<table>\n",
       "<thead><tr><th></th><th scope=col>Up</th><th scope=col>Down</th><th scope=col>Unchanged</th></tr></thead>\n",
       "<tbody>\n",
       "\t<tr><th scope=row>TNF_vs_None</th><td>398  </td><td>144  </td><td>17556</td></tr>\n",
       "\t<tr><th scope=row>TNF_IL17_vs_None</th><td>448  </td><td>216  </td><td>17434</td></tr>\n",
       "\t<tr><th scope=row>TNF_IL17_vs_TNF</th><td>122  </td><td> 81  </td><td>17895</td></tr>\n",
       "</tbody>\n",
       "</table>\n"
      ],
      "text/latex": [
       "\\begin{tabular}{r|lll}\n",
       "  & Up & Down & Unchanged\\\\\n",
       "\\hline\n",
       "\tTNF\\_vs\\_None & 398   & 144   & 17556\\\\\n",
       "\tTNF\\_IL17\\_vs\\_None & 448   & 216   & 17434\\\\\n",
       "\tTNF\\_IL17\\_vs\\_TNF & 122   &  81   & 17895\\\\\n",
       "\\end{tabular}\n"
      ],
      "text/markdown": [
       "\n",
       "| <!--/--> | Up | Down | Unchanged | \n",
       "|---|---|---|\n",
       "| TNF_vs_None | 398   | 144   | 17556 | \n",
       "| TNF_IL17_vs_None | 448   | 216   | 17434 | \n",
       "| TNF_IL17_vs_TNF | 122   |  81   | 17895 | \n",
       "\n",
       "\n"
      ],
      "text/plain": [
       "                 Up  Down Unchanged\n",
       "TNF_vs_None      398 144  17556    \n",
       "TNF_IL17_vs_None 448 216  17434    \n",
       "TNF_IL17_vs_TNF  122  81  17895    "
      ]
     },
     "metadata": {},
     "output_type": "display_data"
    }
   ],
   "source": [
    "x <- decideTests(m_con2, lfc = log2(2), p.value = 0.05)\n",
    "\n",
    "do.call(rbind, apply(x, 2, function(x) {\n",
    "  data.frame(\n",
    "    \"Up\"        = sum(x == 1),\n",
    "    \"Down\"      = sum(x == -1),\n",
    "    \"Unchanged\" = sum(x == 0)\n",
    "  )\n",
    "}))"
   ]
  },
  {
   "cell_type": "code",
   "execution_count": 45,
   "metadata": {},
   "outputs": [
    {
     "data": {
      "text/html": [
       "<table>\n",
       "<thead><tr><th scope=col>ID</th><th scope=col>logFC</th><th scope=col>CI.L</th><th scope=col>CI.R</th><th scope=col>AveExpr</th><th scope=col>t</th><th scope=col>P.Value</th><th scope=col>adj.P.Val</th><th scope=col>B</th><th scope=col>ensembl_id</th><th scope=col>Coef</th></tr></thead>\n",
       "<tbody>\n",
       "\t<tr><td>TNFAIP3        </td><td>3.342516       </td><td>3.092191       </td><td>3.592840       </td><td>10.298845      </td><td>26.87129       </td><td>6.222003e-30   </td><td>8.602228e-26   </td><td>57.02262       </td><td>ENSG00000118503</td><td>TNF_vs_None    </td></tr>\n",
       "\t<tr><td>GCH1           </td><td>3.734220       </td><td>3.451830       </td><td>4.016609       </td><td>10.580272      </td><td>26.61154       </td><td>9.506274e-30   </td><td>8.602228e-26   </td><td>56.63468       </td><td>ENSG00000131979</td><td>TNF_vs_None    </td></tr>\n",
       "\t<tr><td>NFKB2          </td><td>1.435541       </td><td>1.307824       </td><td>1.563259       </td><td> 6.370521      </td><td>22.61950       </td><td>1.054829e-26   </td><td>6.363434e-23   </td><td>50.12147       </td><td>ENSG00000077150</td><td>TNF_vs_None    </td></tr>\n",
       "\t<tr><td>ICAM1          </td><td>3.767878       </td><td>3.415917       </td><td>4.119839       </td><td> 9.287439      </td><td>21.54377       </td><td>8.346917e-26   </td><td>3.776563e-22   </td><td>48.16942       </td><td>ENSG00000090339</td><td>TNF_vs_None    </td></tr>\n",
       "\t<tr><td>NFKBIA         </td><td>2.636530       </td><td>2.378029       </td><td>2.895030       </td><td> 9.855387      </td><td>20.52532       </td><td>6.407495e-25   </td><td>2.273522e-21   </td><td>46.23422       </td><td>ENSG00000100906</td><td>TNF_vs_None    </td></tr>\n",
       "\t<tr><td>SLC39A8        </td><td>3.128966       </td><td>2.820992       </td><td>3.436940       </td><td> 7.845503      </td><td>20.44588       </td><td>7.537369e-25   </td><td>2.273522e-21   </td><td>46.07955       </td><td>ENSG00000138821</td><td>TNF_vs_None    </td></tr>\n",
       "</tbody>\n",
       "</table>\n"
      ],
      "text/latex": [
       "\\begin{tabular}{r|lllllllllll}\n",
       " ID & logFC & CI.L & CI.R & AveExpr & t & P.Value & adj.P.Val & B & ensembl\\_id & Coef\\\\\n",
       "\\hline\n",
       "\t TNFAIP3         & 3.342516        & 3.092191        & 3.592840        & 10.298845       & 26.87129        & 6.222003e-30    & 8.602228e-26    & 57.02262        & ENSG00000118503 & TNF\\_vs\\_None\\\\\n",
       "\t GCH1            & 3.734220        & 3.451830        & 4.016609        & 10.580272       & 26.61154        & 9.506274e-30    & 8.602228e-26    & 56.63468        & ENSG00000131979 & TNF\\_vs\\_None\\\\\n",
       "\t NFKB2           & 1.435541        & 1.307824        & 1.563259        &  6.370521       & 22.61950        & 1.054829e-26    & 6.363434e-23    & 50.12147        & ENSG00000077150 & TNF\\_vs\\_None\\\\\n",
       "\t ICAM1           & 3.767878        & 3.415917        & 4.119839        &  9.287439       & 21.54377        & 8.346917e-26    & 3.776563e-22    & 48.16942        & ENSG00000090339 & TNF\\_vs\\_None\\\\\n",
       "\t NFKBIA          & 2.636530        & 2.378029        & 2.895030        &  9.855387       & 20.52532        & 6.407495e-25    & 2.273522e-21    & 46.23422        & ENSG00000100906 & TNF\\_vs\\_None\\\\\n",
       "\t SLC39A8         & 3.128966        & 2.820992        & 3.436940        &  7.845503       & 20.44588        & 7.537369e-25    & 2.273522e-21    & 46.07955        & ENSG00000138821 & TNF\\_vs\\_None\\\\\n",
       "\\end{tabular}\n"
      ],
      "text/markdown": [
       "\n",
       "ID | logFC | CI.L | CI.R | AveExpr | t | P.Value | adj.P.Val | B | ensembl_id | Coef | \n",
       "|---|---|---|---|---|---|\n",
       "| TNFAIP3         | 3.342516        | 3.092191        | 3.592840        | 10.298845       | 26.87129        | 6.222003e-30    | 8.602228e-26    | 57.02262        | ENSG00000118503 | TNF_vs_None     | \n",
       "| GCH1            | 3.734220        | 3.451830        | 4.016609        | 10.580272       | 26.61154        | 9.506274e-30    | 8.602228e-26    | 56.63468        | ENSG00000131979 | TNF_vs_None     | \n",
       "| NFKB2           | 1.435541        | 1.307824        | 1.563259        |  6.370521       | 22.61950        | 1.054829e-26    | 6.363434e-23    | 50.12147        | ENSG00000077150 | TNF_vs_None     | \n",
       "| ICAM1           | 3.767878        | 3.415917        | 4.119839        |  9.287439       | 21.54377        | 8.346917e-26    | 3.776563e-22    | 48.16942        | ENSG00000090339 | TNF_vs_None     | \n",
       "| NFKBIA          | 2.636530        | 2.378029        | 2.895030        |  9.855387       | 20.52532        | 6.407495e-25    | 2.273522e-21    | 46.23422        | ENSG00000100906 | TNF_vs_None     | \n",
       "| SLC39A8         | 3.128966        | 2.820992        | 3.436940        |  7.845503       | 20.44588        | 7.537369e-25    | 2.273522e-21    | 46.07955        | ENSG00000138821 | TNF_vs_None     | \n",
       "\n",
       "\n"
      ],
      "text/plain": [
       "  ID      logFC    CI.L     CI.R     AveExpr   t        P.Value     \n",
       "1 TNFAIP3 3.342516 3.092191 3.592840 10.298845 26.87129 6.222003e-30\n",
       "2 GCH1    3.734220 3.451830 4.016609 10.580272 26.61154 9.506274e-30\n",
       "3 NFKB2   1.435541 1.307824 1.563259  6.370521 22.61950 1.054829e-26\n",
       "4 ICAM1   3.767878 3.415917 4.119839  9.287439 21.54377 8.346917e-26\n",
       "5 NFKBIA  2.636530 2.378029 2.895030  9.855387 20.52532 6.407495e-25\n",
       "6 SLC39A8 3.128966 2.820992 3.436940  7.845503 20.44588 7.537369e-25\n",
       "  adj.P.Val    B        ensembl_id      Coef       \n",
       "1 8.602228e-26 57.02262 ENSG00000118503 TNF_vs_None\n",
       "2 8.602228e-26 56.63468 ENSG00000131979 TNF_vs_None\n",
       "3 6.363434e-23 50.12147 ENSG00000077150 TNF_vs_None\n",
       "4 3.776563e-22 48.16942 ENSG00000090339 TNF_vs_None\n",
       "5 2.273522e-21 46.23422 ENSG00000100906 TNF_vs_None\n",
       "6 2.273522e-21 46.07955 ENSG00000138821 TNF_vs_None"
      ]
     },
     "metadata": {},
     "output_type": "display_data"
    }
   ],
   "source": [
    "dat <- do.call(rbind, lapply(c(\"TNF_vs_None\", \"TNF_IL17_vs_None\", \"TNF_IL17_vs_TNF\"), function(this_coef) {\n",
    "  retval <- topTable(m_con2, coef = this_coef, number = 1e6, confint = TRUE)\n",
    "  retval$ensembl_id <- rownames(retval)\n",
    "  retval$Coef <- this_coef\n",
    "  retval\n",
    "}))\n",
    "rownames(dat) <- seq(nrow(dat))\n",
    "head(dat)"
   ]
  },
  {
   "cell_type": "markdown",
   "metadata": {},
   "source": [
    "# Export differential expression results"
   ]
  },
  {
   "cell_type": "code",
   "execution_count": 46,
   "metadata": {},
   "outputs": [
    {
     "data": {
      "text/html": [
       "'/data/srlab/slowikow/fibroblast_timecourse'"
      ],
      "text/latex": [
       "'/data/srlab/slowikow/fibroblast\\_timecourse'"
      ],
      "text/markdown": [
       "'/data/srlab/slowikow/fibroblast_timecourse'"
      ],
      "text/plain": [
       "[1] \"/data/srlab/slowikow/fibroblast_timecourse\""
      ]
     },
     "metadata": {},
     "output_type": "display_data"
    }
   ],
   "source": [
    "getwd()\n",
    "\n",
    "format_numeric <- function(x, ...) {\n",
    "  numeric_cols <- vapply(x, is.numeric, logical(1))\n",
    "  x[numeric_cols] <- lapply(x[numeric_cols], function(x) {\n",
    "    ix <- abs(x) < 0.01\n",
    "    x1 <- sprintf(\"%.3e\", x[ix])\n",
    "    x2 <- sprintf(\"%.4f\", x[!ix])\n",
    "    x[ix] <- x1\n",
    "    x[!ix] <- x2\n",
    "    x\n",
    "  })\n",
    "  x\n",
    "}\n",
    "\n",
    "readr::write_tsv(\n",
    "  x = format_numeric(as.data.frame(dat)),\n",
    "  path = \"analysis/limma/002_microarray-data-2_limma_contrasts.tsv.gz\"\n",
    ")"
   ]
  },
  {
   "cell_type": "code",
   "execution_count": 47,
   "metadata": {},
   "outputs": [
    {
     "data": {
      "text/html": [
       "<table>\n",
       "<thead><tr><th scope=col>ensembl_id</th><th scope=col>TNF_IL17_vs_None</th><th scope=col>TNF_IL17_vs_TNF</th><th scope=col>TNF_vs_None</th></tr></thead>\n",
       "<tbody>\n",
       "\t<tr><td>ENSG00000000003</td><td>-0.16838781    </td><td> 0.33421132    </td><td>-0.50259913    </td></tr>\n",
       "\t<tr><td>ENSG00000000005</td><td> 0.08767749    </td><td> 0.06657429    </td><td> 0.02110320    </td></tr>\n",
       "\t<tr><td>ENSG00000000419</td><td>-0.03699915    </td><td>-0.01680786    </td><td>-0.02019129    </td></tr>\n",
       "\t<tr><td>ENSG00000000457</td><td> 0.25855406    </td><td> 0.07692247    </td><td> 0.18163159    </td></tr>\n",
       "\t<tr><td>ENSG00000000460</td><td> 0.20217445    </td><td>-0.20614147    </td><td> 0.40831592    </td></tr>\n",
       "\t<tr><td>ENSG00000000938</td><td> 0.42836322    </td><td> 0.07572446    </td><td> 0.35263876    </td></tr>\n",
       "</tbody>\n",
       "</table>\n"
      ],
      "text/latex": [
       "\\begin{tabular}{r|llll}\n",
       " ensembl\\_id & TNF\\_IL17\\_vs\\_None & TNF\\_IL17\\_vs\\_TNF & TNF\\_vs\\_None\\\\\n",
       "\\hline\n",
       "\t ENSG00000000003 & -0.16838781     &  0.33421132     & -0.50259913    \\\\\n",
       "\t ENSG00000000005 &  0.08767749     &  0.06657429     &  0.02110320    \\\\\n",
       "\t ENSG00000000419 & -0.03699915     & -0.01680786     & -0.02019129    \\\\\n",
       "\t ENSG00000000457 &  0.25855406     &  0.07692247     &  0.18163159    \\\\\n",
       "\t ENSG00000000460 &  0.20217445     & -0.20614147     &  0.40831592    \\\\\n",
       "\t ENSG00000000938 &  0.42836322     &  0.07572446     &  0.35263876    \\\\\n",
       "\\end{tabular}\n"
      ],
      "text/markdown": [
       "\n",
       "ensembl_id | TNF_IL17_vs_None | TNF_IL17_vs_TNF | TNF_vs_None | \n",
       "|---|---|---|---|---|---|\n",
       "| ENSG00000000003 | -0.16838781     |  0.33421132     | -0.50259913     | \n",
       "| ENSG00000000005 |  0.08767749     |  0.06657429     |  0.02110320     | \n",
       "| ENSG00000000419 | -0.03699915     | -0.01680786     | -0.02019129     | \n",
       "| ENSG00000000457 |  0.25855406     |  0.07692247     |  0.18163159     | \n",
       "| ENSG00000000460 |  0.20217445     | -0.20614147     |  0.40831592     | \n",
       "| ENSG00000000938 |  0.42836322     |  0.07572446     |  0.35263876     | \n",
       "\n",
       "\n"
      ],
      "text/plain": [
       "  ensembl_id      TNF_IL17_vs_None TNF_IL17_vs_TNF TNF_vs_None\n",
       "1 ENSG00000000003 -0.16838781       0.33421132     -0.50259913\n",
       "2 ENSG00000000005  0.08767749       0.06657429      0.02110320\n",
       "3 ENSG00000000419 -0.03699915      -0.01680786     -0.02019129\n",
       "4 ENSG00000000457  0.25855406       0.07692247      0.18163159\n",
       "5 ENSG00000000460  0.20217445      -0.20614147      0.40831592\n",
       "6 ENSG00000000938  0.42836322       0.07572446      0.35263876"
      ]
     },
     "metadata": {},
     "output_type": "display_data"
    }
   ],
   "source": [
    "d <- dcast(data = dat, formula = ensembl_id ~ Coef, value.var = \"logFC\")\n",
    "head(d)"
   ]
  },
  {
   "cell_type": "code",
   "execution_count": 48,
   "metadata": {},
   "outputs": [
    {
     "data": {
      "image/png": "[encoded data removed]",
      "text/plain": [
       "plot without title"
      ]
     },
     "metadata": {},
     "output_type": "display_data"
    }
   ],
   "source": [
    "options(repr.plot.width = 8, repr.plot.height = 5)\n",
    "\n",
    "d %>%\n",
    "# head(100) %>%\n",
    "ggplot(aes(x = TNF_vs_None, y = TNF_IL17_vs_TNF)) +\n",
    "geom_rect(\n",
    "  mapping = aes(\n",
    "    xmin = log2(1 / 2),\n",
    "    xmax = log2(2),\n",
    "    ymin = -Inf,\n",
    "    ymax = Inf\n",
    "  ),\n",
    "  fill = \"grey90\"\n",
    ") +\n",
    "geom_rect(\n",
    "  mapping = aes(\n",
    "    ymin = log2(1 / 2),\n",
    "    ymax = log2(2),\n",
    "    xmin = -Inf,\n",
    "    xmax = Inf\n",
    "  ),\n",
    "  fill = \"grey90\"\n",
    ") +\n",
    "geom_hline(yintercept = 0, size = 0.2) +\n",
    "geom_vline(xintercept = 0, size = 0.2) +\n",
    "geom_point(size = 0.1) +\n",
    "scale_color_manual(values = c(\"grey50\", \"black\")) +\n",
    "theme(legend.position = \"none\") +\n",
    "scale_x_continuous(\n",
    "  breaks = pretty_breaks(5),\n",
    "  labels = function(x) fractional(2^x)\n",
    ") +\n",
    "scale_y_continuous(\n",
    "  breaks = pretty_breaks(4),\n",
    "  labels = function(x) fractional(2^x)\n",
    ") +\n",
    "# geom_text(\n",
    "#   data = subset(dat, IL17 > log2(2) & abs(TNF) > log2(2)),\n",
    "#   mapping = aes(x = TNF, y = IL17, label = gene)\n",
    "# ) +\n",
    "labs(x = \"TNF\", y = \"TNF + IL17\", title = \"Microarrays\")"
   ]
  },
  {
   "cell_type": "markdown",
   "metadata": {},
   "source": [
    "# Compare MA-data-1 and MA-data-2"
   ]
  },
  {
   "cell_type": "code",
   "execution_count": 49,
   "metadata": {},
   "outputs": [
    {
     "name": "stderr",
     "output_type": "stream",
     "text": [
      "\n",
      "Attaching package: ‘readr’\n",
      "\n",
      "The following object is masked from ‘package:scales’:\n",
      "\n",
      "    col_factor\n",
      "\n"
     ]
    }
   ],
   "source": [
    "library(readr)"
   ]
  },
  {
   "cell_type": "code",
   "execution_count": 50,
   "metadata": {},
   "outputs": [
    {
     "data": {
      "text/html": [
       "<table>\n",
       "<thead><tr><th scope=col>ID</th><th scope=col>logFC</th><th scope=col>CI.L</th><th scope=col>CI.R</th><th scope=col>AveExpr</th><th scope=col>t</th><th scope=col>P.Value</th><th scope=col>adj.P.Val</th><th scope=col>B</th><th scope=col>ensembl_id</th><th scope=col>Coef</th></tr></thead>\n",
       "<tbody>\n",
       "\t<tr><td>NFKBIZ         </td><td>0.9949         </td><td>0.7592         </td><td>1.2306         </td><td> 8.3736        </td><td>8.4711         </td><td>2.449e-11      </td><td>4.370e-07      </td><td>10.7459        </td><td>ENSG00000144802</td><td>IL17_vs_MEDIA  </td></tr>\n",
       "\t<tr><td>TNFAIP6        </td><td>0.5772         </td><td>0.4214         </td><td>0.7329         </td><td>12.1548        </td><td>7.4366         </td><td>1.041e-09      </td><td>9.284e-06      </td><td> 8.3928        </td><td>ENSG00000123610</td><td>IL17_vs_MEDIA  </td></tr>\n",
       "\t<tr><td>CXCL1          </td><td>0.8128         </td><td>0.5878         </td><td>1.0377         </td><td> 9.7649        </td><td>7.2512         </td><td>2.049e-09      </td><td>1.218e-05      </td><td> 7.9554        </td><td>ENSG00000163739</td><td>IL17_vs_MEDIA  </td></tr>\n",
       "\t<tr><td>NFKBIA         </td><td>0.2223         </td><td>0.1374         </td><td>0.3071         </td><td>11.2208        </td><td>5.2545         </td><td>2.858e-06      </td><td>1.270e-02      </td><td> 3.0705        </td><td>ENSG00000100906</td><td>IL17_vs_MEDIA  </td></tr>\n",
       "\t<tr><td>ZC3H12A        </td><td>0.4467         </td><td>0.2632         </td><td>0.6302         </td><td> 8.8115        </td><td>4.8865         </td><td>1.037e-05      </td><td>3.700e-02      </td><td> 2.1667        </td><td>ENSG00000163874</td><td>IL17_vs_MEDIA  </td></tr>\n",
       "\t<tr><td>IL6            </td><td>0.9228         </td><td>0.5139         </td><td>1.3317         </td><td>11.2656        </td><td>4.5293         </td><td>3.526e-05      </td><td>9.670e-02      </td><td> 1.3014        </td><td>ENSG00000136244</td><td>IL17_vs_MEDIA  </td></tr>\n",
       "</tbody>\n",
       "</table>\n"
      ],
      "text/latex": [
       "\\begin{tabular}{r|lllllllllll}\n",
       " ID & logFC & CI.L & CI.R & AveExpr & t & P.Value & adj.P.Val & B & ensembl\\_id & Coef\\\\\n",
       "\\hline\n",
       "\t NFKBIZ            & 0.9949            & 0.7592            & 1.2306            &  8.3736           & 8.4711            & 2.449e-11         & 4.370e-07         & 10.7459           & ENSG00000144802   & IL17\\_vs\\_MEDIA\\\\\n",
       "\t TNFAIP6           & 0.5772            & 0.4214            & 0.7329            & 12.1548           & 7.4366            & 1.041e-09         & 9.284e-06         &  8.3928           & ENSG00000123610   & IL17\\_vs\\_MEDIA\\\\\n",
       "\t CXCL1             & 0.8128            & 0.5878            & 1.0377            &  9.7649           & 7.2512            & 2.049e-09         & 1.218e-05         &  7.9554           & ENSG00000163739   & IL17\\_vs\\_MEDIA\\\\\n",
       "\t NFKBIA            & 0.2223            & 0.1374            & 0.3071            & 11.2208           & 5.2545            & 2.858e-06         & 1.270e-02         &  3.0705           & ENSG00000100906   & IL17\\_vs\\_MEDIA\\\\\n",
       "\t ZC3H12A           & 0.4467            & 0.2632            & 0.6302            &  8.8115           & 4.8865            & 1.037e-05         & 3.700e-02         &  2.1667           & ENSG00000163874   & IL17\\_vs\\_MEDIA\\\\\n",
       "\t IL6               & 0.9228            & 0.5139            & 1.3317            & 11.2656           & 4.5293            & 3.526e-05         & 9.670e-02         &  1.3014           & ENSG00000136244   & IL17\\_vs\\_MEDIA\\\\\n",
       "\\end{tabular}\n"
      ],
      "text/markdown": [
       "\n",
       "ID | logFC | CI.L | CI.R | AveExpr | t | P.Value | adj.P.Val | B | ensembl_id | Coef | \n",
       "|---|---|---|---|---|---|\n",
       "| NFKBIZ          | 0.9949          | 0.7592          | 1.2306          |  8.3736         | 8.4711          | 2.449e-11       | 4.370e-07       | 10.7459         | ENSG00000144802 | IL17_vs_MEDIA   | \n",
       "| TNFAIP6         | 0.5772          | 0.4214          | 0.7329          | 12.1548         | 7.4366          | 1.041e-09       | 9.284e-06       |  8.3928         | ENSG00000123610 | IL17_vs_MEDIA   | \n",
       "| CXCL1           | 0.8128          | 0.5878          | 1.0377          |  9.7649         | 7.2512          | 2.049e-09       | 1.218e-05       |  7.9554         | ENSG00000163739 | IL17_vs_MEDIA   | \n",
       "| NFKBIA          | 0.2223          | 0.1374          | 0.3071          | 11.2208         | 5.2545          | 2.858e-06       | 1.270e-02       |  3.0705         | ENSG00000100906 | IL17_vs_MEDIA   | \n",
       "| ZC3H12A         | 0.4467          | 0.2632          | 0.6302          |  8.8115         | 4.8865          | 1.037e-05       | 3.700e-02       |  2.1667         | ENSG00000163874 | IL17_vs_MEDIA   | \n",
       "| IL6             | 0.9228          | 0.5139          | 1.3317          | 11.2656         | 4.5293          | 3.526e-05       | 9.670e-02       |  1.3014         | ENSG00000136244 | IL17_vs_MEDIA   | \n",
       "\n",
       "\n"
      ],
      "text/plain": [
       "  ID      logFC  CI.L   CI.R   AveExpr t      P.Value   adj.P.Val B      \n",
       "1 NFKBIZ  0.9949 0.7592 1.2306  8.3736 8.4711 2.449e-11 4.370e-07 10.7459\n",
       "2 TNFAIP6 0.5772 0.4214 0.7329 12.1548 7.4366 1.041e-09 9.284e-06  8.3928\n",
       "3 CXCL1   0.8128 0.5878 1.0377  9.7649 7.2512 2.049e-09 1.218e-05  7.9554\n",
       "4 NFKBIA  0.2223 0.1374 0.3071 11.2208 5.2545 2.858e-06 1.270e-02  3.0705\n",
       "5 ZC3H12A 0.4467 0.2632 0.6302  8.8115 4.8865 1.037e-05 3.700e-02  2.1667\n",
       "6 IL6     0.9228 0.5139 1.3317 11.2656 4.5293 3.526e-05 9.670e-02  1.3014\n",
       "  ensembl_id      Coef         \n",
       "1 ENSG00000144802 IL17_vs_MEDIA\n",
       "2 ENSG00000123610 IL17_vs_MEDIA\n",
       "3 ENSG00000163739 IL17_vs_MEDIA\n",
       "4 ENSG00000100906 IL17_vs_MEDIA\n",
       "5 ENSG00000163874 IL17_vs_MEDIA\n",
       "6 ENSG00000136244 IL17_vs_MEDIA"
      ]
     },
     "metadata": {},
     "output_type": "display_data"
    },
    {
     "data": {
      "text/html": [
       "<table>\n",
       "<thead><tr><th scope=col>ID</th><th scope=col>logFC</th><th scope=col>CI.L</th><th scope=col>CI.R</th><th scope=col>AveExpr</th><th scope=col>t</th><th scope=col>P.Value</th><th scope=col>adj.P.Val</th><th scope=col>B</th><th scope=col>ensembl_id</th><th scope=col>Coef</th></tr></thead>\n",
       "<tbody>\n",
       "\t<tr><td>TNFAIP3        </td><td>3.3425         </td><td>3.0922         </td><td>3.5928         </td><td>10.2988        </td><td>26.8713        </td><td>6.222e-30      </td><td>8.602e-26      </td><td>57.0226        </td><td>ENSG00000118503</td><td>TNF_vs_None    </td></tr>\n",
       "\t<tr><td>GCH1           </td><td>3.7342         </td><td>3.4518         </td><td>4.0166         </td><td>10.5803        </td><td>26.6115        </td><td>9.506e-30      </td><td>8.602e-26      </td><td>56.6347        </td><td>ENSG00000131979</td><td>TNF_vs_None    </td></tr>\n",
       "\t<tr><td>NFKB2          </td><td>1.4355         </td><td>1.3078         </td><td>1.5633         </td><td> 6.3705        </td><td>22.6195        </td><td>1.055e-26      </td><td>6.363e-23      </td><td>50.1215        </td><td>ENSG00000077150</td><td>TNF_vs_None    </td></tr>\n",
       "\t<tr><td>ICAM1          </td><td>3.7679         </td><td>3.4159         </td><td>4.1198         </td><td> 9.2874        </td><td>21.5438        </td><td>8.347e-26      </td><td>3.777e-22      </td><td>48.1694        </td><td>ENSG00000090339</td><td>TNF_vs_None    </td></tr>\n",
       "\t<tr><td>NFKBIA         </td><td>2.6365         </td><td>2.3780         </td><td>2.8950         </td><td> 9.8554        </td><td>20.5253        </td><td>6.407e-25      </td><td>2.274e-21      </td><td>46.2342        </td><td>ENSG00000100906</td><td>TNF_vs_None    </td></tr>\n",
       "\t<tr><td>SLC39A8        </td><td>3.1290         </td><td>2.8210         </td><td>3.4369         </td><td> 7.8455        </td><td>20.4459        </td><td>7.537e-25      </td><td>2.274e-21      </td><td>46.0795        </td><td>ENSG00000138821</td><td>TNF_vs_None    </td></tr>\n",
       "</tbody>\n",
       "</table>\n"
      ],
      "text/latex": [
       "\\begin{tabular}{r|lllllllllll}\n",
       " ID & logFC & CI.L & CI.R & AveExpr & t & P.Value & adj.P.Val & B & ensembl\\_id & Coef\\\\\n",
       "\\hline\n",
       "\t TNFAIP3         & 3.3425          & 3.0922          & 3.5928          & 10.2988         & 26.8713         & 6.222e-30       & 8.602e-26       & 57.0226         & ENSG00000118503 & TNF\\_vs\\_None\\\\\n",
       "\t GCH1            & 3.7342          & 3.4518          & 4.0166          & 10.5803         & 26.6115         & 9.506e-30       & 8.602e-26       & 56.6347         & ENSG00000131979 & TNF\\_vs\\_None\\\\\n",
       "\t NFKB2           & 1.4355          & 1.3078          & 1.5633          &  6.3705         & 22.6195         & 1.055e-26       & 6.363e-23       & 50.1215         & ENSG00000077150 & TNF\\_vs\\_None\\\\\n",
       "\t ICAM1           & 3.7679          & 3.4159          & 4.1198          &  9.2874         & 21.5438         & 8.347e-26       & 3.777e-22       & 48.1694         & ENSG00000090339 & TNF\\_vs\\_None\\\\\n",
       "\t NFKBIA          & 2.6365          & 2.3780          & 2.8950          &  9.8554         & 20.5253         & 6.407e-25       & 2.274e-21       & 46.2342         & ENSG00000100906 & TNF\\_vs\\_None\\\\\n",
       "\t SLC39A8         & 3.1290          & 2.8210          & 3.4369          &  7.8455         & 20.4459         & 7.537e-25       & 2.274e-21       & 46.0795         & ENSG00000138821 & TNF\\_vs\\_None\\\\\n",
       "\\end{tabular}\n"
      ],
      "text/markdown": [
       "\n",
       "ID | logFC | CI.L | CI.R | AveExpr | t | P.Value | adj.P.Val | B | ensembl_id | Coef | \n",
       "|---|---|---|---|---|---|\n",
       "| TNFAIP3         | 3.3425          | 3.0922          | 3.5928          | 10.2988         | 26.8713         | 6.222e-30       | 8.602e-26       | 57.0226         | ENSG00000118503 | TNF_vs_None     | \n",
       "| GCH1            | 3.7342          | 3.4518          | 4.0166          | 10.5803         | 26.6115         | 9.506e-30       | 8.602e-26       | 56.6347         | ENSG00000131979 | TNF_vs_None     | \n",
       "| NFKB2           | 1.4355          | 1.3078          | 1.5633          |  6.3705         | 22.6195         | 1.055e-26       | 6.363e-23       | 50.1215         | ENSG00000077150 | TNF_vs_None     | \n",
       "| ICAM1           | 3.7679          | 3.4159          | 4.1198          |  9.2874         | 21.5438         | 8.347e-26       | 3.777e-22       | 48.1694         | ENSG00000090339 | TNF_vs_None     | \n",
       "| NFKBIA          | 2.6365          | 2.3780          | 2.8950          |  9.8554         | 20.5253         | 6.407e-25       | 2.274e-21       | 46.2342         | ENSG00000100906 | TNF_vs_None     | \n",
       "| SLC39A8         | 3.1290          | 2.8210          | 3.4369          |  7.8455         | 20.4459         | 7.537e-25       | 2.274e-21       | 46.0795         | ENSG00000138821 | TNF_vs_None     | \n",
       "\n",
       "\n"
      ],
      "text/plain": [
       "  ID      logFC  CI.L   CI.R   AveExpr t       P.Value   adj.P.Val B      \n",
       "1 TNFAIP3 3.3425 3.0922 3.5928 10.2988 26.8713 6.222e-30 8.602e-26 57.0226\n",
       "2 GCH1    3.7342 3.4518 4.0166 10.5803 26.6115 9.506e-30 8.602e-26 56.6347\n",
       "3 NFKB2   1.4355 1.3078 1.5633  6.3705 22.6195 1.055e-26 6.363e-23 50.1215\n",
       "4 ICAM1   3.7679 3.4159 4.1198  9.2874 21.5438 8.347e-26 3.777e-22 48.1694\n",
       "5 NFKBIA  2.6365 2.3780 2.8950  9.8554 20.5253 6.407e-25 2.274e-21 46.2342\n",
       "6 SLC39A8 3.1290 2.8210 3.4369  7.8455 20.4459 7.537e-25 2.274e-21 46.0795\n",
       "  ensembl_id      Coef       \n",
       "1 ENSG00000118503 TNF_vs_None\n",
       "2 ENSG00000131979 TNF_vs_None\n",
       "3 ENSG00000077150 TNF_vs_None\n",
       "4 ENSG00000090339 TNF_vs_None\n",
       "5 ENSG00000100906 TNF_vs_None\n",
       "6 ENSG00000138821 TNF_vs_None"
      ]
     },
     "metadata": {},
     "output_type": "display_data"
    }
   ],
   "source": [
    "col_types <- cols(\n",
    "  ID = col_character(),\n",
    "  logFC = col_double(),\n",
    "  CI.L = col_double(),\n",
    "  CI.R = col_double(),\n",
    "  AveExpr = col_double(),\n",
    "  t = col_double(),\n",
    "  P.Value = col_double(),\n",
    "  adj.P.Val = col_double(),\n",
    "  B = col_double(),\n",
    "  ensembl_id = col_character(),\n",
    "  Coef = col_character()\n",
    ")\n",
    "\n",
    "d1 <- read_tsv(\"analysis/limma/002_microarray-data-1_limma_contrasts.tsv.gz\", col_types = col_types)\n",
    "d2 <- readr::read_tsv(\"analysis/limma/002_microarray-data-2_limma_contrasts.tsv.gz\", col_types = col_types)\n",
    "\n",
    "head(d1)\n",
    "head(d2)"
   ]
  },
  {
   "cell_type": "code",
   "execution_count": 51,
   "metadata": {},
   "outputs": [],
   "source": [
    "d1$signif <- abs(d1$logFC) > log2(1.5) & d1$adj.P.Val < 0.05\n",
    "d2$signif <- abs(d2$logFC) > log2(1.5) & d2$adj.P.Val < 0.05"
   ]
  },
  {
   "cell_type": "code",
   "execution_count": 52,
   "metadata": {},
   "outputs": [
    {
     "data": {
      "text/plain": [
       "\n",
       "  IL17_vs_MEDIA TNF_IL17_vs_TNF    TNF_vs_MEDIA \n",
       "          17841           17841           17841 "
      ]
     },
     "metadata": {},
     "output_type": "display_data"
    }
   ],
   "source": [
    "table(d1$Coef)"
   ]
  },
  {
   "cell_type": "code",
   "execution_count": 53,
   "metadata": {},
   "outputs": [
    {
     "data": {
      "text/plain": [
       "\n",
       "TNF_IL17_vs_None  TNF_IL17_vs_TNF      TNF_vs_None \n",
       "           18098            18098            18098 "
      ]
     },
     "metadata": {},
     "output_type": "display_data"
    }
   ],
   "source": [
    "table(d2$Coef)"
   ]
  },
  {
   "cell_type": "code",
   "execution_count": 54,
   "metadata": {},
   "outputs": [
    {
     "data": {
      "text/html": [
       "15666"
      ],
      "text/latex": [
       "15666"
      ],
      "text/markdown": [
       "15666"
      ],
      "text/plain": [
       "[1] 15666"
      ]
     },
     "metadata": {},
     "output_type": "display_data"
    },
    {
     "data": {
      "text/html": [
       "15666"
      ],
      "text/latex": [
       "15666"
      ],
      "text/markdown": [
       "15666"
      ],
      "text/plain": [
       "[1] 15666"
      ]
     },
     "metadata": {},
     "output_type": "display_data"
    }
   ],
   "source": [
    "x1 <- d1 %>% filter(Coef == \"TNF_IL17_vs_TNF\")\n",
    "x2 <- d2 %>% filter(Coef == \"TNF_IL17_vs_TNF\")\n",
    "\n",
    "ens_both <- intersect(x1$ensembl_id, x2$ensembl_id)\n",
    "\n",
    "x1 <- x1 %>% filter(ensembl_id %in% ens_both)\n",
    "x2 <- x2 %>% filter(ensembl_id %in% ens_both)\n",
    "\n",
    "nrow(x1)\n",
    "nrow(x2)\n",
    "\n",
    "x1$data <- \"ma1\"\n",
    "x2$data <- \"ma2\"\n",
    "\n",
    "x <- rbind(x1, x2)"
   ]
  },
  {
   "cell_type": "code",
   "execution_count": 55,
   "metadata": {},
   "outputs": [
    {
     "data": {
      "text/html": [
       "<table>\n",
       "<thead><tr><th scope=col>ID</th><th scope=col>logFC</th><th scope=col>CI.L</th><th scope=col>CI.R</th><th scope=col>AveExpr</th><th scope=col>t</th><th scope=col>P.Value</th><th scope=col>adj.P.Val</th><th scope=col>B</th><th scope=col>ensembl_id</th><th scope=col>Coef</th><th scope=col>signif</th><th scope=col>data</th></tr></thead>\n",
       "<tbody>\n",
       "\t<tr><td>CNKSR3         </td><td>-0.6147        </td><td>-0.8315        </td><td>-0.3979        </td><td>7.4096         </td><td>-5.6902        </td><td>6.039e-07      </td><td>0.0006369      </td><td>5.8854         </td><td>ENSG00000153721</td><td>TNF_IL17_vs_TNF</td><td>TRUE           </td><td>ma1            </td></tr>\n",
       "\t<tr><td>CNKSR3         </td><td>-0.7848        </td><td>-1.0806        </td><td>-0.4890        </td><td>5.0327         </td><td>-5.3387        </td><td>2.739e-06      </td><td>0.0001652      </td><td>4.4698         </td><td>ENSG00000153721</td><td>TNF_IL17_vs_TNF</td><td>TRUE           </td><td>ma2            </td></tr>\n",
       "</tbody>\n",
       "</table>\n"
      ],
      "text/latex": [
       "\\begin{tabular}{r|lllllllllllll}\n",
       " ID & logFC & CI.L & CI.R & AveExpr & t & P.Value & adj.P.Val & B & ensembl\\_id & Coef & signif & data\\\\\n",
       "\\hline\n",
       "\t CNKSR3                & -0.6147               & -0.8315               & -0.3979               & 7.4096                & -5.6902               & 6.039e-07             & 0.0006369             & 5.8854                & ENSG00000153721       & TNF\\_IL17\\_vs\\_TNF & TRUE                  & ma1                  \\\\\n",
       "\t CNKSR3                & -0.7848               & -1.0806               & -0.4890               & 5.0327                & -5.3387               & 2.739e-06             & 0.0001652             & 4.4698                & ENSG00000153721       & TNF\\_IL17\\_vs\\_TNF & TRUE                  & ma2                  \\\\\n",
       "\\end{tabular}\n"
      ],
      "text/markdown": [
       "\n",
       "ID | logFC | CI.L | CI.R | AveExpr | t | P.Value | adj.P.Val | B | ensembl_id | Coef | signif | data | \n",
       "|---|---|\n",
       "| CNKSR3          | -0.6147         | -0.8315         | -0.3979         | 7.4096          | -5.6902         | 6.039e-07       | 0.0006369       | 5.8854          | ENSG00000153721 | TNF_IL17_vs_TNF | TRUE            | ma1             | \n",
       "| CNKSR3          | -0.7848         | -1.0806         | -0.4890         | 5.0327          | -5.3387         | 2.739e-06       | 0.0001652       | 4.4698          | ENSG00000153721 | TNF_IL17_vs_TNF | TRUE            | ma2             | \n",
       "\n",
       "\n"
      ],
      "text/plain": [
       "  ID     logFC   CI.L    CI.R    AveExpr t       P.Value   adj.P.Val B     \n",
       "1 CNKSR3 -0.6147 -0.8315 -0.3979 7.4096  -5.6902 6.039e-07 0.0006369 5.8854\n",
       "2 CNKSR3 -0.7848 -1.0806 -0.4890 5.0327  -5.3387 2.739e-06 0.0001652 4.4698\n",
       "  ensembl_id      Coef            signif data\n",
       "1 ENSG00000153721 TNF_IL17_vs_TNF TRUE   ma1 \n",
       "2 ENSG00000153721 TNF_IL17_vs_TNF TRUE   ma2 "
      ]
     },
     "metadata": {},
     "output_type": "display_data"
    }
   ],
   "source": [
    "x %>% filter(ID == \"CNKSR3\")"
   ]
  },
  {
   "cell_type": "code",
   "execution_count": 56,
   "metadata": {},
   "outputs": [
    {
     "data": {
      "text/html": [
       "<table>\n",
       "<thead><tr><th scope=col>data</th><th scope=col>min</th><th scope=col>max</th><th scope=col>mean</th></tr></thead>\n",
       "<tbody>\n",
       "\t<tr><td>ma1     </td><td>2.5685  </td><td>13.5308 </td><td>7.298513</td></tr>\n",
       "\t<tr><td>ma2     </td><td>1.9368  </td><td>14.0480 </td><td>7.062827</td></tr>\n",
       "</tbody>\n",
       "</table>\n"
      ],
      "text/latex": [
       "\\begin{tabular}{r|llll}\n",
       " data & min & max & mean\\\\\n",
       "\\hline\n",
       "\t ma1      & 2.5685   & 13.5308  & 7.298513\\\\\n",
       "\t ma2      & 1.9368   & 14.0480  & 7.062827\\\\\n",
       "\\end{tabular}\n"
      ],
      "text/markdown": [
       "\n",
       "data | min | max | mean | \n",
       "|---|---|\n",
       "| ma1      | 2.5685   | 13.5308  | 7.298513 | \n",
       "| ma2      | 1.9368   | 14.0480  | 7.062827 | \n",
       "\n",
       "\n"
      ],
      "text/plain": [
       "  data min    max     mean    \n",
       "1 ma1  2.5685 13.5308 7.298513\n",
       "2 ma2  1.9368 14.0480 7.062827"
      ]
     },
     "metadata": {},
     "output_type": "display_data"
    }
   ],
   "source": [
    "x %>% group_by(data) %>% dplyr::summarize(min = min(AveExpr), max = max(AveExpr), mean = mean(AveExpr))"
   ]
  },
  {
   "cell_type": "code",
   "execution_count": 57,
   "metadata": {},
   "outputs": [
    {
     "data": {
      "text/html": [
       "<table>\n",
       "<thead><tr><th scope=col>ensembl_id</th><th scope=col>ID</th><th scope=col>ma1</th><th scope=col>ma2</th><th scope=col>ma1_signif</th><th scope=col>ma2_signif</th><th scope=col>signif</th></tr></thead>\n",
       "<tbody>\n",
       "\t<tr><td>ENSG00000000003</td><td>TSPAN6         </td><td> 0.0805000     </td><td> 0.3342        </td><td>FALSE          </td><td>FALSE          </td><td>none           </td></tr>\n",
       "\t<tr><td>ENSG00000000005</td><td>TNMD           </td><td> 0.0280000     </td><td> 0.0666        </td><td>FALSE          </td><td>FALSE          </td><td>none           </td></tr>\n",
       "\t<tr><td>ENSG00000000419</td><td>DPM1           </td><td>-0.0002833     </td><td>-0.0168        </td><td>FALSE          </td><td>FALSE          </td><td>none           </td></tr>\n",
       "\t<tr><td>ENSG00000000457</td><td>SCYL3          </td><td>-0.0408000     </td><td> 0.0769        </td><td>FALSE          </td><td>FALSE          </td><td>none           </td></tr>\n",
       "\t<tr><td>ENSG00000000460</td><td>C1orf112       </td><td>-0.0592000     </td><td>-0.2061        </td><td>FALSE          </td><td>FALSE          </td><td>none           </td></tr>\n",
       "\t<tr><td>ENSG00000000938</td><td>FGR            </td><td>-0.0258000     </td><td> 0.0757        </td><td>FALSE          </td><td>FALSE          </td><td>none           </td></tr>\n",
       "</tbody>\n",
       "</table>\n"
      ],
      "text/latex": [
       "\\begin{tabular}{r|lllllll}\n",
       " ensembl\\_id & ID & ma1 & ma2 & ma1\\_signif & ma2\\_signif & signif\\\\\n",
       "\\hline\n",
       "\t ENSG00000000003 & TSPAN6          &  0.0805000      &  0.3342         & FALSE           & FALSE           & none           \\\\\n",
       "\t ENSG00000000005 & TNMD            &  0.0280000      &  0.0666         & FALSE           & FALSE           & none           \\\\\n",
       "\t ENSG00000000419 & DPM1            & -0.0002833      & -0.0168         & FALSE           & FALSE           & none           \\\\\n",
       "\t ENSG00000000457 & SCYL3           & -0.0408000      &  0.0769         & FALSE           & FALSE           & none           \\\\\n",
       "\t ENSG00000000460 & C1orf112        & -0.0592000      & -0.2061         & FALSE           & FALSE           & none           \\\\\n",
       "\t ENSG00000000938 & FGR             & -0.0258000      &  0.0757         & FALSE           & FALSE           & none           \\\\\n",
       "\\end{tabular}\n"
      ],
      "text/markdown": [
       "\n",
       "ensembl_id | ID | ma1 | ma2 | ma1_signif | ma2_signif | signif | \n",
       "|---|---|---|---|---|---|\n",
       "| ENSG00000000003 | TSPAN6          |  0.0805000      |  0.3342         | FALSE           | FALSE           | none            | \n",
       "| ENSG00000000005 | TNMD            |  0.0280000      |  0.0666         | FALSE           | FALSE           | none            | \n",
       "| ENSG00000000419 | DPM1            | -0.0002833      | -0.0168         | FALSE           | FALSE           | none            | \n",
       "| ENSG00000000457 | SCYL3           | -0.0408000      |  0.0769         | FALSE           | FALSE           | none            | \n",
       "| ENSG00000000460 | C1orf112        | -0.0592000      | -0.2061         | FALSE           | FALSE           | none            | \n",
       "| ENSG00000000938 | FGR             | -0.0258000      |  0.0757         | FALSE           | FALSE           | none            | \n",
       "\n",
       "\n"
      ],
      "text/plain": [
       "  ensembl_id      ID       ma1        ma2     ma1_signif ma2_signif signif\n",
       "1 ENSG00000000003 TSPAN6    0.0805000  0.3342 FALSE      FALSE      none  \n",
       "2 ENSG00000000005 TNMD      0.0280000  0.0666 FALSE      FALSE      none  \n",
       "3 ENSG00000000419 DPM1     -0.0002833 -0.0168 FALSE      FALSE      none  \n",
       "4 ENSG00000000457 SCYL3    -0.0408000  0.0769 FALSE      FALSE      none  \n",
       "5 ENSG00000000460 C1orf112 -0.0592000 -0.2061 FALSE      FALSE      none  \n",
       "6 ENSG00000000938 FGR      -0.0258000  0.0757 FALSE      FALSE      none  "
      ]
     },
     "metadata": {},
     "output_type": "display_data"
    }
   ],
   "source": [
    "xx <- dcast(data = x, formula = ensembl_id + ID ~ data, value.var = \"logFC\")\n",
    "xx <- xx[!is.na(xx$ma1),]\n",
    "xx <- xx[!is.na(xx$ma2),]\n",
    "# head(xx)\n",
    "\n",
    "xx2 <- dcast(data = x, formula = ensembl_id + ID ~ data, value.var = \"signif\")\n",
    "xx2 <- xx2[!is.na(xx2$ma1),]\n",
    "xx2 <- xx2[!is.na(xx2$ma2),]\n",
    "colnames(xx2) <- c(\"ensembl_id\", \"ID\", \"ma1_signif\", \"ma2_signif\")\n",
    "stopifnot(all(xx$ensembl_id == xx2$ensembl_id))\n",
    "\n",
    "xx <- cbind(xx, xx2[,3:4])\n",
    "\n",
    "xx$signif <- \"none\"\n",
    "xx$signif[xx$ma1_signif & xx$ma2_signif] <- \"both\"\n",
    "xx$signif[xx$ma1_signif & !xx$ma2_signif] <- \"ma1\"\n",
    "xx$signif[!xx$ma1_signif & xx$ma2_signif] <- \"ma2\"\n",
    "head(xx)"
   ]
  },
  {
   "cell_type": "code",
   "execution_count": 58,
   "metadata": {},
   "outputs": [
    {
     "data": {
      "text/plain": [
       "\n",
       " both   ma1   ma2  none \n",
       "   11     3   474 15102 "
      ]
     },
     "metadata": {},
     "output_type": "display_data"
    }
   ],
   "source": [
    "table(xx$signif)"
   ]
  },
  {
   "cell_type": "code",
   "execution_count": 60,
   "metadata": {},
   "outputs": [],
   "source": [
    "library(ggrastr)"
   ]
  },
  {
   "cell_type": "code",
   "execution_count": 69,
   "metadata": {},
   "outputs": [
    {
     "data": {
      "image/png": "[encoded data removed]"
     },
     "metadata": {},
     "output_type": "display_data"
    }
   ],
   "source": [
    "\n",
    "p <- xx %>%\n",
    "# head(1000) %>%\n",
    "ggplot(aes(x = ma2, y = ma1)) +\n",
    "# geom_rect(\n",
    "#   mapping = aes(xmin = log2(1 / 2), xmax = log2(2), ymin = -Inf, ymax = Inf),\n",
    "#   fill = \"grey90\"\n",
    "# ) +\n",
    "# geom_rect(\n",
    "#   mapping = aes(ymin = log2(1 / 2), ymax = log2(2), xmin = -Inf, xmax = Inf),\n",
    "#   fill = \"grey90\"\n",
    "# ) +\n",
    "geom_abline(slope = 1, intercept = 0, size = 0.1) +\n",
    "geom_hline(yintercept = 0, size = 0.1) +\n",
    "geom_vline(xintercept = 0, size = 0.1) +\n",
    "geom_point_rast(raster.width = 5,\n",
    "  mapping = aes(color = signif, size = signif != \"none\")\n",
    ") +\n",
    "scale_size_manual(values = c(0.2, 1), guide = FALSE) +\n",
    "scale_color_manual(\n",
    "  values = c(\"none\" = \"grey70\", \"ma1\" = '#4DAF4A', \"ma2\" = '#377EB8', \"both\" = '#E41A1C'),\n",
    "  labels = c(\"none\" = \"None\", \"ma1\" = 'Microarray Data 1', \"ma2\" = 'Microarray Data 2', \"both\" = 'Both')\n",
    ") +\n",
    "# scale_color_manual(values = c()) +\n",
    "guides(color = guide_legend(title = \"abs(FC) > 1.5\\nFDR < 0.05\", override.aes = aes(size = 5))) +\n",
    "# theme(legend.position = \"none\") +\n",
    "# coord_equal() +\n",
    "scale_x_continuous(\n",
    "  breaks = pretty_breaks(5),\n",
    "  labels = function(x) fractional(2^x)\n",
    ") +\n",
    "scale_y_continuous(\n",
    "  breaks = log2(c(0.5, 1, 2)),\n",
    "  labels = function(x) fractional(2^x)\n",
    ") +\n",
    "labs(x = \"Microarray Data 2\", y = \"Microarray Data 1\", title = \"TNF and IL-17A vs TNF\")\n",
    "\n",
    "options(repr.plot.width = 7, repr.plot.height = 4)\n",
    "show_plot(p, \"microarray-comparison\")"
   ]
  },
  {
   "cell_type": "code",
   "execution_count": 316,
   "metadata": {},
   "outputs": [
    {
     "name": "stdout",
     "output_type": "stream",
     "text": [
      "ABCA8 AGPAT4 C15orf48 CCL8 CFAP69 CNKSR3 CXCL1 CXCL2 EDNRB ELF3 SEMA6D"
     ]
    }
   ],
   "source": [
    "cat(sort((xx %>% filter(signif == \"both\"))$ID))"
   ]
  },
  {
   "cell_type": "code",
   "execution_count": 301,
   "metadata": {},
   "outputs": [
    {
     "data": {
      "text/html": [
       "0.446833939561388"
      ],
      "text/latex": [
       "0.446833939561388"
      ],
      "text/markdown": [
       "0.446833939561388"
      ],
      "text/plain": [
       "[1] 0.4468339"
      ]
     },
     "metadata": {},
     "output_type": "display_data"
    }
   ],
   "source": [
    "cor(xx$ma1, xx$ma2) ^ 2 "
   ]
  },
  {
   "cell_type": "code",
   "execution_count": 298,
   "metadata": {},
   "outputs": [
    {
     "data": {
      "text/plain": [
       "\n",
       "\tPearson's product-moment correlation\n",
       "\n",
       "data:  xx$ma1 and xx$ma2\n",
       "t = 112.21, df = 15588, p-value < 2.2e-16\n",
       "alternative hypothesis: true correlation is not equal to 0\n",
       "95 percent confidence interval:\n",
       " 0.6596810 0.6770496\n",
       "sample estimates:\n",
       "      cor \n",
       "0.6684564 \n"
      ]
     },
     "metadata": {},
     "output_type": "display_data"
    }
   ],
   "source": [
    "cor.test(xx$ma1, xx$ma2, method = \"pearson\")"
   ]
  },
  {
   "cell_type": "code",
   "execution_count": 294,
   "metadata": {},
   "outputs": [
    {
     "data": {
      "text/html": [
       "\n",
       "<table width=\"100%\" summary=\"page for cor.test {stats}\"><tr><td>cor.test {stats}</td><td style=\"text-align: right;\">R Documentation</td></tr></table>\n",
       "\n",
       "<h2>Test for Association/Correlation Between Paired Samples</h2>\n",
       "\n",
       "<h3>Description</h3>\n",
       "\n",
       "<p>Test for association between paired samples, using one of\n",
       "Pearson's product moment correlation coefficient,\n",
       "Kendall's <i>tau</i> or Spearman's <i>rho</i>.\n",
       "</p>\n",
       "\n",
       "\n",
       "<h3>Usage</h3>\n",
       "\n",
       "<pre>\n",
       "cor.test(x, ...)\n",
       "\n",
       "## Default S3 method:\n",
       "cor.test(x, y,\n",
       "         alternative = c(\"two.sided\", \"less\", \"greater\"),\n",
       "         method = c(\"pearson\", \"kendall\", \"spearman\"),\n",
       "         exact = NULL, conf.level = 0.95, continuity = FALSE, ...)\n",
       "\n",
       "## S3 method for class 'formula'\n",
       "cor.test(formula, data, subset, na.action, ...)\n",
       "</pre>\n",
       "\n",
       "\n",
       "<h3>Arguments</h3>\n",
       "\n",
       "<table summary=\"R argblock\">\n",
       "<tr valign=\"top\"><td><code>x, y</code></td>\n",
       "<td>\n",
       "<p>numeric vectors of data values.  <code>x</code> and <code>y</code>\n",
       "must have the same length.</p>\n",
       "</td></tr>\n",
       "<tr valign=\"top\"><td><code>alternative</code></td>\n",
       "<td>\n",
       "<p>indicates the alternative hypothesis and must be\n",
       "one of <code>\"two.sided\"</code>, <code>\"greater\"</code> or <code>\"less\"</code>.  You\n",
       "can specify just the initial letter.  <code>\"greater\"</code> corresponds\n",
       "to positive association, <code>\"less\"</code> to negative association.</p>\n",
       "</td></tr>\n",
       "<tr valign=\"top\"><td><code>method</code></td>\n",
       "<td>\n",
       "<p>a character string indicating which correlation\n",
       "coefficient is to be  used for the test.  One of <code>\"pearson\"</code>,\n",
       "<code>\"kendall\"</code>, or <code>\"spearman\"</code>, can be abbreviated.</p>\n",
       "</td></tr>\n",
       "<tr valign=\"top\"><td><code>exact</code></td>\n",
       "<td>\n",
       "<p>a logical indicating whether an exact p-value should be\n",
       "computed.  Used for Kendall's <i>tau</i> and\n",
       "Spearman's <i>rho</i>.\n",
       "See &lsquo;Details&rsquo; for the meaning of <code>NULL</code> (the default).</p>\n",
       "</td></tr>\n",
       "<tr valign=\"top\"><td><code>conf.level</code></td>\n",
       "<td>\n",
       "<p>confidence level for the returned confidence\n",
       "interval.  Currently only used for the Pearson product moment\n",
       "correlation coefficient if there are at least 4 complete pairs of\n",
       "observations.</p>\n",
       "</td></tr>\n",
       "<tr valign=\"top\"><td><code>continuity</code></td>\n",
       "<td>\n",
       "<p>logical: if true, a continuity correction is used\n",
       "for Kendall's <i>tau</i> and Spearman's <i>rho</i> when\n",
       "not computed exactly.</p>\n",
       "</td></tr>\n",
       "<tr valign=\"top\"><td><code>formula</code></td>\n",
       "<td>\n",
       "<p>a formula of the form <code>~ u + v</code>, where each of\n",
       "<code>u</code> and <code>v</code> are numeric variables giving the data values\n",
       "for one sample.  The samples must be of the same length.</p>\n",
       "</td></tr>\n",
       "<tr valign=\"top\"><td><code>data</code></td>\n",
       "<td>\n",
       "<p>an optional matrix or data frame (or similar: see\n",
       "<code>model.frame</code>) containing the variables in the\n",
       "formula <code>formula</code>.  By default the variables are taken from\n",
       "<code>environment(formula)</code>.</p>\n",
       "</td></tr>\n",
       "<tr valign=\"top\"><td><code>subset</code></td>\n",
       "<td>\n",
       "<p>an optional vector specifying a subset of observations\n",
       "to be used.</p>\n",
       "</td></tr>\n",
       "<tr valign=\"top\"><td><code>na.action</code></td>\n",
       "<td>\n",
       "<p>a function which indicates what should happen when\n",
       "the data contain <code>NA</code>s.  Defaults to\n",
       "<code>getOption(\"na.action\")</code>.</p>\n",
       "</td></tr>\n",
       "<tr valign=\"top\"><td><code>...</code></td>\n",
       "<td>\n",
       "<p>further arguments to be passed to or from methods.</p>\n",
       "</td></tr>\n",
       "</table>\n",
       "\n",
       "\n",
       "<h3>Details</h3>\n",
       "\n",
       "<p>The three methods each estimate the association between paired samples\n",
       "and compute a test of the value being zero.  They use different\n",
       "measures of association, all in the range <i>[-1, 1]</i> with <i>0</i>\n",
       "indicating no association.  These are sometimes referred to as tests\n",
       "of no <em>correlation</em>, but that term is often confined to the\n",
       "default method.\n",
       "</p>\n",
       "<p>If <code>method</code> is <code>\"pearson\"</code>, the test statistic is based on\n",
       "Pearson's product moment correlation coefficient <code>cor(x, y)</code> and\n",
       "follows a t distribution with <code>length(x)-2</code> degrees of freedom\n",
       "if the samples follow independent normal distributions.  If there are\n",
       "at least 4 complete pairs of observation, an asymptotic confidence\n",
       "interval is given based on Fisher's Z transform.\n",
       "</p>\n",
       "<p>If <code>method</code> is <code>\"kendall\"</code> or <code>\"spearman\"</code>, Kendall's\n",
       "<i>tau</i> or Spearman's <i>rho</i> statistic is used to\n",
       "estimate a rank-based measure of association.  These tests may be used\n",
       "if the data do not necessarily come from a bivariate normal\n",
       "distribution.\n",
       "</p>\n",
       "<p>For Kendall's test, by default (if <code>exact</code> is NULL), an exact\n",
       "p-value is computed if there are less than 50 paired samples containing\n",
       "finite values and there are no ties.  Otherwise, the test statistic is\n",
       "the estimate scaled to zero mean and unit variance, and is approximately\n",
       "normally distributed.\n",
       "</p>\n",
       "<p>For Spearman's test, p-values are computed using algorithm AS 89 for\n",
       "<i>n &lt; 1290</i> and <code>exact = TRUE</code>, otherwise via the asymptotic\n",
       "<i>t</i> approximation.  Note that these are &lsquo;exact&rsquo; for <i>n\n",
       "  &lt; 10</i>, and use an Edgeworth series approximation for larger sample\n",
       "sizes (the cutoff has been changed from the original paper).\n",
       "</p>\n",
       "\n",
       "\n",
       "<h3>Value</h3>\n",
       "\n",
       "<p>A list with class <code>\"htest\"</code> containing the following components:\n",
       "</p>\n",
       "<table summary=\"R valueblock\">\n",
       "<tr valign=\"top\"><td><code>statistic</code></td>\n",
       "<td>\n",
       "<p>the value of the test statistic.</p>\n",
       "</td></tr>\n",
       "<tr valign=\"top\"><td><code>parameter</code></td>\n",
       "<td>\n",
       "<p>the degrees of freedom of the test statistic in the\n",
       "case that it follows a t distribution.</p>\n",
       "</td></tr>\n",
       "<tr valign=\"top\"><td><code>p.value</code></td>\n",
       "<td>\n",
       "<p>the p-value of the test.</p>\n",
       "</td></tr>\n",
       "<tr valign=\"top\"><td><code>estimate</code></td>\n",
       "<td>\n",
       "<p>the estimated measure of association, with name\n",
       "<code>\"cor\"</code>, <code>\"tau\"</code>, or <code>\"rho\"</code> corresponding\n",
       "to the method employed.</p>\n",
       "</td></tr>\n",
       "<tr valign=\"top\"><td><code>null.value</code></td>\n",
       "<td>\n",
       "<p>the value of the association measure under the\n",
       "null hypothesis, always <code>0</code>.</p>\n",
       "</td></tr>\n",
       "<tr valign=\"top\"><td><code>alternative</code></td>\n",
       "<td>\n",
       "<p>a character string describing the alternative\n",
       "hypothesis.</p>\n",
       "</td></tr>\n",
       "<tr valign=\"top\"><td><code>method</code></td>\n",
       "<td>\n",
       "<p>a character string indicating how the association was\n",
       "measured.</p>\n",
       "</td></tr>\n",
       "<tr valign=\"top\"><td><code>data.name</code></td>\n",
       "<td>\n",
       "<p>a character string giving the names of the data.</p>\n",
       "</td></tr>\n",
       "<tr valign=\"top\"><td><code>conf.int</code></td>\n",
       "<td>\n",
       "<p>a confidence interval for the measure of association.\n",
       "Currently only given for Pearson's product moment correlation\n",
       "coefficient in case of at least 4 complete pairs of observations.</p>\n",
       "</td></tr>\n",
       "</table>\n",
       "\n",
       "\n",
       "<h3>References</h3>\n",
       "\n",
       "<p>D. J. Best &amp; D. E. Roberts (1975),\n",
       "Algorithm AS 89: The Upper Tail Probabilities of Spearman's <i>rho</i>.\n",
       "<em>Applied Statistics</em>, <b>24</b>, 377&ndash;379.\n",
       "</p>\n",
       "<p>Myles Hollander &amp; Douglas A. Wolfe (1973),\n",
       "<em>Nonparametric Statistical Methods.</em>\n",
       "New York: John Wiley &amp; Sons.\n",
       "Pages 185&ndash;194 (Kendall and Spearman tests).\n",
       "</p>\n",
       "\n",
       "\n",
       "<h3>See Also</h3>\n",
       "\n",
       "<p><code>Kendall</code> in package <a href=\"https://CRAN.R-project.org/package=Kendall\"><span class=\"pkg\">Kendall</span></a>.\n",
       "</p>\n",
       "<p><code>pKendall</code> and\n",
       "<code>pSpearman</code> in package\n",
       "<a href=\"https://CRAN.R-project.org/package=SuppDists\"><span class=\"pkg\">SuppDists</span></a>,\n",
       "<code>spearman.test</code> in package\n",
       "<a href=\"https://CRAN.R-project.org/package=pspearman\"><span class=\"pkg\">pspearman</span></a>,\n",
       "which supply different (and often more accurate) approximations.\n",
       "</p>\n",
       "\n",
       "\n",
       "<h3>Examples</h3>\n",
       "\n",
       "<pre>\n",
       "## Hollander &amp; Wolfe (1973), p. 187f.\n",
       "## Assessment of tuna quality.  We compare the Hunter L measure of\n",
       "##  lightness to the averages of consumer panel scores (recoded as\n",
       "##  integer values from 1 to 6 and averaged over 80 such values) in\n",
       "##  9 lots of canned tuna.\n",
       "\n",
       "x &lt;- c(44.4, 45.9, 41.9, 53.3, 44.7, 44.1, 50.7, 45.2, 60.1)\n",
       "y &lt;- c( 2.6,  3.1,  2.5,  5.0,  3.6,  4.0,  5.2,  2.8,  3.8)\n",
       "\n",
       "##  The alternative hypothesis of interest is that the\n",
       "##  Hunter L value is positively associated with the panel score.\n",
       "\n",
       "cor.test(x, y, method = \"kendall\", alternative = \"greater\")\n",
       "## =&gt; p=0.05972\n",
       "\n",
       "cor.test(x, y, method = \"kendall\", alternative = \"greater\",\n",
       "         exact = FALSE) # using large sample approximation\n",
       "## =&gt; p=0.04765\n",
       "\n",
       "## Compare this to\n",
       "cor.test(x, y, method = \"spearm\", alternative = \"g\")\n",
       "cor.test(x, y,                    alternative = \"g\")\n",
       "\n",
       "## Formula interface.\n",
       "require(graphics)\n",
       "pairs(USJudgeRatings)\n",
       "cor.test(~ CONT + INTG, data = USJudgeRatings)\n",
       "</pre>\n",
       "\n",
       "<hr /><div style=\"text-align: center;\">[Package <em>stats</em> version 3.4.0 ]</div>"
      ],
      "text/latex": [
       "\\inputencoding{utf8}\n",
       "\\HeaderA{cor.test}{Test for Association/Correlation Between Paired Samples}{cor.test}\n",
       "\\methaliasA{cor.test.default}{cor.test}{cor.test.default}\n",
       "\\methaliasA{cor.test.formula}{cor.test}{cor.test.formula}\n",
       "\\keyword{htest}{cor.test}\n",
       "%\n",
       "\\begin{Description}\\relax\n",
       "Test for association between paired samples, using one of\n",
       "Pearson's product moment correlation coefficient,\n",
       "Kendall's \\eqn{\\tau}{} or Spearman's \\eqn{\\rho}{}.\n",
       "\\end{Description}\n",
       "%\n",
       "\\begin{Usage}\n",
       "\\begin{verbatim}\n",
       "cor.test(x, ...)\n",
       "\n",
       "## Default S3 method:\n",
       "cor.test(x, y,\n",
       "         alternative = c(\"two.sided\", \"less\", \"greater\"),\n",
       "         method = c(\"pearson\", \"kendall\", \"spearman\"),\n",
       "         exact = NULL, conf.level = 0.95, continuity = FALSE, ...)\n",
       "\n",
       "## S3 method for class 'formula'\n",
       "cor.test(formula, data, subset, na.action, ...)\n",
       "\\end{verbatim}\n",
       "\\end{Usage}\n",
       "%\n",
       "\\begin{Arguments}\n",
       "\\begin{ldescription}\n",
       "\\item[\\code{x, y}] numeric vectors of data values.  \\code{x} and \\code{y}\n",
       "must have the same length.\n",
       "\\item[\\code{alternative}] indicates the alternative hypothesis and must be\n",
       "one of \\code{\"two.sided\"}, \\code{\"greater\"} or \\code{\"less\"}.  You\n",
       "can specify just the initial letter.  \\code{\"greater\"} corresponds\n",
       "to positive association, \\code{\"less\"} to negative association.\n",
       "\\item[\\code{method}] a character string indicating which correlation\n",
       "coefficient is to be  used for the test.  One of \\code{\"pearson\"},\n",
       "\\code{\"kendall\"}, or \\code{\"spearman\"}, can be abbreviated.\n",
       "\\item[\\code{exact}] a logical indicating whether an exact p-value should be\n",
       "computed.  Used for Kendall's \\eqn{\\tau}{} and\n",
       "Spearman's \\eqn{\\rho}{}.\n",
       "See `Details' for the meaning of \\code{NULL} (the default).\n",
       "\\item[\\code{conf.level}] confidence level for the returned confidence\n",
       "interval.  Currently only used for the Pearson product moment\n",
       "correlation coefficient if there are at least 4 complete pairs of\n",
       "observations.\n",
       "\\item[\\code{continuity}] logical: if true, a continuity correction is used\n",
       "for Kendall's \\eqn{\\tau}{} and Spearman's \\eqn{\\rho}{} when\n",
       "not computed exactly.\n",
       "\\item[\\code{formula}] a formula of the form \\code{\\textasciitilde{} u + v}, where each of\n",
       "\\code{u} and \\code{v} are numeric variables giving the data values\n",
       "for one sample.  The samples must be of the same length.\n",
       "\\item[\\code{data}] an optional matrix or data frame (or similar: see\n",
       "\\code{\\LinkA{model.frame}{model.frame}}) containing the variables in the\n",
       "formula \\code{formula}.  By default the variables are taken from\n",
       "\\code{environment(formula)}.\n",
       "\\item[\\code{subset}] an optional vector specifying a subset of observations\n",
       "to be used.\n",
       "\\item[\\code{na.action}] a function which indicates what should happen when\n",
       "the data contain \\code{NA}s.  Defaults to\n",
       "\\code{getOption(\"na.action\")}.\n",
       "\\item[\\code{...}] further arguments to be passed to or from methods.\n",
       "\\end{ldescription}\n",
       "\\end{Arguments}\n",
       "%\n",
       "\\begin{Details}\\relax\n",
       "The three methods each estimate the association between paired samples\n",
       "and compute a test of the value being zero.  They use different\n",
       "measures of association, all in the range \\eqn{[-1, 1]}{} with \\eqn{0}{}\n",
       "indicating no association.  These are sometimes referred to as tests\n",
       "of no \\emph{correlation}, but that term is often confined to the\n",
       "default method.\n",
       "\n",
       "If \\code{method} is \\code{\"pearson\"}, the test statistic is based on\n",
       "Pearson's product moment correlation coefficient \\code{cor(x, y)} and\n",
       "follows a t distribution with \\code{length(x)-2} degrees of freedom\n",
       "if the samples follow independent normal distributions.  If there are\n",
       "at least 4 complete pairs of observation, an asymptotic confidence\n",
       "interval is given based on Fisher's Z transform.\n",
       "\n",
       "If \\code{method} is \\code{\"kendall\"} or \\code{\"spearman\"}, Kendall's\n",
       "\\eqn{\\tau}{} or Spearman's \\eqn{\\rho}{} statistic is used to\n",
       "estimate a rank-based measure of association.  These tests may be used\n",
       "if the data do not necessarily come from a bivariate normal\n",
       "distribution.\n",
       "\n",
       "For Kendall's test, by default (if \\code{exact} is NULL), an exact\n",
       "p-value is computed if there are less than 50 paired samples containing\n",
       "finite values and there are no ties.  Otherwise, the test statistic is\n",
       "the estimate scaled to zero mean and unit variance, and is approximately\n",
       "normally distributed.\n",
       "\n",
       "For Spearman's test, p-values are computed using algorithm AS 89 for\n",
       "\\eqn{n < 1290}{} and \\code{exact = TRUE}, otherwise via the asymptotic\n",
       "\\eqn{t}{} approximation.  Note that these are `exact' for \\eqn{n\n",
       "  < 10}{}, and use an Edgeworth series approximation for larger sample\n",
       "sizes (the cutoff has been changed from the original paper).\n",
       "\\end{Details}\n",
       "%\n",
       "\\begin{Value}\n",
       "A list with class \\code{\"htest\"} containing the following components:\n",
       "\\begin{ldescription}\n",
       "\\item[\\code{statistic}] the value of the test statistic.\n",
       "\\item[\\code{parameter}] the degrees of freedom of the test statistic in the\n",
       "case that it follows a t distribution.\n",
       "\\item[\\code{p.value}] the p-value of the test.\n",
       "\\item[\\code{estimate}] the estimated measure of association, with name\n",
       "\\code{\"cor\"}, \\code{\"tau\"}, or \\code{\"rho\"} corresponding\n",
       "to the method employed.\n",
       "\\item[\\code{null.value}] the value of the association measure under the\n",
       "null hypothesis, always \\code{0}.\n",
       "\\item[\\code{alternative}] a character string describing the alternative\n",
       "hypothesis.\n",
       "\\item[\\code{method}] a character string indicating how the association was\n",
       "measured.\n",
       "\\item[\\code{data.name}] a character string giving the names of the data.\n",
       "\\item[\\code{conf.int}] a confidence interval for the measure of association.\n",
       "Currently only given for Pearson's product moment correlation\n",
       "coefficient in case of at least 4 complete pairs of observations.\n",
       "\\end{ldescription}\n",
       "\\end{Value}\n",
       "%\n",
       "\\begin{References}\\relax\n",
       "D. J. Best \\& D. E. Roberts (1975),\n",
       "Algorithm AS 89: The Upper Tail Probabilities of Spearman's \\eqn{\\rho}{}.\n",
       "\\emph{Applied Statistics}, \\bold{24}, 377--379.\n",
       "\n",
       "Myles Hollander \\& Douglas A. Wolfe (1973),\n",
       "\\emph{Nonparametric Statistical Methods.}\n",
       "New York: John Wiley \\& Sons.\n",
       "Pages 185--194 (Kendall and Spearman tests).\n",
       "\\end{References}\n",
       "%\n",
       "\\begin{SeeAlso}\\relax\n",
       "\\code{\\LinkA{Kendall}{Kendall}} in package \\Rhref{https://CRAN.R-project.org/package=Kendall}{\\pkg{Kendall}}.\n",
       "\n",
       "\\code{\\LinkA{pKendall}{pKendall}} and\n",
       "\\code{\\LinkA{pSpearman}{pSpearman}} in package\n",
       "\\Rhref{https://CRAN.R-project.org/package=SuppDists}{\\pkg{SuppDists}},\n",
       "\\code{\\LinkA{spearman.test}{spearman.test}} in package\n",
       "\\Rhref{https://CRAN.R-project.org/package=pspearman}{\\pkg{pspearman}},\n",
       "which supply different (and often more accurate) approximations.\n",
       "\\end{SeeAlso}\n",
       "%\n",
       "\\begin{Examples}\n",
       "\\begin{ExampleCode}\n",
       "## Hollander & Wolfe (1973), p. 187f.\n",
       "## Assessment of tuna quality.  We compare the Hunter L measure of\n",
       "##  lightness to the averages of consumer panel scores (recoded as\n",
       "##  integer values from 1 to 6 and averaged over 80 such values) in\n",
       "##  9 lots of canned tuna.\n",
       "\n",
       "x <- c(44.4, 45.9, 41.9, 53.3, 44.7, 44.1, 50.7, 45.2, 60.1)\n",
       "y <- c( 2.6,  3.1,  2.5,  5.0,  3.6,  4.0,  5.2,  2.8,  3.8)\n",
       "\n",
       "##  The alternative hypothesis of interest is that the\n",
       "##  Hunter L value is positively associated with the panel score.\n",
       "\n",
       "cor.test(x, y, method = \"kendall\", alternative = \"greater\")\n",
       "## => p=0.05972\n",
       "\n",
       "cor.test(x, y, method = \"kendall\", alternative = \"greater\",\n",
       "         exact = FALSE) # using large sample approximation\n",
       "## => p=0.04765\n",
       "\n",
       "## Compare this to\n",
       "cor.test(x, y, method = \"spearm\", alternative = \"g\")\n",
       "cor.test(x, y,                    alternative = \"g\")\n",
       "\n",
       "## Formula interface.\n",
       "require(graphics)\n",
       "pairs(USJudgeRatings)\n",
       "cor.test(~ CONT + INTG, data = USJudgeRatings)\n",
       "\\end{ExampleCode}\n",
       "\\end{Examples}"
      ],
      "text/plain": [
       "cor.test                 package:stats                 R Documentation\n",
       "\n",
       "_\bT_\be_\bs_\bt _\bf_\bo_\br _\bA_\bs_\bs_\bo_\bc_\bi_\ba_\bt_\bi_\bo_\bn/_\bC_\bo_\br_\br_\be_\bl_\ba_\bt_\bi_\bo_\bn _\bB_\be_\bt_\bw_\be_\be_\bn _\bP_\ba_\bi_\br_\be_\bd _\bS_\ba_\bm_\bp_\bl_\be_\bs\n",
       "\n",
       "_\bD_\be_\bs_\bc_\br_\bi_\bp_\bt_\bi_\bo_\bn:\n",
       "\n",
       "     Test for association between paired samples, using one of\n",
       "     Pearson's product moment correlation coefficient, Kendall's tau or\n",
       "     Spearman's rho.\n",
       "\n",
       "_\bU_\bs_\ba_\bg_\be:\n",
       "\n",
       "     cor.test(x, ...)\n",
       "     \n",
       "     ## Default S3 method:\n",
       "     cor.test(x, y,\n",
       "              alternative = c(\"two.sided\", \"less\", \"greater\"),\n",
       "              method = c(\"pearson\", \"kendall\", \"spearman\"),\n",
       "              exact = NULL, conf.level = 0.95, continuity = FALSE, ...)\n",
       "     \n",
       "     ## S3 method for class 'formula'\n",
       "     cor.test(formula, data, subset, na.action, ...)\n",
       "     \n",
       "_\bA_\br_\bg_\bu_\bm_\be_\bn_\bt_\bs:\n",
       "\n",
       "    x, y: numeric vectors of data values.  ‘x’ and ‘y’ must have the\n",
       "          same length.\n",
       "\n",
       "alternative: indicates the alternative hypothesis and must be one of\n",
       "          ‘\"two.sided\"’, ‘\"greater\"’ or ‘\"less\"’.  You can specify just\n",
       "          the initial letter.  ‘\"greater\"’ corresponds to positive\n",
       "          association, ‘\"less\"’ to negative association.\n",
       "\n",
       "  method: a character string indicating which correlation coefficient\n",
       "          is to be used for the test.  One of ‘\"pearson\"’, ‘\"kendall\"’,\n",
       "          or ‘\"spearman\"’, can be abbreviated.\n",
       "\n",
       "   exact: a logical indicating whether an exact p-value should be\n",
       "          computed.  Used for Kendall's tau and Spearman's rho.  See\n",
       "          ‘Details’ for the meaning of ‘NULL’ (the default).\n",
       "\n",
       "conf.level: confidence level for the returned confidence interval.\n",
       "          Currently only used for the Pearson product moment\n",
       "          correlation coefficient if there are at least 4 complete\n",
       "          pairs of observations.\n",
       "\n",
       "continuity: logical: if true, a continuity correction is used for\n",
       "          Kendall's tau and Spearman's rho when not computed exactly.\n",
       "\n",
       " formula: a formula of the form ‘~ u + v’, where each of ‘u’ and ‘v’\n",
       "          are numeric variables giving the data values for one sample.\n",
       "          The samples must be of the same length.\n",
       "\n",
       "    data: an optional matrix or data frame (or similar: see\n",
       "          ‘model.frame’) containing the variables in the formula\n",
       "          ‘formula’.  By default the variables are taken from\n",
       "          ‘environment(formula)’.\n",
       "\n",
       "  subset: an optional vector specifying a subset of observations to be\n",
       "          used.\n",
       "\n",
       "na.action: a function which indicates what should happen when the data\n",
       "          contain ‘NA’s.  Defaults to ‘getOption(\"na.action\")’.\n",
       "\n",
       "     ...: further arguments to be passed to or from methods.\n",
       "\n",
       "_\bD_\be_\bt_\ba_\bi_\bl_\bs:\n",
       "\n",
       "     The three methods each estimate the association between paired\n",
       "     samples and compute a test of the value being zero.  They use\n",
       "     different measures of association, all in the range [-1, 1] with 0\n",
       "     indicating no association.  These are sometimes referred to as\n",
       "     tests of no _correlation_, but that term is often confined to the\n",
       "     default method.\n",
       "\n",
       "     If ‘method’ is ‘\"pearson\"’, the test statistic is based on\n",
       "     Pearson's product moment correlation coefficient ‘cor(x, y)’ and\n",
       "     follows a t distribution with ‘length(x)-2’ degrees of freedom if\n",
       "     the samples follow independent normal distributions.  If there are\n",
       "     at least 4 complete pairs of observation, an asymptotic confidence\n",
       "     interval is given based on Fisher's Z transform.\n",
       "\n",
       "     If ‘method’ is ‘\"kendall\"’ or ‘\"spearman\"’, Kendall's tau or\n",
       "     Spearman's rho statistic is used to estimate a rank-based measure\n",
       "     of association.  These tests may be used if the data do not\n",
       "     necessarily come from a bivariate normal distribution.\n",
       "\n",
       "     For Kendall's test, by default (if ‘exact’ is NULL), an exact\n",
       "     p-value is computed if there are less than 50 paired samples\n",
       "     containing finite values and there are no ties.  Otherwise, the\n",
       "     test statistic is the estimate scaled to zero mean and unit\n",
       "     variance, and is approximately normally distributed.\n",
       "\n",
       "     For Spearman's test, p-values are computed using algorithm AS 89\n",
       "     for n < 1290 and ‘exact = TRUE’, otherwise via the asymptotic t\n",
       "     approximation.  Note that these are ‘exact’ for n < 10, and use an\n",
       "     Edgeworth series approximation for larger sample sizes (the cutoff\n",
       "     has been changed from the original paper).\n",
       "\n",
       "_\bV_\ba_\bl_\bu_\be:\n",
       "\n",
       "     A list with class ‘\"htest\"’ containing the following components:\n",
       "\n",
       "statistic: the value of the test statistic.\n",
       "\n",
       "parameter: the degrees of freedom of the test statistic in the case\n",
       "          that it follows a t distribution.\n",
       "\n",
       " p.value: the p-value of the test.\n",
       "\n",
       "estimate: the estimated measure of association, with name ‘\"cor\"’,\n",
       "          ‘\"tau\"’, or ‘\"rho\"’ corresponding to the method employed.\n",
       "\n",
       "null.value: the value of the association measure under the null\n",
       "          hypothesis, always ‘0’.\n",
       "\n",
       "alternative: a character string describing the alternative hypothesis.\n",
       "\n",
       "  method: a character string indicating how the association was\n",
       "          measured.\n",
       "\n",
       "data.name: a character string giving the names of the data.\n",
       "\n",
       "conf.int: a confidence interval for the measure of association.\n",
       "          Currently only given for Pearson's product moment correlation\n",
       "          coefficient in case of at least 4 complete pairs of\n",
       "          observations.\n",
       "\n",
       "_\bR_\be_\bf_\be_\br_\be_\bn_\bc_\be_\bs:\n",
       "\n",
       "     D. J. Best & D. E. Roberts (1975), Algorithm AS 89: The Upper Tail\n",
       "     Probabilities of Spearman's rho.  _Applied Statistics_, *24*,\n",
       "     377-379.\n",
       "\n",
       "     Myles Hollander & Douglas A. Wolfe (1973), _Nonparametric\n",
       "     Statistical Methods._ New York: John Wiley & Sons.  Pages 185-194\n",
       "     (Kendall and Spearman tests).\n",
       "\n",
       "_\bS_\be_\be _\bA_\bl_\bs_\bo:\n",
       "\n",
       "     ‘Kendall’ in package ‘Kendall’.\n",
       "\n",
       "     ‘pKendall’ and ‘pSpearman’ in package ‘SuppDists’, ‘spearman.test’\n",
       "     in package ‘pspearman’, which supply different (and often more\n",
       "     accurate) approximations.\n",
       "\n",
       "_\bE_\bx_\ba_\bm_\bp_\bl_\be_\bs:\n",
       "\n",
       "     ## Hollander & Wolfe (1973), p. 187f.\n",
       "     ## Assessment of tuna quality.  We compare the Hunter L measure of\n",
       "     ##  lightness to the averages of consumer panel scores (recoded as\n",
       "     ##  integer values from 1 to 6 and averaged over 80 such values) in\n",
       "     ##  9 lots of canned tuna.\n",
       "     \n",
       "     x <- c(44.4, 45.9, 41.9, 53.3, 44.7, 44.1, 50.7, 45.2, 60.1)\n",
       "     y <- c( 2.6,  3.1,  2.5,  5.0,  3.6,  4.0,  5.2,  2.8,  3.8)\n",
       "     \n",
       "     ##  The alternative hypothesis of interest is that the\n",
       "     ##  Hunter L value is positively associated with the panel score.\n",
       "     \n",
       "     cor.test(x, y, method = \"kendall\", alternative = \"greater\")\n",
       "     ## => p=0.05972\n",
       "     \n",
       "     cor.test(x, y, method = \"kendall\", alternative = \"greater\",\n",
       "              exact = FALSE) # using large sample approximation\n",
       "     ## => p=0.04765\n",
       "     \n",
       "     ## Compare this to\n",
       "     cor.test(x, y, method = \"spearm\", alternative = \"g\")\n",
       "     cor.test(x, y,                    alternative = \"g\")\n",
       "     \n",
       "     ## Formula interface.\n",
       "     require(graphics)\n",
       "     pairs(USJudgeRatings)\n",
       "     cor.test(~ CONT + INTG, data = USJudgeRatings)\n",
       "     "
      ]
     },
     "metadata": {},
     "output_type": "display_data"
    }
   ],
   "source": [
    "?cor.test"
   ]
  },
  {
   "cell_type": "code",
   "execution_count": 279,
   "metadata": {},
   "outputs": [
    {
     "data": {
      "text/html": [
       "<ol class=list-inline>\n",
       "\t<li>'#E41A1C'</li>\n",
       "\t<li>'#377EB8'</li>\n",
       "\t<li>'#4DAF4A'</li>\n",
       "\t<li>'#984EA3'</li>\n",
       "\t<li>'#FF7F00'</li>\n",
       "\t<li>'#FFFF33'</li>\n",
       "\t<li>'#A65628'</li>\n",
       "\t<li>'#F781BF'</li>\n",
       "\t<li>'#999999'</li>\n",
       "</ol>\n"
      ],
      "text/latex": [
       "\\begin{enumerate*}\n",
       "\\item '\\#E41A1C'\n",
       "\\item '\\#377EB8'\n",
       "\\item '\\#4DAF4A'\n",
       "\\item '\\#984EA3'\n",
       "\\item '\\#FF7F00'\n",
       "\\item '\\#FFFF33'\n",
       "\\item '\\#A65628'\n",
       "\\item '\\#F781BF'\n",
       "\\item '\\#999999'\n",
       "\\end{enumerate*}\n"
      ],
      "text/markdown": [
       "1. '#E41A1C'\n",
       "2. '#377EB8'\n",
       "3. '#4DAF4A'\n",
       "4. '#984EA3'\n",
       "5. '#FF7F00'\n",
       "6. '#FFFF33'\n",
       "7. '#A65628'\n",
       "8. '#F781BF'\n",
       "9. '#999999'\n",
       "\n",
       "\n"
      ],
      "text/plain": [
       "[1] \"#E41A1C\" \"#377EB8\" \"#4DAF4A\" \"#984EA3\" \"#FF7F00\" \"#FFFF33\" \"#A65628\"\n",
       "[8] \"#F781BF\" \"#999999\""
      ]
     },
     "metadata": {},
     "output_type": "display_data"
    }
   ],
   "source": [
    "brewer.pal(9, \"Set1\")"
   ]
  },
  {
   "cell_type": "code",
   "execution_count": 204,
   "metadata": {},
   "outputs": [
    {
     "data": {
      "text/plain": [
       "\n",
       "\tPearson's product-moment correlation\n",
       "\n",
       "data:  xx$ma1 and xx$ma2\n",
       "t = 112.21, df = 15588, p-value < 2.2e-16\n",
       "alternative hypothesis: true correlation is not equal to 0\n",
       "95 percent confidence interval:\n",
       " 0.6596810 0.6770496\n",
       "sample estimates:\n",
       "      cor \n",
       "0.6684564 \n"
      ]
     },
     "metadata": {},
     "output_type": "display_data"
    }
   ],
   "source": [
    "cor.test(xx$ma1, xx$ma2)"
   ]
  }
 ],
 "metadata": {
  "kernelspec": {
   "display_name": "R",
   "language": "R",
   "name": "ir"
  },
  "language_info": {
   "codemirror_mode": "r",
   "file_extension": ".r",
   "mimetype": "text/x-r-source",
   "name": "R",
   "pygments_lexer": "r",
   "version": "3.4.0"
  }
 },
 "nbformat": 4,
 "nbformat_minor": 2
}
