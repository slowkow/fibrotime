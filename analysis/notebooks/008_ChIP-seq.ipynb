{
 "cells": [
  {
   "cell_type": "markdown",
   "metadata": {},
   "source": [
    "# Libraries"
   ]
  },
  {
   "cell_type": "code",
   "execution_count": 1,
   "metadata": {},
   "outputs": [],
   "source": [
    "setwd(\"~/work/fibroblast_timecourse\")"
   ]
  },
  {
   "cell_type": "code",
   "execution_count": 2,
   "metadata": {},
   "outputs": [],
   "source": [
    "source(\"R/002_helper_functions.R\")"
   ]
  },
  {
   "cell_type": "code",
   "execution_count": 3,
   "metadata": {},
   "outputs": [
    {
     "name": "stderr",
     "output_type": "stream",
     "text": [
      "Loading required package: pacman\n"
     ]
    }
   ],
   "source": [
    "if (!require(\"pacman\")) { install.packages(\"pacman\") }\n",
    "pacman::p_load(\n",
    "  data.table,\n",
    "  GenomicFeatures,\n",
    "  rtracklayer,\n",
    "  org.Hs.eg.db,\n",
    "#   BSgenome.Hsapiens.UCSC.hg38,\n",
    "  TxDb.Hsapiens.UCSC.hg38.knownGene,\n",
    "  readr,\n",
    "  biomaRt,\n",
    "  MASS,\n",
    "  liger,\n",
    "  tidyr,\n",
    "  dplyr,\n",
    "  ggplot2,\n",
    "  seriation,\n",
    "  hexbin\n",
    ")"
   ]
  },
  {
   "cell_type": "code",
   "execution_count": 4,
   "metadata": {},
   "outputs": [],
   "source": [
    "theme_set(theme_classic(base_size = 18) %+replace% theme(\n",
    "  strip.background = element_rect(size = 0.3, fill = NA),\n",
    "  # axis.line.y = element_line(colour = \"black\", size = 0.2),\n",
    "  # axis.line.x = element_line(colour = \"black\", size = 0.2),\n",
    "  axis.ticks   = element_line(colour = \"black\", size = 0.3),\n",
    "  panel.border = element_rect(size = 0.3, fill = NA),\n",
    "  axis.line    = element_blank(),\n",
    "  plot.title   = element_text(size = 18, vjust = 2, hjust = 0.5)\n",
    "))"
   ]
  },
  {
   "cell_type": "markdown",
   "metadata": {},
   "source": [
    "# Analysis"
   ]
  },
  {
   "cell_type": "markdown",
   "metadata": {},
   "source": [
    "## Promoters\n",
    "\n",
    "Get the coordinates of promoters for each gene.\n",
    "\n",
    "JASPAR is on hg38\n",
    "\n",
    "ENCODE data is on hg38"
   ]
  },
  {
   "cell_type": "code",
   "execution_count": 5,
   "metadata": {},
   "outputs": [
    {
     "name": "stderr",
     "output_type": "stream",
     "text": [
      "'select()' returned 1:1 mapping between keys and columns\n"
     ]
    },
    {
     "data": {
      "text/plain": [
       "GRanges object with 24183 ranges and 2 metadata columns:\n",
       "            seqnames                 ranges strand |     gene_id gene_symbol\n",
       "               <Rle>              <IRanges>  <Rle> | <character> <character>\n",
       "          1    chr19   [58345178, 58362751]      - |           1        A1BG\n",
       "         10     chr8   [18391245, 18401218]      + |          10        NAT2\n",
       "        100    chr20   [44619522, 44651742]      - |         100         ADA\n",
       "       1000    chr18   [27950966, 28177446]      - |        1000        CDH2\n",
       "  100009613    chr11   [70072434, 70075433]      - |   100009613    ANO1-AS2\n",
       "        ...      ...                    ...    ... .         ...         ...\n",
       "       9991     chr9 [112217716, 112333667]      - |        9991       PTBP3\n",
       "       9992    chr21 [ 34364024,  34371389]      + |        9992       KCNE2\n",
       "       9993    chr22 [ 19036282,  19122454]      - |        9993       DGCR2\n",
       "       9994     chr6 [ 89829894,  89874436]      + |        9994    CASP8AP2\n",
       "       9997    chr22 [ 50523568,  50526439]      - |        9997        SCO2\n",
       "  -------\n",
       "  seqinfo: 455 sequences (1 circular) from hg38 genome"
      ]
     },
     "metadata": {},
     "output_type": "display_data"
    },
    {
     "name": "stderr",
     "output_type": "stream",
     "text": [
      "'select()' returned 1:1 mapping between keys and columns\n"
     ]
    },
    {
     "data": {
      "text/plain": [
       "GRanges object with 24183 ranges and 2 metadata columns:\n",
       "            seqnames                 ranges strand |     gene_id gene_symbol\n",
       "               <Rle>              <IRanges>  <Rle> | <character> <character>\n",
       "          1    chr19   [58362502, 58363251]      - |           1        A1BG\n",
       "         10     chr8   [18390745, 18391494]      + |          10        NAT2\n",
       "        100    chr20   [44651493, 44652242]      - |         100         ADA\n",
       "       1000    chr18   [28177197, 28177946]      - |        1000        CDH2\n",
       "  100009613    chr11   [70075184, 70075933]      - |   100009613    ANO1-AS2\n",
       "        ...      ...                    ...    ... .         ...         ...\n",
       "       9991     chr9 [112333418, 112334167]      - |        9991       PTBP3\n",
       "       9992    chr21 [ 34363524,  34364273]      + |        9992       KCNE2\n",
       "       9993    chr22 [ 19122205,  19122954]      - |        9993       DGCR2\n",
       "       9994     chr6 [ 89829394,  89830143]      + |        9994    CASP8AP2\n",
       "       9997    chr22 [ 50526190,  50526939]      - |        9997        SCO2\n",
       "  -------\n",
       "  seqinfo: 455 sequences (1 circular) from hg38 genome"
      ]
     },
     "metadata": {},
     "output_type": "display_data"
    }
   ],
   "source": [
    "txdb        <- TxDb.Hsapiens.UCSC.hg38.knownGene\n",
    "gene_ranges <- genes(txdb)\n",
    "\n",
    "gene_ranges$gene_symbol <- mapIds(\n",
    "  x         = org.Hs.eg.db,\n",
    "  keys      = gene_ranges$gene_id,\n",
    "  keytype   = \"ENTREZID\",\n",
    "  column    = \"SYMBOL\",\n",
    "  multiVals = \"first\"\n",
    ")\n",
    "gene_ranges\n",
    "\n",
    "prom_upstream   <- 500\n",
    "prom_downstream <- 250\n",
    "\n",
    "#prom_ranges <- promoters(gene_ranges, upstream = 500, downstream = 100)\n",
    "prom_ranges <- promoters(gene_ranges, upstream = prom_upstream, downstream = prom_downstream)\n",
    "\n",
    "# prom_ranges <- prom_ranges[seqnames(prom_ranges) %in% sprintf(\"chr%s\", c(1:22, \"X\", \"Y\"))]\n",
    "\n",
    "prom_ranges$gene_symbol <- mapIds(\n",
    "  x         = org.Hs.eg.db,\n",
    "  keys      = prom_ranges$gene_id,\n",
    "  keytype   = \"ENTREZID\",\n",
    "  column    = \"SYMBOL\",\n",
    "  multiVals = \"first\"\n",
    ")\n",
    "prom_ranges"
   ]
  },
  {
   "cell_type": "markdown",
   "metadata": {},
   "source": [
    "Promoter sequences:"
   ]
  },
  {
   "cell_type": "code",
   "execution_count": 6,
   "metadata": {},
   "outputs": [
    {
     "data": {
      "text/html": [
       "<strong>RFLNA:</strong> 18051"
      ],
      "text/latex": [
       "\\textbf{RFLNA:} 18051"
      ],
      "text/markdown": [
       "**RFLNA:** 18051"
      ],
      "text/plain": [
       "RFLNA \n",
       "18051 "
      ]
     },
     "metadata": {},
     "output_type": "display_data"
    }
   ],
   "source": [
    "which(table(prom_ranges$gene_symbol) > 1)"
   ]
  },
  {
   "cell_type": "code",
   "execution_count": 7,
   "metadata": {},
   "outputs": [
    {
     "data": {
      "text/plain": [
       "GRanges object with 2 ranges and 2 metadata columns:\n",
       "            seqnames                 ranges strand |     gene_id gene_symbol\n",
       "               <Rle>              <IRanges>  <Rle> | <character> <character>\n",
       "  100533183    chr12 [123972719, 123973468]      + |   100533183       RFLNA\n",
       "     144347    chr12 [124288664, 124289413]      + |      144347       RFLNA\n",
       "  -------\n",
       "  seqinfo: 455 sequences (1 circular) from hg38 genome"
      ]
     },
     "metadata": {},
     "output_type": "display_data"
    }
   ],
   "source": [
    "prom_ranges[which(prom_ranges$gene_symbol == \"RFLNA\"),]"
   ]
  },
  {
   "cell_type": "code",
   "execution_count": 8,
   "metadata": {},
   "outputs": [],
   "source": [
    "gene_ranges <- gene_ranges[which(gene_ranges$gene_symbol != \"RFLNA\"),]\n",
    "prom_ranges <- prom_ranges[which(prom_ranges$gene_symbol != \"RFLNA\"),]"
   ]
  },
  {
   "cell_type": "code",
   "execution_count": 9,
   "metadata": {},
   "outputs": [
    {
     "data": {
      "text/html": [],
      "text/latex": [],
      "text/markdown": [],
      "text/plain": [
       "named integer(0)"
      ]
     },
     "metadata": {},
     "output_type": "display_data"
    }
   ],
   "source": [
    "which(table(prom_ranges$gene_symbol) > 1)"
   ]
  },
  {
   "cell_type": "code",
   "execution_count": 10,
   "metadata": {},
   "outputs": [],
   "source": [
    "# Promoter sequences\n",
    "#\n",
    "# keys <- c(\"2\", \"9\")\n",
    "# select(\n",
    "#   x = txdb,\n",
    "#   keys = keys,\n",
    "#   columns = c(\"TXID\", \"TXNAME\", \"TXCHROM\", \"TXSTART\", \"TXEND\", \"TXSTRAND\"),\n",
    "#   keytype = \"GENEID\"\n",
    "# )\n",
    "# prom <- getPromoterSeq(query = chromosomal.loc, subject = Hsapiens, upstream=1000, downstream=0)"
   ]
  },
  {
   "cell_type": "code",
   "execution_count": 11,
   "metadata": {},
   "outputs": [],
   "source": [
    "prom_bed <- data.frame(\n",
    "  seqnames = seqnames(prom_ranges),\n",
    "  starts   = start(prom_ranges)-1,\n",
    "  ends     = end(prom_ranges),\n",
    "  names    = prom_ranges$gene_symbol,\n",
    "  scores   = 0,\n",
    "  strands  = strand(prom_ranges)\n",
    ")"
   ]
  },
  {
   "cell_type": "code",
   "execution_count": 12,
   "metadata": {},
   "outputs": [],
   "source": [
    "fwrite(x = prom_bed, file = \"/data/srlab/external-data/JASPAR/promoters_hg38.bed\")"
   ]
  },
  {
   "cell_type": "markdown",
   "metadata": {},
   "source": [
    "## JASPAR motifs"
   ]
  },
  {
   "cell_type": "code",
   "execution_count": 13,
   "metadata": {},
   "outputs": [],
   "source": [
    "read_jaspar_bed <- function(file) {\n",
    "  retval <- data.table::fread(input = sprintf(\"zcat %s\", file), skip = 1)\n",
    "  colnames(retval) <- c(\n",
    "    \"chrom\", \"start\", \"end\",\n",
    "    \"motif\", \"rel_score\", \"log10p\",\n",
    "    \"strand\"\n",
    "  )\n",
    "#   retval\n",
    "  GenomicRanges::GRanges(\n",
    "    seqnames = retval$chrom,\n",
    "    ranges = IRanges::IRanges(\n",
    "      start = retval$start,\n",
    "      end = retval$end\n",
    "    ),\n",
    "    motif = retval$motif,\n",
    "    strand = retval$strand,\n",
    "    rel_score = retval$rel_score,\n",
    "    log10p = retval$log10p / 100\n",
    "  )\n",
    "}"
   ]
  },
  {
   "cell_type": "code",
   "execution_count": 14,
   "metadata": {},
   "outputs": [],
   "source": [
    "motif_dict <- c(\n",
    "  \"MA0518.1\" = \"STAT4\",\n",
    "  \"MA0144.2\" = \"STAT3\",\n",
    "  \"MA0640.1\" = \"ELF3\",\n",
    "  \"MA0754.1\" = \"CUX1\",\n",
    "  \"MA0105.4\" = \"NFKB1\",\n",
    "  \"MA0778.1\" = \"NFKB2\",\n",
    "  \"MA0107.1\" = \"RELA\"\n",
    ")"
   ]
  },
  {
   "cell_type": "code",
   "execution_count": 15,
   "metadata": {},
   "outputs": [],
   "source": [
    "motif_rds <- \"data/jaspar_motifs.rds\"\n",
    "if (file.exists(motif_rds)) {\n",
    "  motif <- readRDS(motif_rds)\n",
    "} else {\n",
    "  motif <- list()\n",
    "  for (key in names(motif_dict)) {\n",
    "    time_start <- Sys.time()\n",
    "\n",
    "    tf_name <- motif_dict[key]\n",
    "    motif[[tf_name]] <- read_jaspar_bed(\n",
    "      sprintf(\"/data/srlab/external-data/JASPAR/UCSC_tracks/2018/hg38/tsv/%s.tsv.gz\", key)\n",
    "    )\n",
    "\n",
    "    time_elapsed <- Sys.time() - time_start\n",
    "    print(key)\n",
    "    print(time_elapsed)\n",
    "  }\n",
    "  saveRDS(motif, motif_rds)\n",
    "}"
   ]
  },
  {
   "cell_type": "code",
   "execution_count": 22,
   "metadata": {},
   "outputs": [
    {
     "data": {
      "text/html": [
       "<ol class=list-inline>\n",
       "\t<li>'data.table'</li>\n",
       "\t<li>'data.frame'</li>\n",
       "</ol>\n"
      ],
      "text/latex": [
       "\\begin{enumerate*}\n",
       "\\item 'data.table'\n",
       "\\item 'data.frame'\n",
       "\\end{enumerate*}\n"
      ],
      "text/markdown": [
       "1. 'data.table'\n",
       "2. 'data.frame'\n",
       "\n",
       "\n"
      ],
      "text/plain": [
       "[1] \"data.table\" \"data.frame\""
      ]
     },
     "metadata": {},
     "output_type": "display_data"
    },
    {
     "data": {
      "text/html": [
       "<table>\n",
       "<thead><tr><th scope=col>chrom</th><th scope=col>start</th><th scope=col>end</th><th scope=col>strand</th><th scope=col>name</th><th scope=col>bin</th><th scope=col>start2</th><th scope=col>end2</th><th scope=col>gene</th><th scope=col>name2</th><th scope=col>start3</th><th scope=col>end3</th></tr></thead>\n",
       "<tbody>\n",
       "\t<tr><td>chr17   </td><td>34269717</td><td>34269730</td><td>+       </td><td>STAT4   </td><td>2       </td><td>  0     </td><td> 13     </td><td>CCL7    </td><td>STAT4   </td><td>  0     </td><td> 13     </td></tr>\n",
       "\t<tr><td>chr17   </td><td>34269970</td><td>34269983</td><td>+       </td><td>STAT4   </td><td>2       </td><td>253     </td><td>266     </td><td>CCL7    </td><td>STAT4   </td><td>253     </td><td>266     </td></tr>\n",
       "\t<tr><td>chr17   </td><td>34270186</td><td>34270199</td><td>+       </td><td>STAT4   </td><td>2       </td><td>469     </td><td>482     </td><td>CCL7    </td><td>STAT4   </td><td>469     </td><td>482     </td></tr>\n",
       "\t<tr><td>chr17   </td><td>34269717</td><td>34269727</td><td>+       </td><td>STAT3   </td><td>1       </td><td>  0     </td><td> 10     </td><td>CCL7    </td><td>STAT3   </td><td>  0     </td><td> 10     </td></tr>\n",
       "\t<tr><td>chr17   </td><td>34269741</td><td>34269751</td><td>+       </td><td>STAT3   </td><td>1       </td><td> 24     </td><td> 34     </td><td>CCL7    </td><td>STAT3   </td><td> 24     </td><td> 34     </td></tr>\n",
       "\t<tr><td>chr17   </td><td>34269777</td><td>34269787</td><td>+       </td><td>STAT3   </td><td>1       </td><td> 60     </td><td> 70     </td><td>CCL7    </td><td>STAT3   </td><td> 60     </td><td> 70     </td></tr>\n",
       "</tbody>\n",
       "</table>\n"
      ],
      "text/latex": [
       "\\begin{tabular}{r|llllllllllll}\n",
       " chrom & start & end & strand & name & bin & start2 & end2 & gene & name2 & start3 & end3\\\\\n",
       "\\hline\n",
       "\t chr17    & 34269717 & 34269730 & +        & STAT4    & 2        &   0      &  13      & CCL7     & STAT4    &   0      &  13     \\\\\n",
       "\t chr17    & 34269970 & 34269983 & +        & STAT4    & 2        & 253      & 266      & CCL7     & STAT4    & 253      & 266     \\\\\n",
       "\t chr17    & 34270186 & 34270199 & +        & STAT4    & 2        & 469      & 482      & CCL7     & STAT4    & 469      & 482     \\\\\n",
       "\t chr17    & 34269717 & 34269727 & +        & STAT3    & 1        &   0      &  10      & CCL7     & STAT3    &   0      &  10     \\\\\n",
       "\t chr17    & 34269741 & 34269751 & +        & STAT3    & 1        &  24      &  34      & CCL7     & STAT3    &  24      &  34     \\\\\n",
       "\t chr17    & 34269777 & 34269787 & +        & STAT3    & 1        &  60      &  70      & CCL7     & STAT3    &  60      &  70     \\\\\n",
       "\\end{tabular}\n"
      ],
      "text/markdown": [
       "\n",
       "chrom | start | end | strand | name | bin | start2 | end2 | gene | name2 | start3 | end3 | \n",
       "|---|---|---|---|---|---|\n",
       "| chr17    | 34269717 | 34269730 | +        | STAT4    | 2        |   0      |  13      | CCL7     | STAT4    |   0      |  13      | \n",
       "| chr17    | 34269970 | 34269983 | +        | STAT4    | 2        | 253      | 266      | CCL7     | STAT4    | 253      | 266      | \n",
       "| chr17    | 34270186 | 34270199 | +        | STAT4    | 2        | 469      | 482      | CCL7     | STAT4    | 469      | 482      | \n",
       "| chr17    | 34269717 | 34269727 | +        | STAT3    | 1        |   0      |  10      | CCL7     | STAT3    |   0      |  10      | \n",
       "| chr17    | 34269741 | 34269751 | +        | STAT3    | 1        |  24      |  34      | CCL7     | STAT3    |  24      |  34      | \n",
       "| chr17    | 34269777 | 34269787 | +        | STAT3    | 1        |  60      |  70      | CCL7     | STAT3    |  60      |  70      | \n",
       "\n",
       "\n"
      ],
      "text/plain": [
       "  chrom start    end      strand name  bin start2 end2 gene name2 start3 end3\n",
       "1 chr17 34269717 34269730 +      STAT4 2     0     13  CCL7 STAT4   0     13 \n",
       "2 chr17 34269970 34269983 +      STAT4 2   253    266  CCL7 STAT4 253    266 \n",
       "3 chr17 34270186 34270199 +      STAT4 2   469    482  CCL7 STAT4 469    482 \n",
       "4 chr17 34269717 34269727 +      STAT3 1     0     10  CCL7 STAT3   0     10 \n",
       "5 chr17 34269741 34269751 +      STAT3 1    24     34  CCL7 STAT3  24     34 \n",
       "6 chr17 34269777 34269787 +      STAT3 1    60     70  CCL7 STAT3  60     70 "
      ]
     },
     "metadata": {},
     "output_type": "display_data"
    },
    {
     "data": {
      "text/html": [
       "196"
      ],
      "text/latex": [
       "196"
      ],
      "text/markdown": [
       "196"
      ],
      "text/plain": [
       "[1] 196"
      ]
     },
     "metadata": {},
     "output_type": "display_data"
    }
   ],
   "source": [
    "class(motif)\n",
    "head(motif)\n",
    "nrow(motif)"
   ]
  },
  {
   "cell_type": "markdown",
   "metadata": {},
   "source": [
    "### JASPAR motifs for CUX1"
   ]
  },
  {
   "cell_type": "code",
   "execution_count": 24,
   "metadata": {},
   "outputs": [],
   "source": [
    "# hb <- hexbin(x = motif$CUX1$rel_score, y = motif$CUX1$log10p, xbins = 40)\n",
    "\n",
    "# options(repr.plot.width = 7, repr.plot.height = 7)\n",
    "# plot(hb)"
   ]
  },
  {
   "cell_type": "code",
   "execution_count": 23,
   "metadata": {},
   "outputs": [
    {
     "data": {
      "text/html": [
       "TRUE"
      ],
      "text/latex": [
       "TRUE"
      ],
      "text/markdown": [
       "TRUE"
      ],
      "text/plain": [
       "[1] TRUE"
      ]
     },
     "metadata": {},
     "output_type": "display_data"
    }
   ],
   "source": [
    "my_genes <- c(\n",
    "  \"CCL7\", \"STC1\", \"MMP3\", \"CCL8\", \"G0S2\", \"CCL20\", \"NAMPT\", \"IL6\",\n",
    "  \"MFSD2A\", \"C15orf48\", \"CXCL6\", \"ADORA2A\", \"CXCL3\", \"CXCL8\", \"CXCL2\", \"CXCL1\"\n",
    ")\n",
    "all(my_genes %in% prom_ranges$gene_symbol)"
   ]
  },
  {
   "cell_type": "markdown",
   "metadata": {},
   "source": [
    "## Find motifs in promoter sequences"
   ]
  },
  {
   "cell_type": "code",
   "execution_count": 25,
   "metadata": {},
   "outputs": [],
   "source": [
    "dat_motif_rds <- \"data/jaspar_motifs.rds\"\n",
    "if (file.exists(dat_motif_rds)) {\n",
    "  dat_motif <- readRDS(dat_motif_rds)\n",
    "} else {\n",
    "  \n",
    "  dat_motif <- list()\n",
    "\n",
    "  for (this_gene_symbol in my_genes) {\n",
    "    # this_gene_symbol <- \"CXCL8\"\n",
    "\n",
    "    this_prom <- unique(prom_ranges[prom_ranges$gene_symbol %in% c(this_gene_symbol)])\n",
    "\n",
    "    # this_gene <- gene_ranges[gene_ranges$gene_symbol %in% c(this_gene_symbol)]\n",
    "\n",
    "    this_motif <- list()\n",
    "    for (motif_name in names(motif)) {\n",
    "      x <- suppressWarnings(findOverlaps(\n",
    "        query   = this_prom,\n",
    "        subject = motif[[motif_name]]\n",
    "      ))\n",
    "      if (length(subjectHits(x)) > 0) {\n",
    "        this_motif[[motif_name]] <- motif[[motif_name]][subjectHits(x)]\n",
    "        this_motif[[motif_name]] <- data.frame(\n",
    "          chrom = seqnames(this_motif[[motif_name]]),\n",
    "          start = start(this_motif[[motif_name]]),\n",
    "          end = end(this_motif[[motif_name]]),\n",
    "          strand = as.character(strand(this_motif[[motif_name]])),\n",
    "          name = motif_name\n",
    "        )\n",
    "      }\n",
    "    }\n",
    "\n",
    "    this_motif[[this_gene_symbol]] <- data.frame(\n",
    "      chrom = as.character(seqnames(this_prom)),\n",
    "      start = start(this_prom),\n",
    "      end = end(this_prom),\n",
    "      strand = as.character(strand(this_prom)),\n",
    "      name = paste(as.character(this_prom$gene_symbol), \"promoter\")\n",
    "    )\n",
    "\n",
    "    d <- rbindlist(this_motif)\n",
    "    d$bin <- disjointBins(IRanges(d$start, d$end))\n",
    "\n",
    "    d$start2 <- d$start - min(d$start)\n",
    "    d$end2   <- d$end - min(d$start)\n",
    "\n",
    "    d$gene <- this_gene_symbol\n",
    "\n",
    "    dat_motif[[this_gene_symbol]] <- d\n",
    "  }\n",
    "\n",
    "  dat_motif <- rbindlist(dat_motif)\n",
    "  \n",
    "  saveRDS(dat_motif, dat_motif_rds)\n",
    "}"
   ]
  },
  {
   "cell_type": "code",
   "execution_count": 26,
   "metadata": {},
   "outputs": [
    {
     "data": {
      "text/html": [
       "<table>\n",
       "<thead><tr><th></th><th scope=col>CUX1</th><th scope=col>STAT3</th><th scope=col>STAT4</th><th scope=col>ELF3</th><th scope=col>RELA</th><th scope=col>NFKB1</th><th scope=col>NFKB2</th></tr></thead>\n",
       "<tbody>\n",
       "\t<tr><th scope=row>CCL7</th><td>0 </td><td> 6</td><td>3 </td><td>0 </td><td>1 </td><td>1 </td><td>2 </td></tr>\n",
       "\t<tr><th scope=row>STC1</th><td>2 </td><td> 6</td><td>4 </td><td>0 </td><td>0 </td><td>0 </td><td>0 </td></tr>\n",
       "\t<tr><th scope=row>MMP3</th><td>3 </td><td> 8</td><td>3 </td><td>0 </td><td>1 </td><td>0 </td><td>0 </td></tr>\n",
       "\t<tr><th scope=row>CCL8</th><td>1 </td><td> 5</td><td>2 </td><td>0 </td><td>0 </td><td>0 </td><td>1 </td></tr>\n",
       "\t<tr><th scope=row>G0S2</th><td>1 </td><td> 2</td><td>2 </td><td>0 </td><td>1 </td><td>0 </td><td>1 </td></tr>\n",
       "\t<tr><th scope=row>CCL20</th><td>1 </td><td> 7</td><td>2 </td><td>1 </td><td>0 </td><td>0 </td><td>2 </td></tr>\n",
       "\t<tr><th scope=row>NAMPT</th><td>2 </td><td>10</td><td>2 </td><td>0 </td><td>0 </td><td>1 </td><td>1 </td></tr>\n",
       "\t<tr><th scope=row>IL6</th><td>1 </td><td> 8</td><td>2 </td><td>1 </td><td>0 </td><td>0 </td><td>0 </td></tr>\n",
       "\t<tr><th scope=row>MFSD2A</th><td>0 </td><td> 2</td><td>2 </td><td>0 </td><td>0 </td><td>0 </td><td>0 </td></tr>\n",
       "\t<tr><th scope=row>C15orf48</th><td>1 </td><td> 0</td><td>0 </td><td>0 </td><td>1 </td><td>2 </td><td>2 </td></tr>\n",
       "\t<tr><th scope=row>CXCL6</th><td>0 </td><td> 3</td><td>2 </td><td>0 </td><td>4 </td><td>1 </td><td>1 </td></tr>\n",
       "\t<tr><th scope=row>ADORA2A</th><td>0 </td><td> 4</td><td>1 </td><td>0 </td><td>0 </td><td>1 </td><td>1 </td></tr>\n",
       "\t<tr><th scope=row>CXCL3</th><td>1 </td><td> 6</td><td>1 </td><td>0 </td><td>2 </td><td>1 </td><td>3 </td></tr>\n",
       "\t<tr><th scope=row>CXCL8</th><td>2 </td><td>11</td><td>6 </td><td>1 </td><td>1 </td><td>0 </td><td>0 </td></tr>\n",
       "\t<tr><th scope=row>CXCL2</th><td>1 </td><td> 5</td><td>1 </td><td>2 </td><td>2 </td><td>1 </td><td>1 </td></tr>\n",
       "\t<tr><th scope=row>CXCL1</th><td>1 </td><td> 2</td><td>0 </td><td>0 </td><td>2 </td><td>1 </td><td>1 </td></tr>\n",
       "</tbody>\n",
       "</table>\n"
      ],
      "text/latex": [
       "\\begin{tabular}{r|lllllll}\n",
       "  & CUX1 & STAT3 & STAT4 & ELF3 & RELA & NFKB1 & NFKB2\\\\\n",
       "\\hline\n",
       "\tCCL7 & 0  &  6 & 3  & 0  & 1  & 1  & 2 \\\\\n",
       "\tSTC1 & 2  &  6 & 4  & 0  & 0  & 0  & 0 \\\\\n",
       "\tMMP3 & 3  &  8 & 3  & 0  & 1  & 0  & 0 \\\\\n",
       "\tCCL8 & 1  &  5 & 2  & 0  & 0  & 0  & 1 \\\\\n",
       "\tG0S2 & 1  &  2 & 2  & 0  & 1  & 0  & 1 \\\\\n",
       "\tCCL20 & 1  &  7 & 2  & 1  & 0  & 0  & 2 \\\\\n",
       "\tNAMPT & 2  & 10 & 2  & 0  & 0  & 1  & 1 \\\\\n",
       "\tIL6 & 1  &  8 & 2  & 1  & 0  & 0  & 0 \\\\\n",
       "\tMFSD2A & 0  &  2 & 2  & 0  & 0  & 0  & 0 \\\\\n",
       "\tC15orf48 & 1  &  0 & 0  & 0  & 1  & 2  & 2 \\\\\n",
       "\tCXCL6 & 0  &  3 & 2  & 0  & 4  & 1  & 1 \\\\\n",
       "\tADORA2A & 0  &  4 & 1  & 0  & 0  & 1  & 1 \\\\\n",
       "\tCXCL3 & 1  &  6 & 1  & 0  & 2  & 1  & 3 \\\\\n",
       "\tCXCL8 & 2  & 11 & 6  & 1  & 1  & 0  & 0 \\\\\n",
       "\tCXCL2 & 1  &  5 & 1  & 2  & 2  & 1  & 1 \\\\\n",
       "\tCXCL1 & 1  &  2 & 0  & 0  & 2  & 1  & 1 \\\\\n",
       "\\end{tabular}\n"
      ],
      "text/markdown": [
       "\n",
       "| <!--/--> | CUX1 | STAT3 | STAT4 | ELF3 | RELA | NFKB1 | NFKB2 | \n",
       "|---|---|---|---|---|---|---|---|---|---|---|---|---|---|---|---|\n",
       "| CCL7 | 0  |  6 | 3  | 0  | 1  | 1  | 2  | \n",
       "| STC1 | 2  |  6 | 4  | 0  | 0  | 0  | 0  | \n",
       "| MMP3 | 3  |  8 | 3  | 0  | 1  | 0  | 0  | \n",
       "| CCL8 | 1  |  5 | 2  | 0  | 0  | 0  | 1  | \n",
       "| G0S2 | 1  |  2 | 2  | 0  | 1  | 0  | 1  | \n",
       "| CCL20 | 1  |  7 | 2  | 1  | 0  | 0  | 2  | \n",
       "| NAMPT | 2  | 10 | 2  | 0  | 0  | 1  | 1  | \n",
       "| IL6 | 1  |  8 | 2  | 1  | 0  | 0  | 0  | \n",
       "| MFSD2A | 0  |  2 | 2  | 0  | 0  | 0  | 0  | \n",
       "| C15orf48 | 1  |  0 | 0  | 0  | 1  | 2  | 2  | \n",
       "| CXCL6 | 0  |  3 | 2  | 0  | 4  | 1  | 1  | \n",
       "| ADORA2A | 0  |  4 | 1  | 0  | 0  | 1  | 1  | \n",
       "| CXCL3 | 1  |  6 | 1  | 0  | 2  | 1  | 3  | \n",
       "| CXCL8 | 2  | 11 | 6  | 1  | 1  | 0  | 0  | \n",
       "| CXCL2 | 1  |  5 | 1  | 2  | 2  | 1  | 1  | \n",
       "| CXCL1 | 1  |  2 | 0  | 0  | 2  | 1  | 1  | \n",
       "\n",
       "\n"
      ],
      "text/plain": [
       "         CUX1 STAT3 STAT4 ELF3 RELA NFKB1 NFKB2\n",
       "CCL7     0     6    3     0    1    1     2    \n",
       "STC1     2     6    4     0    0    0     0    \n",
       "MMP3     3     8    3     0    1    0     0    \n",
       "CCL8     1     5    2     0    0    0     1    \n",
       "G0S2     1     2    2     0    1    0     1    \n",
       "CCL20    1     7    2     1    0    0     2    \n",
       "NAMPT    2    10    2     0    0    1     1    \n",
       "IL6      1     8    2     1    0    0     0    \n",
       "MFSD2A   0     2    2     0    0    0     0    \n",
       "C15orf48 1     0    0     0    1    2     2    \n",
       "CXCL6    0     3    2     0    4    1     1    \n",
       "ADORA2A  0     4    1     0    0    1     1    \n",
       "CXCL3    1     6    1     0    2    1     3    \n",
       "CXCL8    2    11    6     1    1    0     0    \n",
       "CXCL2    1     5    1     2    2    1     1    \n",
       "CXCL1    1     2    0     0    2    1     1    "
      ]
     },
     "metadata": {},
     "output_type": "display_data"
    }
   ],
   "source": [
    "mat <- dat_motif %>%\n",
    "filter(!stringr::str_detect(name, \"promoter\")) %>%\n",
    "group_by(gene, name) %>%\n",
    "summarise(n = length(gene)) %>%\n",
    "spread(name, n, 0)\n",
    "\n",
    "mat <- as.data.frame(mat)\n",
    "rownames(mat) <- mat$gene\n",
    "mat$gene <- NULL\n",
    "mat <- as.matrix(mat)\n",
    "\n",
    "mat <- mat[my_genes,c(\"CUX1\", \"STAT3\", \"STAT4\", \"ELF3\", \"RELA\", \"NFKB1\", \"NFKB2\")]\n",
    "mat"
   ]
  },
  {
   "cell_type": "code",
   "execution_count": 27,
   "metadata": {},
   "outputs": [
    {
     "data": {
      "text/html": [
       "<table>\n",
       "<thead><tr><th scope=col>chrom</th><th scope=col>start</th><th scope=col>end</th><th scope=col>strand</th><th scope=col>name</th><th scope=col>bin</th><th scope=col>start2</th><th scope=col>end2</th><th scope=col>gene</th><th scope=col>name2</th><th scope=col>start3</th><th scope=col>end3</th></tr></thead>\n",
       "<tbody>\n",
       "\t<tr><td>chr17            </td><td> 34269721        </td><td> 34270470        </td><td>+                </td><td>CCL7 promoter    </td><td>3                </td><td>4                </td><td>753              </td><td>CCL7             </td><td>promoter         </td><td>  4              </td><td>753              </td></tr>\n",
       "\t<tr><td>chr8             </td><td> 23854558        </td><td> 23855307        </td><td>-                </td><td>STC1 promoter    </td><td>1                </td><td>0                </td><td>749              </td><td>STC1             </td><td>promoter         </td><td>750              </td><td>  1              </td></tr>\n",
       "\t<tr><td>chr11            </td><td>102843554        </td><td>102844303        </td><td>-                </td><td>MMP3 promoter    </td><td>1                </td><td>0                </td><td>749              </td><td>MMP3             </td><td>promoter         </td><td>750              </td><td>  1              </td></tr>\n",
       "\t<tr><td>chr17            </td><td> 34318536        </td><td> 34319285        </td><td>+                </td><td>CCL8 promoter    </td><td>1                </td><td>0                </td><td>749              </td><td>CCL8             </td><td>promoter         </td><td>  0              </td><td>749              </td></tr>\n",
       "\t<tr><td>chr1             </td><td>209674920        </td><td>209675669        </td><td>+                </td><td>G0S2 promoter    </td><td>1                </td><td>0                </td><td>749              </td><td>G0S2             </td><td>promoter         </td><td>  0              </td><td>749              </td></tr>\n",
       "\t<tr><td>chr2             </td><td>227813342        </td><td>227814091        </td><td>+                </td><td>CCL20 promoter   </td><td>1                </td><td>0                </td><td>749              </td><td>CCL20            </td><td>promoter         </td><td>  0              </td><td>749              </td></tr>\n",
       "\t<tr><td>chr7             </td><td>106286077        </td><td>106286826        </td><td>-                </td><td>NAMPT promoter   </td><td>1                </td><td>0                </td><td>749              </td><td>NAMPT            </td><td>promoter         </td><td>750              </td><td>  1              </td></tr>\n",
       "\t<tr><td>chr7             </td><td> 22725384        </td><td> 22726133        </td><td>+                </td><td>IL6 promoter     </td><td>1                </td><td>0                </td><td>749              </td><td>IL6              </td><td>promoter         </td><td>  0              </td><td>749              </td></tr>\n",
       "\t<tr><td>chr1             </td><td> 39954612        </td><td> 39955361        </td><td>+                </td><td>MFSD2A promoter  </td><td>1                </td><td>0                </td><td>749              </td><td>MFSD2A           </td><td>promoter         </td><td>  0              </td><td>749              </td></tr>\n",
       "\t<tr><td>chr15            </td><td> 45430029        </td><td> 45430778        </td><td>+                </td><td>C15orf48 promoter</td><td>1                </td><td>0                </td><td>749              </td><td>C15orf48         </td><td>promoter         </td><td>  0              </td><td>749              </td></tr>\n",
       "\t<tr><td>chr4             </td><td> 73835997        </td><td> 73836746        </td><td>+                </td><td>CXCL6 promoter   </td><td>1                </td><td>0                </td><td>749              </td><td>CXCL6            </td><td>promoter         </td><td>  0              </td><td>749              </td></tr>\n",
       "\t<tr><td>chr22            </td><td> 24417379        </td><td> 24418128        </td><td>+                </td><td>ADORA2A promoter </td><td>1                </td><td>0                </td><td>749              </td><td>ADORA2A          </td><td>promoter         </td><td>  0              </td><td>749              </td></tr>\n",
       "\t<tr><td>chr4             </td><td> 74038558        </td><td> 74039307        </td><td>-                </td><td>CXCL3 promoter   </td><td>1                </td><td>0                </td><td>749              </td><td>CXCL3            </td><td>promoter         </td><td>750              </td><td>  1              </td></tr>\n",
       "\t<tr><td>chr4             </td><td> 73740006        </td><td> 73740755        </td><td>+                </td><td>CXCL8 promoter   </td><td>1                </td><td>0                </td><td>749              </td><td>CXCL8            </td><td>promoter         </td><td>  0              </td><td>749              </td></tr>\n",
       "\t<tr><td>chr4             </td><td> 74099044        </td><td> 74099793        </td><td>-                </td><td>CXCL2 promoter   </td><td>1                </td><td>0                </td><td>749              </td><td>CXCL2            </td><td>promoter         </td><td>750              </td><td>  1              </td></tr>\n",
       "\t<tr><td>chr4             </td><td> 73868893        </td><td> 73869642        </td><td>+                </td><td>CXCL1 promoter   </td><td>1                </td><td>0                </td><td>749              </td><td>CXCL1            </td><td>promoter         </td><td>  0              </td><td>749              </td></tr>\n",
       "</tbody>\n",
       "</table>\n"
      ],
      "text/latex": [
       "\\begin{tabular}{r|llllllllllll}\n",
       " chrom & start & end & strand & name & bin & start2 & end2 & gene & name2 & start3 & end3\\\\\n",
       "\\hline\n",
       "\t chr17             &  34269721         &  34270470         & +                 & CCL7 promoter     & 3                 & 4                 & 753               & CCL7              & promoter          &   4               & 753              \\\\\n",
       "\t chr8              &  23854558         &  23855307         & -                 & STC1 promoter     & 1                 & 0                 & 749               & STC1              & promoter          & 750               &   1              \\\\\n",
       "\t chr11             & 102843554         & 102844303         & -                 & MMP3 promoter     & 1                 & 0                 & 749               & MMP3              & promoter          & 750               &   1              \\\\\n",
       "\t chr17             &  34318536         &  34319285         & +                 & CCL8 promoter     & 1                 & 0                 & 749               & CCL8              & promoter          &   0               & 749              \\\\\n",
       "\t chr1              & 209674920         & 209675669         & +                 & G0S2 promoter     & 1                 & 0                 & 749               & G0S2              & promoter          &   0               & 749              \\\\\n",
       "\t chr2              & 227813342         & 227814091         & +                 & CCL20 promoter    & 1                 & 0                 & 749               & CCL20             & promoter          &   0               & 749              \\\\\n",
       "\t chr7              & 106286077         & 106286826         & -                 & NAMPT promoter    & 1                 & 0                 & 749               & NAMPT             & promoter          & 750               &   1              \\\\\n",
       "\t chr7              &  22725384         &  22726133         & +                 & IL6 promoter      & 1                 & 0                 & 749               & IL6               & promoter          &   0               & 749              \\\\\n",
       "\t chr1              &  39954612         &  39955361         & +                 & MFSD2A promoter   & 1                 & 0                 & 749               & MFSD2A            & promoter          &   0               & 749              \\\\\n",
       "\t chr15             &  45430029         &  45430778         & +                 & C15orf48 promoter & 1                 & 0                 & 749               & C15orf48          & promoter          &   0               & 749              \\\\\n",
       "\t chr4              &  73835997         &  73836746         & +                 & CXCL6 promoter    & 1                 & 0                 & 749               & CXCL6             & promoter          &   0               & 749              \\\\\n",
       "\t chr22             &  24417379         &  24418128         & +                 & ADORA2A promoter  & 1                 & 0                 & 749               & ADORA2A           & promoter          &   0               & 749              \\\\\n",
       "\t chr4              &  74038558         &  74039307         & -                 & CXCL3 promoter    & 1                 & 0                 & 749               & CXCL3             & promoter          & 750               &   1              \\\\\n",
       "\t chr4              &  73740006         &  73740755         & +                 & CXCL8 promoter    & 1                 & 0                 & 749               & CXCL8             & promoter          &   0               & 749              \\\\\n",
       "\t chr4              &  74099044         &  74099793         & -                 & CXCL2 promoter    & 1                 & 0                 & 749               & CXCL2             & promoter          & 750               &   1              \\\\\n",
       "\t chr4              &  73868893         &  73869642         & +                 & CXCL1 promoter    & 1                 & 0                 & 749               & CXCL1             & promoter          &   0               & 749              \\\\\n",
       "\\end{tabular}\n"
      ],
      "text/markdown": [
       "\n",
       "chrom | start | end | strand | name | bin | start2 | end2 | gene | name2 | start3 | end3 | \n",
       "|---|---|---|---|---|---|---|---|---|---|---|---|---|---|---|---|\n",
       "| chr17             |  34269721         |  34270470         | +                 | CCL7 promoter     | 3                 | 4                 | 753               | CCL7              | promoter          |   4               | 753               | \n",
       "| chr8              |  23854558         |  23855307         | -                 | STC1 promoter     | 1                 | 0                 | 749               | STC1              | promoter          | 750               |   1               | \n",
       "| chr11             | 102843554         | 102844303         | -                 | MMP3 promoter     | 1                 | 0                 | 749               | MMP3              | promoter          | 750               |   1               | \n",
       "| chr17             |  34318536         |  34319285         | +                 | CCL8 promoter     | 1                 | 0                 | 749               | CCL8              | promoter          |   0               | 749               | \n",
       "| chr1              | 209674920         | 209675669         | +                 | G0S2 promoter     | 1                 | 0                 | 749               | G0S2              | promoter          |   0               | 749               | \n",
       "| chr2              | 227813342         | 227814091         | +                 | CCL20 promoter    | 1                 | 0                 | 749               | CCL20             | promoter          |   0               | 749               | \n",
       "| chr7              | 106286077         | 106286826         | -                 | NAMPT promoter    | 1                 | 0                 | 749               | NAMPT             | promoter          | 750               |   1               | \n",
       "| chr7              |  22725384         |  22726133         | +                 | IL6 promoter      | 1                 | 0                 | 749               | IL6               | promoter          |   0               | 749               | \n",
       "| chr1              |  39954612         |  39955361         | +                 | MFSD2A promoter   | 1                 | 0                 | 749               | MFSD2A            | promoter          |   0               | 749               | \n",
       "| chr15             |  45430029         |  45430778         | +                 | C15orf48 promoter | 1                 | 0                 | 749               | C15orf48          | promoter          |   0               | 749               | \n",
       "| chr4              |  73835997         |  73836746         | +                 | CXCL6 promoter    | 1                 | 0                 | 749               | CXCL6             | promoter          |   0               | 749               | \n",
       "| chr22             |  24417379         |  24418128         | +                 | ADORA2A promoter  | 1                 | 0                 | 749               | ADORA2A           | promoter          |   0               | 749               | \n",
       "| chr4              |  74038558         |  74039307         | -                 | CXCL3 promoter    | 1                 | 0                 | 749               | CXCL3             | promoter          | 750               |   1               | \n",
       "| chr4              |  73740006         |  73740755         | +                 | CXCL8 promoter    | 1                 | 0                 | 749               | CXCL8             | promoter          |   0               | 749               | \n",
       "| chr4              |  74099044         |  74099793         | -                 | CXCL2 promoter    | 1                 | 0                 | 749               | CXCL2             | promoter          | 750               |   1               | \n",
       "| chr4              |  73868893         |  73869642         | +                 | CXCL1 promoter    | 1                 | 0                 | 749               | CXCL1             | promoter          |   0               | 749               | \n",
       "\n",
       "\n"
      ],
      "text/plain": [
       "   chrom start     end       strand name              bin start2 end2 gene    \n",
       "1  chr17  34269721  34270470 +      CCL7 promoter     3   4      753  CCL7    \n",
       "2  chr8   23854558  23855307 -      STC1 promoter     1   0      749  STC1    \n",
       "3  chr11 102843554 102844303 -      MMP3 promoter     1   0      749  MMP3    \n",
       "4  chr17  34318536  34319285 +      CCL8 promoter     1   0      749  CCL8    \n",
       "5  chr1  209674920 209675669 +      G0S2 promoter     1   0      749  G0S2    \n",
       "6  chr2  227813342 227814091 +      CCL20 promoter    1   0      749  CCL20   \n",
       "7  chr7  106286077 106286826 -      NAMPT promoter    1   0      749  NAMPT   \n",
       "8  chr7   22725384  22726133 +      IL6 promoter      1   0      749  IL6     \n",
       "9  chr1   39954612  39955361 +      MFSD2A promoter   1   0      749  MFSD2A  \n",
       "10 chr15  45430029  45430778 +      C15orf48 promoter 1   0      749  C15orf48\n",
       "11 chr4   73835997  73836746 +      CXCL6 promoter    1   0      749  CXCL6   \n",
       "12 chr22  24417379  24418128 +      ADORA2A promoter  1   0      749  ADORA2A \n",
       "13 chr4   74038558  74039307 -      CXCL3 promoter    1   0      749  CXCL3   \n",
       "14 chr4   73740006  73740755 +      CXCL8 promoter    1   0      749  CXCL8   \n",
       "15 chr4   74099044  74099793 -      CXCL2 promoter    1   0      749  CXCL2   \n",
       "16 chr4   73868893  73869642 +      CXCL1 promoter    1   0      749  CXCL1   \n",
       "   name2    start3 end3\n",
       "1  promoter   4    753 \n",
       "2  promoter 750      1 \n",
       "3  promoter 750      1 \n",
       "4  promoter   0    749 \n",
       "5  promoter   0    749 \n",
       "6  promoter   0    749 \n",
       "7  promoter 750      1 \n",
       "8  promoter   0    749 \n",
       "9  promoter   0    749 \n",
       "10 promoter   0    749 \n",
       "11 promoter   0    749 \n",
       "12 promoter   0    749 \n",
       "13 promoter 750      1 \n",
       "14 promoter   0    749 \n",
       "15 promoter 750      1 \n",
       "16 promoter   0    749 "
      ]
     },
     "metadata": {},
     "output_type": "display_data"
    }
   ],
   "source": [
    "dat_motif %>%\n",
    "filter(stringr::str_detect(name, \"promoter\"))"
   ]
  },
  {
   "cell_type": "code",
   "execution_count": 28,
   "metadata": {},
   "outputs": [
    {
     "data": {
      "text/html": [
       "<table>\n",
       "<thead><tr><th scope=col>chrom</th><th scope=col>start</th><th scope=col>end</th><th scope=col>strand</th><th scope=col>name</th><th scope=col>bin</th><th scope=col>start2</th><th scope=col>end2</th><th scope=col>gene</th><th scope=col>name2</th><th scope=col>start3</th><th scope=col>end3</th></tr></thead>\n",
       "<tbody>\n",
       "\t<tr><td>chr4    </td><td>74038713</td><td>74038723</td><td>-       </td><td>STAT3   </td><td>2       </td><td>155     </td><td>165     </td><td>CXCL3   </td><td>STAT3   </td><td>595     </td><td>585     </td></tr>\n",
       "\t<tr><td>chr4    </td><td>74038757</td><td>74038769</td><td>-       </td><td>NFKB1   </td><td>2       </td><td>199     </td><td>211     </td><td>CXCL3   </td><td>NFKB1   </td><td>551     </td><td>539     </td></tr>\n",
       "\t<tr><td>chr4    </td><td>74038763</td><td>74038773</td><td>-       </td><td>STAT3   </td><td>5       </td><td>205     </td><td>215     </td><td>CXCL3   </td><td>STAT3   </td><td>545     </td><td>535     </td></tr>\n",
       "\t<tr><td>chr4    </td><td>74038777</td><td>74038786</td><td>-       </td><td>CUX1    </td><td>2       </td><td>219     </td><td>228     </td><td>CXCL3   </td><td>CUX1    </td><td>531     </td><td>522     </td></tr>\n",
       "\t<tr><td>chr4    </td><td>74038931</td><td>74038941</td><td>-       </td><td>STAT3   </td><td>3       </td><td>373     </td><td>383     </td><td>CXCL3   </td><td>STAT3   </td><td>377     </td><td>367     </td></tr>\n",
       "\t<tr><td>chr4    </td><td>74039080</td><td>74039090</td><td>-       </td><td>STAT3   </td><td>2       </td><td>522     </td><td>532     </td><td>CXCL3   </td><td>STAT3   </td><td>228     </td><td>218     </td></tr>\n",
       "\t<tr><td>chr4    </td><td>74039230</td><td>74039240</td><td>-       </td><td>STAT3   </td><td>2       </td><td>672     </td><td>682     </td><td>CXCL3   </td><td>STAT3   </td><td> 78     </td><td> 68     </td></tr>\n",
       "\t<tr><td>chr4    </td><td>74039284</td><td>74039294</td><td>-       </td><td>STAT3   </td><td>2       </td><td>726     </td><td>736     </td><td>CXCL3   </td><td>STAT3   </td><td> 24     </td><td> 14     </td></tr>\n",
       "</tbody>\n",
       "</table>\n"
      ],
      "text/latex": [
       "\\begin{tabular}{r|llllllllllll}\n",
       " chrom & start & end & strand & name & bin & start2 & end2 & gene & name2 & start3 & end3\\\\\n",
       "\\hline\n",
       "\t chr4     & 74038713 & 74038723 & -        & STAT3    & 2        & 155      & 165      & CXCL3    & STAT3    & 595      & 585     \\\\\n",
       "\t chr4     & 74038757 & 74038769 & -        & NFKB1    & 2        & 199      & 211      & CXCL3    & NFKB1    & 551      & 539     \\\\\n",
       "\t chr4     & 74038763 & 74038773 & -        & STAT3    & 5        & 205      & 215      & CXCL3    & STAT3    & 545      & 535     \\\\\n",
       "\t chr4     & 74038777 & 74038786 & -        & CUX1     & 2        & 219      & 228      & CXCL3    & CUX1     & 531      & 522     \\\\\n",
       "\t chr4     & 74038931 & 74038941 & -        & STAT3    & 3        & 373      & 383      & CXCL3    & STAT3    & 377      & 367     \\\\\n",
       "\t chr4     & 74039080 & 74039090 & -        & STAT3    & 2        & 522      & 532      & CXCL3    & STAT3    & 228      & 218     \\\\\n",
       "\t chr4     & 74039230 & 74039240 & -        & STAT3    & 2        & 672      & 682      & CXCL3    & STAT3    &  78      &  68     \\\\\n",
       "\t chr4     & 74039284 & 74039294 & -        & STAT3    & 2        & 726      & 736      & CXCL3    & STAT3    &  24      &  14     \\\\\n",
       "\\end{tabular}\n"
      ],
      "text/markdown": [
       "\n",
       "chrom | start | end | strand | name | bin | start2 | end2 | gene | name2 | start3 | end3 | \n",
       "|---|---|---|---|---|---|---|---|\n",
       "| chr4     | 74038713 | 74038723 | -        | STAT3    | 2        | 155      | 165      | CXCL3    | STAT3    | 595      | 585      | \n",
       "| chr4     | 74038757 | 74038769 | -        | NFKB1    | 2        | 199      | 211      | CXCL3    | NFKB1    | 551      | 539      | \n",
       "| chr4     | 74038763 | 74038773 | -        | STAT3    | 5        | 205      | 215      | CXCL3    | STAT3    | 545      | 535      | \n",
       "| chr4     | 74038777 | 74038786 | -        | CUX1     | 2        | 219      | 228      | CXCL3    | CUX1     | 531      | 522      | \n",
       "| chr4     | 74038931 | 74038941 | -        | STAT3    | 3        | 373      | 383      | CXCL3    | STAT3    | 377      | 367      | \n",
       "| chr4     | 74039080 | 74039090 | -        | STAT3    | 2        | 522      | 532      | CXCL3    | STAT3    | 228      | 218      | \n",
       "| chr4     | 74039230 | 74039240 | -        | STAT3    | 2        | 672      | 682      | CXCL3    | STAT3    |  78      |  68      | \n",
       "| chr4     | 74039284 | 74039294 | -        | STAT3    | 2        | 726      | 736      | CXCL3    | STAT3    |  24      |  14      | \n",
       "\n",
       "\n"
      ],
      "text/plain": [
       "  chrom start    end      strand name  bin start2 end2 gene  name2 start3 end3\n",
       "1 chr4  74038713 74038723 -      STAT3 2   155    165  CXCL3 STAT3 595    585 \n",
       "2 chr4  74038757 74038769 -      NFKB1 2   199    211  CXCL3 NFKB1 551    539 \n",
       "3 chr4  74038763 74038773 -      STAT3 5   205    215  CXCL3 STAT3 545    535 \n",
       "4 chr4  74038777 74038786 -      CUX1  2   219    228  CXCL3 CUX1  531    522 \n",
       "5 chr4  74038931 74038941 -      STAT3 3   373    383  CXCL3 STAT3 377    367 \n",
       "6 chr4  74039080 74039090 -      STAT3 2   522    532  CXCL3 STAT3 228    218 \n",
       "7 chr4  74039230 74039240 -      STAT3 2   672    682  CXCL3 STAT3  78     68 \n",
       "8 chr4  74039284 74039294 -      STAT3 2   726    736  CXCL3 STAT3  24     14 "
      ]
     },
     "metadata": {},
     "output_type": "display_data"
    }
   ],
   "source": [
    "dat_motif %>%\n",
    "filter(gene == \"CXCL3\" & name %in% c(\"CUX1\", \"NFKB1\", \"STAT3\")) %>%\n",
    "arrange(start, end)"
   ]
  },
  {
   "cell_type": "code",
   "execution_count": 31,
   "metadata": {},
   "outputs": [
    {
     "name": "stderr",
     "output_type": "stream",
     "text": [
      "Loading required package: BSgenome\n",
      "Loading required package: Biostrings\n",
      "Loading required package: XVector\n",
      "\n",
      "Attaching package: ‘Biostrings’\n",
      "\n",
      "The following object is masked from ‘package:base’:\n",
      "\n",
      "    strsplit\n",
      "\n"
     ]
    },
    {
     "data": {
      "text/plain": [
       "  74-letter \"DNAString\" instance\n",
       "seq: GGATCGATCTGGAGCTCCGGGAATTTCCCTGGCCCGGCCGCTCCGGGCTTTCCAGTCTCAACCATGCATAAAAA"
      ]
     },
     "metadata": {},
     "output_type": "display_data"
    },
    {
     "data": {
      "text/plain": [
       "  74-letter \"DNAString\" instance\n",
       "seq: CCTAGCTAGACCTCGAGGCCCTTAAAGGGACCGGGCCGGCGAGGCCCGAAAGGTCAGAGTTGGTACGTATTTTT"
      ]
     },
     "metadata": {},
     "output_type": "display_data"
    }
   ],
   "source": [
    "library(BSgenome.Hsapiens.UCSC.hg38)\n",
    "\n",
    "getSeq(BSgenome.Hsapiens.UCSC.hg38, names = \"chr4\", start = 74038713, end = 74038786, strand = \"-\")\n",
    "\n",
    "complement(getSeq(BSgenome.Hsapiens.UCSC.hg38, names = \"chr4\", start = 74038713, end = 74038786, strand = \"-\"))"
   ]
  },
  {
   "cell_type": "code",
   "execution_count": 32,
   "metadata": {},
   "outputs": [],
   "source": [
    "dat_motif$name2 <- as.character(dat_motif$name)\n",
    "dat_motif$name2[stringr::str_detect(dat_motif$name2, \"promoter\")] <- \"promoter\"\n",
    "dat_motif$name2 <- factor(dat_motif$name2, c(\"promoter\", \"RELA\", \"NFKB1\", \"NFKB2\", \"CUX1\", \"STAT3\", \"STAT4\", \"ELF3\"))\n",
    "\n",
    "ix_strand <- dat_motif$strand == \"-\"\n",
    "dat_motif$start3 <- dat_motif$start2\n",
    "dat_motif$end3 <- dat_motif$end2\n",
    "dat_motif$start3[ix_strand] <- prom_upstream + prom_downstream - dat_motif$start2[ix_strand]\n",
    "dat_motif$end3[ix_strand] <- prom_upstream + prom_downstream - dat_motif$end2[ix_strand]"
   ]
  },
  {
   "cell_type": "code",
   "execution_count": 33,
   "metadata": {},
   "outputs": [
    {
     "data": {
      "text/html": [
       "<ol class=list-inline>\n",
       "\t<li>'promoter'</li>\n",
       "\t<li>'RELA'</li>\n",
       "\t<li>'NFKB1'</li>\n",
       "\t<li>'NFKB2'</li>\n",
       "\t<li>'CUX1'</li>\n",
       "\t<li>'STAT3'</li>\n",
       "\t<li>'STAT4'</li>\n",
       "\t<li>'ELF3'</li>\n",
       "</ol>\n"
      ],
      "text/latex": [
       "\\begin{enumerate*}\n",
       "\\item 'promoter'\n",
       "\\item 'RELA'\n",
       "\\item 'NFKB1'\n",
       "\\item 'NFKB2'\n",
       "\\item 'CUX1'\n",
       "\\item 'STAT3'\n",
       "\\item 'STAT4'\n",
       "\\item 'ELF3'\n",
       "\\end{enumerate*}\n"
      ],
      "text/markdown": [
       "1. 'promoter'\n",
       "2. 'RELA'\n",
       "3. 'NFKB1'\n",
       "4. 'NFKB2'\n",
       "5. 'CUX1'\n",
       "6. 'STAT3'\n",
       "7. 'STAT4'\n",
       "8. 'ELF3'\n",
       "\n",
       "\n"
      ],
      "text/plain": [
       "[1] \"promoter\" \"RELA\"     \"NFKB1\"    \"NFKB2\"    \"CUX1\"     \"STAT3\"    \"STAT4\"   \n",
       "[8] \"ELF3\"    "
      ]
     },
     "metadata": {},
     "output_type": "display_data"
    }
   ],
   "source": [
    "levels(dat_motif$name2)"
   ]
  },
  {
   "cell_type": "code",
   "execution_count": 34,
   "metadata": {},
   "outputs": [],
   "source": [
    "dat_motif$gene <- factor(dat_motif$gene, rownames(mat))"
   ]
  },
  {
   "cell_type": "code",
   "execution_count": 194,
   "metadata": {},
   "outputs": [
    {
     "data": {
      "text/plain": [
       "name2\n",
       " NFKB  CUX1 STAT3 STAT4  ELF3 \n",
       "    5     3    13     2     2 "
      ]
     },
     "metadata": {},
     "output_type": "display_data"
    },
    {
     "data": {
      "image/png": "[encoded data removed]"
     },
     "metadata": {},
     "output_type": "display_data"
    }
   ],
   "source": [
    "x <- dat_motif %>%\n",
    "filter(!name2 %in% c(\"promoter\", \"RELA\", \"NFKB1\")) %>%\n",
    "# filter(gene %in% rownames(mat))\n",
    "# filter(gene %in% c(\"CXCL1\", \"CXCL2\", \"CXCL3\", \"IL6\", \"CXCL6\", \"CXCL8\", \"C15orf48\"))\n",
    "filter(gene %in% c(\"CXCL1\", \"CXCL2\", \"CXCL3\"))\n",
    "\n",
    "x$name2 <- factor(x$name2)\n",
    "levels(x$name2)[1] <- \"NFKB\"\n",
    "\n",
    "with(x, table(name2))\n",
    "\n",
    "dat_motif_text <- x %>% filter(!name2 %in% c(\"promoter\")) %>%\n",
    "select(gene) %>% unique()\n",
    "\n",
    "options(repr.plot.width = 8, repr.plot.height = 0.5 + nrow(dat_motif_text) * 0.65)\n",
    "\n",
    "p <- ggplot(x) +\n",
    "# geom_hline(\n",
    "#   size = 0.1,\n",
    "#   yintercept = 1:7 + 0.5,\n",
    "#   color = \"grey80\"\n",
    "# ) +\n",
    "geom_vline(\n",
    "  xintercept = prom_upstream,\n",
    "  size = 0.5,\n",
    "  color = \"black\"\n",
    ") +\n",
    "geom_rect(\n",
    "  data = data.frame(\n",
    "    gene  = c(\"CXCL1\", \"CXCL2\", \"CXCL3\"),\n",
    "    start = c(390, 590, 610),\n",
    "    end   = c(490, 490, 510)\n",
    "  ),\n",
    "  mapping = aes(xmin = start, xmax = end, ymin = -Inf, ymax = Inf),\n",
    "  fill = \"black\",\n",
    "  alpha = 0.12,\n",
    "  color = NA,\n",
    "  size = 0\n",
    ") +\n",
    "geom_rect(\n",
    "  mapping = aes(\n",
    "    xmin = start3, xmax = end3,\n",
    "    ymin = as.integer(name2), ymax = as.integer(name2) + 1,\n",
    "    fill = name2\n",
    "  ),\n",
    "  color = \"black\",\n",
    "  size = 0.1\n",
    ") +\n",
    "geom_text(\n",
    "  size    = 7,\n",
    "  data    = dat_motif_text,\n",
    "  mapping = aes(x = -Inf, y = Inf, label = gene),\n",
    "  hjust   = 0,\n",
    "  vjust   = 1.5,\n",
    "  fontface = \"italic\"\n",
    ") +\n",
    "facet_grid(gene ~ .) +\n",
    "scale_x_continuous(limits = c(-80, max(dat_motif$end3) - 130), labels = function(x) x - prom_upstream) +\n",
    "# scale_y_continuous(limits = c(2, 9)) +\n",
    "scale_fill_brewer(palette = \"Set2\", name = \"Motif\") +\n",
    "labs(x = \"bp from TSS\", y = NULL, title = \"JASPAR2018\") +\n",
    "guides(fill = guide_legend(reverse = TRUE)) +\n",
    "theme(\n",
    "  legend.title = element_text(size = 20),\n",
    "  legend.text = element_text(size = 20),\n",
    "  panel.spacing = unit(0.25, \"lines\"),\n",
    "  strip.background = element_blank(),\n",
    "  strip.text = element_blank(),\n",
    "  axis.ticks.y = element_blank(),\n",
    "  axis.text.y = element_blank(),\n",
    "  axis.text.x = element_text(size = 20),\n",
    "  axis.title.x = element_text(size = 20),\n",
    "  plot.title = element_text(size = 20),\n",
    "  panel.background = element_blank(),\n",
    "  panel.border = element_rect(size = 0.2)\n",
    ")\n",
    "\n",
    "show_plot(p, name = \"JASPAR2018\")"
   ]
  },
  {
   "cell_type": "markdown",
   "metadata": {},
   "source": [
    "# Dotplot with seqinr"
   ]
  },
  {
   "cell_type": "code",
   "execution_count": 42,
   "metadata": {},
   "outputs": [
    {
     "name": "stderr",
     "output_type": "stream",
     "text": [
      "\n",
      "Attaching package: ‘seqinr’\n",
      "\n",
      "The following object is masked from ‘package:Biostrings’:\n",
      "\n",
      "    translate\n",
      "\n",
      "The following object is masked from ‘package:dplyr’:\n",
      "\n",
      "    count\n",
      "\n",
      "The following object is masked from ‘package:biomaRt’:\n",
      "\n",
      "    getSequence\n",
      "\n"
     ]
    }
   ],
   "source": [
    "library(\"seqinr\")"
   ]
  },
  {
   "cell_type": "code",
   "execution_count": 195,
   "metadata": {},
   "outputs": [],
   "source": [
    "get_gene_seq <- function(this_gene) {\n",
    "  x <- dat_motif %>%\n",
    "  filter(stringr::str_detect(name, \"promoter\"), gene == this_gene) %>%\n",
    "  as.list\n",
    "  getSeq(BSgenome.Hsapiens.UCSC.hg38, names = x$chrom, start = x$start, end = x$end, strand = x$strand)\n",
    "}"
   ]
  },
  {
   "cell_type": "code",
   "execution_count": 196,
   "metadata": {},
   "outputs": [],
   "source": [
    "dot_matrix <- function(seq1, seq2, wsize = 1, wstep = 1, nmatch = 1) {\n",
    "  mkwin <- function(seq, wsize, wstep) {\n",
    "    sapply(\n",
    "      seq(from = 1, to = length(seq) - wsize + 1, by = wstep), \n",
    "      function(i) c2s(seq[i:(i + wsize - 1)])\n",
    "    )\n",
    "  }\n",
    "  wseq1 <- mkwin(seq1, wsize, wstep)\n",
    "  wseq2 <- mkwin(seq2, wsize, wstep)\n",
    "  if (nmatch == wsize) {\n",
    "      xy <- outer(wseq1, wseq2, \"==\")\n",
    "  }\n",
    "  else {\n",
    "      \"%==%\" <- function(x, y) colSums(sapply(x, s2c) == sapply(y, \n",
    "          s2c)) >= nmatch\n",
    "      xy <- outer(wseq1, wseq2, \"%==%\")\n",
    "  }\n",
    "  return(xy)\n",
    "}"
   ]
  },
  {
   "cell_type": "code",
   "execution_count": 203,
   "metadata": {},
   "outputs": [
    {
     "data": {
      "image/png": "[encoded data removed]"
     },
     "metadata": {},
     "output_type": "display_data"
    }
   ],
   "source": [
    "s1 <- get_gene_seq(\"CXCL3\")\n",
    "s2 <- get_gene_seq(\"CXCL2\")\n",
    "\n",
    "this_wsize <- 5\n",
    "\n",
    "m1 <- dot_matrix(\n",
    "  seq1 = strsplit(as.character(s1), \"\")[[1]],\n",
    "  seq2 = strsplit(as.character(s2), \"\")[[1]],\n",
    "  wsize = this_wsize, wstep = 1, nmatch = this_wsize\n",
    ")\n",
    "\n",
    "d1 <- reshape2::melt(m1)\n",
    "d1 <- d1[d1$value != 0,]\n",
    "\n",
    "# d1\n",
    "\n",
    "options(repr.plot.width = 4.5 * 2, repr.plot.height = 4)\n",
    "\n",
    "p1 <- ggplot() +\n",
    "geom_abline(intercept = 0, slope = 1, color = \"red\", size = 0.1, alpha = 0.3) +\n",
    "geom_rect(\n",
    "#   data = dat_motif %>%\n",
    "#     filter(gene == \"CXCL3\" & name %in% c(\"CUX1\", \"NFKB1\", \"STAT3\") & name == \"CUX1\") %>%\n",
    "#     arrange(start, end),\n",
    "  data = data.frame(xmin = 500, max = max(d1$Var1)),\n",
    "  mapping = aes(xmin = xmin, xmax = max, ymin = 0, ymax = max),\n",
    "  alpha = 0.1\n",
    ") +\n",
    "geom_raster(\n",
    "  data = d1,\n",
    "  mapping = aes(fill = value, x = Var2, y = Var1)\n",
    ") + \n",
    "scale_fill_manual(values = c(\"black\")) +\n",
    "theme_clean(base_size = 20) +\n",
    "labs(x = \"CXCL3\", y = \"CXCL2\") +\n",
    "theme(\n",
    "  legend.position = \"none\",\n",
    "  axis.title = element_text(size = 20, face = \"italic\"),\n",
    "  axis.text.x = element_text(size = 20),\n",
    "  axis.text.y = element_text(size = 20),\n",
    "  plot.title  = element_text(size = 20)\n",
    ")\n",
    "\n",
    "p2 <- ggplot() +\n",
    "geom_abline(intercept = 0, slope = 1, color = \"red\", size = 0.1, alpha = 0.3) +\n",
    "geom_rect(\n",
    "  data = dat_motif %>%\n",
    "    filter(gene == \"CXCL3\" & name %in% c(\"CUX1\", \"NFKB1\", \"STAT3\") & name == \"CUX1\") %>%\n",
    "    arrange(start, end),\n",
    "  mapping = aes(xmin = start3, xmax = end3, ymin = 500, ymax = 750),\n",
    "  alpha = 0.7, fill = RColorBrewer::brewer.pal(8, \"Set2\")[2]\n",
    ") +\n",
    "geom_rect(\n",
    "  data = dat_motif %>%\n",
    "    filter(gene == \"CXCL3\" & name %in% c(\"CUX1\", \"NFKB1\", \"STAT3\") & name == \"NFKB1\") %>%\n",
    "    arrange(start, end),\n",
    "  mapping = aes(xmin = start3, xmax = end3, ymin = 500, ymax = 750),\n",
    "  alpha = 0.7, fill = RColorBrewer::brewer.pal(8, \"Set2\")[1]\n",
    ") +\n",
    "geom_rect(\n",
    "  data = dat_motif %>%\n",
    "    filter(gene == \"CXCL3\" & name %in% c(\"CUX1\", \"NFKB1\", \"STAT3\") & name == \"STAT3\") %>%\n",
    "    arrange(start, end) %>%\n",
    "    filter(start3 >= 500 & end3 >= 500),\n",
    "  mapping = aes(xmin = start3, xmax = end3, ymin = 500, ymax = 750),\n",
    "  alpha = 0.7, fill = RColorBrewer::brewer.pal(8, \"Set2\")[3]\n",
    ") +\n",
    "geom_raster(\n",
    "  data = d1 %>% filter(Var2 >= 500 & Var1 >= 500),\n",
    "  mapping = aes(fill = value, x = Var2, y = Var1)\n",
    ") + \n",
    "scale_fill_manual(values = c(\"black\")) +\n",
    "theme_clean(base_size = 20) +\n",
    "labs(x = \"CXCL3\", y = \"CXCL2\") +\n",
    "theme(\n",
    "  legend.position = \"none\",\n",
    "  axis.title = element_text(size = 20, face = \"italic\"),\n",
    "  axis.text.x = element_text(size = 20),\n",
    "  axis.text.y = element_text(size = 20),\n",
    "  plot.title  = element_text(size = 20)\n",
    ")\n",
    "\n",
    "show_plot(p1 + p2)"
   ]
  },
  {
   "cell_type": "code",
   "execution_count": 207,
   "metadata": {},
   "outputs": [],
   "source": [
    "plot_dotplot <- function(g1 = \"CXCL3\", g2 = \"CXCL1\") {\n",
    "  # s1 <- get_gene_seq(\"CXCL3\")\n",
    "  # s2 <- get_gene_seq(\"CXCL1\")\n",
    "  s1 <- get_gene_seq(g1)\n",
    "  s2 <- get_gene_seq(g2)\n",
    "\n",
    "  this_wsize <- 6\n",
    "\n",
    "  m1 <- dot_matrix(\n",
    "    seq1 = strsplit(as.character(s1), \"\")[[1]],\n",
    "    seq2 = strsplit(as.character(s2), \"\")[[1]],\n",
    "    wsize = this_wsize, wstep = 1, nmatch = this_wsize\n",
    "  )\n",
    "\n",
    "  d1 <- reshape2::melt(m1)\n",
    "  d1 <- d1[d1$value != 0,]\n",
    "\n",
    "  # d1\n",
    "\n",
    "  options(repr.plot.width = 4.5 * 2, repr.plot.height = 4)\n",
    "\n",
    "  zoom_region <- c(400, max(d1$Var1))\n",
    "\n",
    "  p1 <- ggplot() +\n",
    "  geom_abline(intercept = 0, slope = 1, color = \"red\", size = 0.1, alpha = 0.3) +\n",
    "  geom_rect(\n",
    "    data = data.frame(xmin = zoom_region[1], max = zoom_region[2]),\n",
    "    xmin = zoom_region[1], xmax = zoom_region[2],\n",
    "    ymin = zoom_region[1], ymax = zoom_region[2],\n",
    "    alpha = 0.1\n",
    "  ) +\n",
    "  geom_raster(\n",
    "    data = d1,\n",
    "    mapping = aes(fill = value, x = Var2, y = Var1)\n",
    "  ) + \n",
    "  scale_fill_manual(values = c(\"black\")) +\n",
    "  theme_clean(base_size = 20) +\n",
    "  labs(x = g1, y = g2) +\n",
    "  theme(\n",
    "    legend.position = \"none\",\n",
    "    axis.title = element_text(size = 20, face = \"italic\"),\n",
    "    axis.text.x = element_text(size = 20),\n",
    "    axis.text.y = element_text(size = 20),\n",
    "    plot.title  = element_text(size = 20)\n",
    "  )\n",
    "\n",
    "  p2 <- ggplot() +\n",
    "  geom_abline(intercept = 0, slope = 1, color = \"red\", size = 0.1, alpha = 0.3) +\n",
    "  geom_rect(\n",
    "    data = dat_motif %>%\n",
    "      filter(gene == g1 & name == \"CUX1\") %>%\n",
    "      arrange(start, end),\n",
    "    mapping = aes(xmin = start3, xmax = end3), ymin = zoom_region[1], ymax = zoom_region[2],\n",
    "    alpha = 0.7, fill = RColorBrewer::brewer.pal(8, \"Set2\")[2]\n",
    "  ) +\n",
    "  geom_rect(\n",
    "    data = dat_motif %>%\n",
    "      filter(gene == g1 & name == \"NFKB1\") %>%\n",
    "      arrange(start, end),\n",
    "    mapping = aes(xmin = start3, xmax = end3), ymin = zoom_region[1], ymax = zoom_region[2],\n",
    "    alpha = 0.7, fill = RColorBrewer::brewer.pal(8, \"Set2\")[1]\n",
    "  ) +\n",
    "  geom_rect(\n",
    "    data = dat_motif %>%\n",
    "      filter(gene == g1 & name == \"STAT3\") %>%\n",
    "      arrange(start, end) %>%\n",
    "      filter(start3 >= zoom_region[1] & end3 >= zoom_region[1]),\n",
    "    mapping = aes(xmin = start3, xmax = end3), ymin = zoom_region[1], ymax = zoom_region[2],\n",
    "    alpha = 0.7, fill = RColorBrewer::brewer.pal(8, \"Set2\")[3]\n",
    "  ) +\n",
    "  geom_raster(\n",
    "    data = d1 %>% filter(Var2 >= zoom_region[1] & Var1 >= zoom_region[1]),\n",
    "    mapping = aes(fill = value, x = Var2, y = Var1)\n",
    "  ) + \n",
    "  scale_fill_manual(values = c(\"black\")) +\n",
    "  theme_clean(base_size = 20) +\n",
    "  labs(x = g1, y = g2) +\n",
    "  theme(\n",
    "    legend.position = \"none\",\n",
    "    axis.title = element_text(size = 20, face = \"italic\"),\n",
    "    axis.text.x = element_text(size = 20),\n",
    "    axis.text.y = element_text(size = 20),\n",
    "    plot.title  = element_text(size = 20)\n",
    "  )\n",
    "\n",
    "  show_plot(p1 + p2)\n",
    "}\n"
   ]
  },
  {
   "cell_type": "code",
   "execution_count": 210,
   "metadata": {},
   "outputs": [
    {
     "data": {
      "image/png": "[encoded data removed]"
     },
     "metadata": {},
     "output_type": "display_data"
    },
    {
     "data": {
      "image/png": "[encoded data removed]"
     },
     "metadata": {},
     "output_type": "display_data"
    },
    {
     "data": {
      "image/png": "[encoded data removed]"
     },
     "metadata": {},
     "output_type": "display_data"
    }
   ],
   "source": [
    "# c(390, 590, 610)\n",
    "plot_dotplot(\"CXCL3\", \"CXCL1\")\n",
    "plot_dotplot(\"CXCL3\", \"CXCL2\")\n",
    "plot_dotplot(\"CXCL3\", \"CXCL2\")"
   ]
  },
  {
   "cell_type": "code",
   "execution_count": 193,
   "metadata": {},
   "outputs": [
    {
     "data": {
      "text/html": [
       "<table>\n",
       "<thead><tr><th scope=col>chrom</th><th scope=col>start</th><th scope=col>end</th><th scope=col>strand</th><th scope=col>name</th><th scope=col>bin</th><th scope=col>start2</th><th scope=col>end2</th><th scope=col>gene</th><th scope=col>name2</th><th scope=col>start3</th><th scope=col>end3</th></tr></thead>\n",
       "<tbody>\n",
       "\t<tr><td>chr4    </td><td>73869296</td><td>73869305</td><td>+       </td><td>CUX1    </td><td>2       </td><td>403     </td><td>412     </td><td>CXCL1   </td><td>CUX1    </td><td>403     </td><td>412     </td></tr>\n",
       "</tbody>\n",
       "</table>\n"
      ],
      "text/latex": [
       "\\begin{tabular}{r|llllllllllll}\n",
       " chrom & start & end & strand & name & bin & start2 & end2 & gene & name2 & start3 & end3\\\\\n",
       "\\hline\n",
       "\t chr4     & 73869296 & 73869305 & +        & CUX1     & 2        & 403      & 412      & CXCL1    & CUX1     & 403      & 412     \\\\\n",
       "\\end{tabular}\n"
      ],
      "text/markdown": [
       "\n",
       "chrom | start | end | strand | name | bin | start2 | end2 | gene | name2 | start3 | end3 | \n",
       "|---|\n",
       "| chr4     | 73869296 | 73869305 | +        | CUX1     | 2        | 403      | 412      | CXCL1    | CUX1     | 403      | 412      | \n",
       "\n",
       "\n"
      ],
      "text/plain": [
       "  chrom start    end      strand name bin start2 end2 gene  name2 start3 end3\n",
       "1 chr4  73869296 73869305 +      CUX1 2   403    412  CXCL1 CUX1  403    412 "
      ]
     },
     "metadata": {},
     "output_type": "display_data"
    }
   ],
   "source": [
    "dat_motif %>%\n",
    "    filter(gene == \"CXCL1\" & name %in% c(\"CUX1\", \"NFKB1\", \"STAT3\") & name == \"CUX1\") %>%\n",
    "    arrange(start, end)"
   ]
  },
  {
   "cell_type": "code",
   "execution_count": 126,
   "metadata": {},
   "outputs": [],
   "source": [
    "library(patchwork)"
   ]
  },
  {
   "cell_type": "code",
   "execution_count": 76,
   "metadata": {},
   "outputs": [
    {
     "data": {
      "text/html": [
       "<table>\n",
       "<thead><tr><th scope=col>chrom</th><th scope=col>start</th><th scope=col>end</th><th scope=col>strand</th><th scope=col>name</th><th scope=col>bin</th><th scope=col>start2</th><th scope=col>end2</th><th scope=col>gene</th><th scope=col>name2</th><th scope=col>start3</th><th scope=col>end3</th></tr></thead>\n",
       "<tbody>\n",
       "\t<tr><td>chr4    </td><td>74038713</td><td>74038723</td><td>-       </td><td>STAT3   </td><td>2       </td><td>155     </td><td>165     </td><td>CXCL3   </td><td>STAT3   </td><td>595     </td><td>585     </td></tr>\n",
       "\t<tr><td>chr4    </td><td>74038757</td><td>74038769</td><td>-       </td><td>NFKB1   </td><td>2       </td><td>199     </td><td>211     </td><td>CXCL3   </td><td>NFKB1   </td><td>551     </td><td>539     </td></tr>\n",
       "\t<tr><td>chr4    </td><td>74038763</td><td>74038773</td><td>-       </td><td>STAT3   </td><td>5       </td><td>205     </td><td>215     </td><td>CXCL3   </td><td>STAT3   </td><td>545     </td><td>535     </td></tr>\n",
       "\t<tr><td>chr4    </td><td>74038777</td><td>74038786</td><td>-       </td><td>CUX1    </td><td>2       </td><td>219     </td><td>228     </td><td>CXCL3   </td><td>CUX1    </td><td>531     </td><td>522     </td></tr>\n",
       "\t<tr><td>chr4    </td><td>74038931</td><td>74038941</td><td>-       </td><td>STAT3   </td><td>3       </td><td>373     </td><td>383     </td><td>CXCL3   </td><td>STAT3   </td><td>377     </td><td>367     </td></tr>\n",
       "\t<tr><td>chr4    </td><td>74039080</td><td>74039090</td><td>-       </td><td>STAT3   </td><td>2       </td><td>522     </td><td>532     </td><td>CXCL3   </td><td>STAT3   </td><td>228     </td><td>218     </td></tr>\n",
       "\t<tr><td>chr4    </td><td>74039230</td><td>74039240</td><td>-       </td><td>STAT3   </td><td>2       </td><td>672     </td><td>682     </td><td>CXCL3   </td><td>STAT3   </td><td> 78     </td><td> 68     </td></tr>\n",
       "\t<tr><td>chr4    </td><td>74039284</td><td>74039294</td><td>-       </td><td>STAT3   </td><td>2       </td><td>726     </td><td>736     </td><td>CXCL3   </td><td>STAT3   </td><td> 24     </td><td> 14     </td></tr>\n",
       "</tbody>\n",
       "</table>\n"
      ],
      "text/latex": [
       "\\begin{tabular}{r|llllllllllll}\n",
       " chrom & start & end & strand & name & bin & start2 & end2 & gene & name2 & start3 & end3\\\\\n",
       "\\hline\n",
       "\t chr4     & 74038713 & 74038723 & -        & STAT3    & 2        & 155      & 165      & CXCL3    & STAT3    & 595      & 585     \\\\\n",
       "\t chr4     & 74038757 & 74038769 & -        & NFKB1    & 2        & 199      & 211      & CXCL3    & NFKB1    & 551      & 539     \\\\\n",
       "\t chr4     & 74038763 & 74038773 & -        & STAT3    & 5        & 205      & 215      & CXCL3    & STAT3    & 545      & 535     \\\\\n",
       "\t chr4     & 74038777 & 74038786 & -        & CUX1     & 2        & 219      & 228      & CXCL3    & CUX1     & 531      & 522     \\\\\n",
       "\t chr4     & 74038931 & 74038941 & -        & STAT3    & 3        & 373      & 383      & CXCL3    & STAT3    & 377      & 367     \\\\\n",
       "\t chr4     & 74039080 & 74039090 & -        & STAT3    & 2        & 522      & 532      & CXCL3    & STAT3    & 228      & 218     \\\\\n",
       "\t chr4     & 74039230 & 74039240 & -        & STAT3    & 2        & 672      & 682      & CXCL3    & STAT3    &  78      &  68     \\\\\n",
       "\t chr4     & 74039284 & 74039294 & -        & STAT3    & 2        & 726      & 736      & CXCL3    & STAT3    &  24      &  14     \\\\\n",
       "\\end{tabular}\n"
      ],
      "text/markdown": [
       "\n",
       "chrom | start | end | strand | name | bin | start2 | end2 | gene | name2 | start3 | end3 | \n",
       "|---|---|---|---|---|---|---|---|\n",
       "| chr4     | 74038713 | 74038723 | -        | STAT3    | 2        | 155      | 165      | CXCL3    | STAT3    | 595      | 585      | \n",
       "| chr4     | 74038757 | 74038769 | -        | NFKB1    | 2        | 199      | 211      | CXCL3    | NFKB1    | 551      | 539      | \n",
       "| chr4     | 74038763 | 74038773 | -        | STAT3    | 5        | 205      | 215      | CXCL3    | STAT3    | 545      | 535      | \n",
       "| chr4     | 74038777 | 74038786 | -        | CUX1     | 2        | 219      | 228      | CXCL3    | CUX1     | 531      | 522      | \n",
       "| chr4     | 74038931 | 74038941 | -        | STAT3    | 3        | 373      | 383      | CXCL3    | STAT3    | 377      | 367      | \n",
       "| chr4     | 74039080 | 74039090 | -        | STAT3    | 2        | 522      | 532      | CXCL3    | STAT3    | 228      | 218      | \n",
       "| chr4     | 74039230 | 74039240 | -        | STAT3    | 2        | 672      | 682      | CXCL3    | STAT3    |  78      |  68      | \n",
       "| chr4     | 74039284 | 74039294 | -        | STAT3    | 2        | 726      | 736      | CXCL3    | STAT3    |  24      |  14      | \n",
       "\n",
       "\n"
      ],
      "text/plain": [
       "  chrom start    end      strand name  bin start2 end2 gene  name2 start3 end3\n",
       "1 chr4  74038713 74038723 -      STAT3 2   155    165  CXCL3 STAT3 595    585 \n",
       "2 chr4  74038757 74038769 -      NFKB1 2   199    211  CXCL3 NFKB1 551    539 \n",
       "3 chr4  74038763 74038773 -      STAT3 5   205    215  CXCL3 STAT3 545    535 \n",
       "4 chr4  74038777 74038786 -      CUX1  2   219    228  CXCL3 CUX1  531    522 \n",
       "5 chr4  74038931 74038941 -      STAT3 3   373    383  CXCL3 STAT3 377    367 \n",
       "6 chr4  74039080 74039090 -      STAT3 2   522    532  CXCL3 STAT3 228    218 \n",
       "7 chr4  74039230 74039240 -      STAT3 2   672    682  CXCL3 STAT3  78     68 \n",
       "8 chr4  74039284 74039294 -      STAT3 2   726    736  CXCL3 STAT3  24     14 "
      ]
     },
     "metadata": {},
     "output_type": "display_data"
    },
    {
     "data": {
      "image/png": "[encoded data removed]",
      "text/plain": [
       "plot without title"
      ]
     },
     "metadata": {},
     "output_type": "display_data"
    }
   ],
   "source": [
    "# CXCL3\n",
    "# \"chr4\t74038558\t74039307\"\n",
    "\n",
    "get_gene_seq <- function(this_gene) {\n",
    "  x <- dat_motif %>%\n",
    "  filter(stringr::str_detect(name, \"promoter\"), gene == this_gene) %>%\n",
    "  as.list\n",
    "  getSeq(BSgenome.Hsapiens.UCSC.hg38, names = x$chrom, start = x$start, end = x$end, strand = x$strand)\n",
    "}\n",
    "\n",
    "s1 <- get_gene_seq(\"CXCL3\")\n",
    "s2 <- get_gene_seq(\"CXCL2\")\n",
    "\n",
    "\n",
    "options(repr.plot.width = 8, repr.plot.height = 8)\n",
    "\n",
    "\n",
    "dotPlot(\n",
    "  seq1 = strsplit(as.character(s1), \"\")[[1]],\n",
    "  seq2 = strsplit(as.character(s2), \"\")[[1]],\n",
    "  wsize = 5, wstep = 1, nmatch = 5,\n",
    "  xlab = \"CXCL3\",\n",
    "  ylab = \"CXCL2\"\n",
    ")\n",
    "abline(0, 1, col = '#ff000055')\n",
    "abline(\n",
    "  v = (\n",
    "    dat_motif %>%\n",
    "    filter(gene == \"CXCL3\" & name %in% c(\"CUX1\", \"NFKB1\", \"STAT3\") & name == \"CUX1\") %>%\n",
    "    arrange(start, end) %>%\n",
    "    as.list\n",
    "  )$start3\n",
    ")\n",
    "\n",
    "dat_motif %>%\n",
    "filter(gene == \"CXCL3\" & name %in% c(\"CUX1\", \"NFKB1\", \"STAT3\")) %>%\n",
    "arrange(start, end)\n",
    "\n",
    "# getSeq(BSgenome.Hsapiens.UCSC.hg38, names = \"chr4\", start = 74038713, end = 74038786, strand = \"-\")\n",
    "\n",
    "# complement(getSeq(BSgenome.Hsapiens.UCSC.hg38, names = \"chr4\", start = 74038713, end = 74038786, strand = \"-\"))"
   ]
  },
  {
   "cell_type": "code",
   "execution_count": 74,
   "metadata": {},
   "outputs": [
    {
     "data": {
      "text/html": [
       "74038777"
      ],
      "text/latex": [
       "74038777"
      ],
      "text/markdown": [
       "74038777"
      ],
      "text/plain": [
       "[1] 74038777"
      ]
     },
     "metadata": {},
     "output_type": "display_data"
    }
   ],
   "source": []
  },
  {
   "cell_type": "markdown",
   "metadata": {},
   "source": [
    "### T-Coffee\n",
    "\n",
    "Consider a multiple sequence alignment:\n",
    "\n",
    "https://www.ebi.ac.uk/Tools/msa/tcoffee/"
   ]
  },
  {
   "cell_type": "code",
   "execution_count": 77,
   "metadata": {},
   "outputs": [
    {
     "data": {
      "text/html": [
       "<table>\n",
       "<thead><tr><th scope=col>chrom</th><th scope=col>start</th><th scope=col>end</th><th scope=col>strand</th><th scope=col>name</th><th scope=col>bin</th><th scope=col>start2</th><th scope=col>end2</th><th scope=col>gene</th><th scope=col>name2</th><th scope=col>start3</th><th scope=col>end3</th></tr></thead>\n",
       "<tbody>\n",
       "\t<tr><td>chr4          </td><td>73740006      </td><td>73740755      </td><td>+             </td><td>CXCL8 promoter</td><td>1             </td><td>0             </td><td>749           </td><td>CXCL8         </td><td>promoter      </td><td>  0           </td><td>749           </td></tr>\n",
       "\t<tr><td>chr4          </td><td>73835997      </td><td>73836746      </td><td>+             </td><td>CXCL6 promoter</td><td>1             </td><td>0             </td><td>749           </td><td>CXCL6         </td><td>promoter      </td><td>  0           </td><td>749           </td></tr>\n",
       "\t<tr><td>chr4          </td><td>73868893      </td><td>73869642      </td><td>+             </td><td>CXCL1 promoter</td><td>1             </td><td>0             </td><td>749           </td><td>CXCL1         </td><td>promoter      </td><td>  0           </td><td>749           </td></tr>\n",
       "\t<tr><td>chr4          </td><td>74038558      </td><td>74039307      </td><td>-             </td><td>CXCL3 promoter</td><td>1             </td><td>0             </td><td>749           </td><td>CXCL3         </td><td>promoter      </td><td>750           </td><td>  1           </td></tr>\n",
       "\t<tr><td>chr4          </td><td>74099044      </td><td>74099793      </td><td>-             </td><td>CXCL2 promoter</td><td>1             </td><td>0             </td><td>749           </td><td>CXCL2         </td><td>promoter      </td><td>750           </td><td>  1           </td></tr>\n",
       "</tbody>\n",
       "</table>\n"
      ],
      "text/latex": [
       "\\begin{tabular}{r|llllllllllll}\n",
       " chrom & start & end & strand & name & bin & start2 & end2 & gene & name2 & start3 & end3\\\\\n",
       "\\hline\n",
       "\t chr4           & 73740006       & 73740755       & +              & CXCL8 promoter & 1              & 0              & 749            & CXCL8          & promoter       &   0            & 749           \\\\\n",
       "\t chr4           & 73835997       & 73836746       & +              & CXCL6 promoter & 1              & 0              & 749            & CXCL6          & promoter       &   0            & 749           \\\\\n",
       "\t chr4           & 73868893       & 73869642       & +              & CXCL1 promoter & 1              & 0              & 749            & CXCL1          & promoter       &   0            & 749           \\\\\n",
       "\t chr4           & 74038558       & 74039307       & -              & CXCL3 promoter & 1              & 0              & 749            & CXCL3          & promoter       & 750            &   1           \\\\\n",
       "\t chr4           & 74099044       & 74099793       & -              & CXCL2 promoter & 1              & 0              & 749            & CXCL2          & promoter       & 750            &   1           \\\\\n",
       "\\end{tabular}\n"
      ],
      "text/markdown": [
       "\n",
       "chrom | start | end | strand | name | bin | start2 | end2 | gene | name2 | start3 | end3 | \n",
       "|---|---|---|---|---|\n",
       "| chr4           | 73740006       | 73740755       | +              | CXCL8 promoter | 1              | 0              | 749            | CXCL8          | promoter       |   0            | 749            | \n",
       "| chr4           | 73835997       | 73836746       | +              | CXCL6 promoter | 1              | 0              | 749            | CXCL6          | promoter       |   0            | 749            | \n",
       "| chr4           | 73868893       | 73869642       | +              | CXCL1 promoter | 1              | 0              | 749            | CXCL1          | promoter       |   0            | 749            | \n",
       "| chr4           | 74038558       | 74039307       | -              | CXCL3 promoter | 1              | 0              | 749            | CXCL3          | promoter       | 750            |   1            | \n",
       "| chr4           | 74099044       | 74099793       | -              | CXCL2 promoter | 1              | 0              | 749            | CXCL2          | promoter       | 750            |   1            | \n",
       "\n",
       "\n"
      ],
      "text/plain": [
       "  chrom start    end      strand name           bin start2 end2 gene  name2   \n",
       "1 chr4  73740006 73740755 +      CXCL8 promoter 1   0      749  CXCL8 promoter\n",
       "2 chr4  73835997 73836746 +      CXCL6 promoter 1   0      749  CXCL6 promoter\n",
       "3 chr4  73868893 73869642 +      CXCL1 promoter 1   0      749  CXCL1 promoter\n",
       "4 chr4  74038558 74039307 -      CXCL3 promoter 1   0      749  CXCL3 promoter\n",
       "5 chr4  74099044 74099793 -      CXCL2 promoter 1   0      749  CXCL2 promoter\n",
       "  start3 end3\n",
       "1   0    749 \n",
       "2   0    749 \n",
       "3   0    749 \n",
       "4 750      1 \n",
       "5 750      1 "
      ]
     },
     "metadata": {},
     "output_type": "display_data"
    }
   ],
   "source": [
    "dat_motif %>%\n",
    "#filter(name == \"CXCL3 promoter\")\n",
    "filter(stringr::str_detect(name, \"promoter\")) %>%\n",
    "filter(chrom == \"chr4\") %>%\n",
    "arrange(start)"
   ]
  },
  {
   "cell_type": "code",
   "execution_count": 78,
   "metadata": {},
   "outputs": [
    {
     "data": {
      "text/html": [
       "'chr4:74038698-74038798'"
      ],
      "text/latex": [
       "'chr4:74038698-74038798'"
      ],
      "text/markdown": [
       "'chr4:74038698-74038798'"
      ],
      "text/plain": [
       "[1] \"chr4:74038698-74038798\""
      ]
     },
     "metadata": {},
     "output_type": "display_data"
    }
   ],
   "source": [
    "sprintf(\"chr4:%s-%s\", 74038558 + 140, 74038558 + 240)"
   ]
  },
  {
   "cell_type": "markdown",
   "metadata": {},
   "source": [
    "```\n",
    "   ACTIONS      QUERY           SCORE START  END QSIZE IDENTITY CHRO STRAND  START    END      SPAN\n",
    "---------------------------------------------------------------------------------------------------\n",
    "browser details hg38_dna         101     1   101   101 100.0%     4   +   74038698  74038798    101  CXCL3 promoter\n",
    "browser details hg38_dna          82     2   101   101  91.0%     4   -   73869284  73869383    100  CXCL1 promoter\n",
    "browser details hg38_dna          76     6    94   101  91.9%     4   +   74099209  74099296     88  CXCL2 promoter\n",
    "browser details hg38_dna          59     1    81   101  86.5%     4   +   73944420  73944500     81  CXCL1P1 promoter\n",
    "```"
   ]
  },
  {
   "cell_type": "markdown",
   "metadata": {},
   "source": [
    "```\n",
    ">hg38_dna range=chr4:74038698-74038798 5'pad=0 3'pad=0 strand=+ repeatMasking=none\n",
    "AAGATCGGCGAACCCTTTTTATGCATGGTTGAGACTGGAAAGCCCGGAGC\n",
    "GGCCGGGCCAGGGAAATTCCCGGAGCTCCAGATCGATCCGGAGTCCCGAA\n",
    "G\n",
    "```"
   ]
  },
  {
   "cell_type": "markdown",
   "metadata": {},
   "source": [
    "# motifmatchr on CXCL3 promoter sequence"
   ]
  },
  {
   "cell_type": "code",
   "execution_count": 80,
   "metadata": {},
   "outputs": [
    {
     "name": "stderr",
     "output_type": "stream",
     "text": [
      "\n"
     ]
    }
   ],
   "source": [
    "library(JASPAR2018)\n",
    "library(motifmatchr)\n",
    "library(GenomicRanges)\n",
    "library(TFBSTools)"
   ]
  },
  {
   "cell_type": "code",
   "execution_count": 81,
   "metadata": {},
   "outputs": [
    {
     "name": "stdout",
     "output_type": "stream",
     "text": [
      "MA0518.1 MA0144.2 MA0640.1 MA0754.1 MA0105.4 MA0778.1 MA0107.1 \n",
      " \"STAT4\"  \"STAT3\"   \"ELF3\"   \"CUX1\"  \"NFKB1\"  \"NFKB2\"   \"RELA\" \n"
     ]
    }
   ],
   "source": [
    "print(motif_dict)"
   ]
  },
  {
   "cell_type": "code",
   "execution_count": 82,
   "metadata": {},
   "outputs": [
    {
     "data": {
      "text/plain": [
       "PFMatrixList of length 5\n",
       "names(5): MA0137.3 MA0144.2 MA0640.1 MA0754.1 MA0105.4"
      ]
     },
     "metadata": {},
     "output_type": "display_data"
    }
   ],
   "source": [
    "opts <- list(species = 9606, name = c(\"CUX1\", \"STAT3\", \"NFKB1\", \"ELF3\", \"STAT1\"))\n",
    "PFMatrixList <- getMatrixSet(JASPAR2018, opts)\n",
    "PFMatrixList"
   ]
  },
  {
   "cell_type": "code",
   "execution_count": 83,
   "metadata": {},
   "outputs": [
    {
     "name": "stderr",
     "output_type": "stream",
     "text": [
      "\n",
      "Attaching package: ‘Biostrings’\n",
      "\n",
      "The following object is masked from ‘package:base’:\n",
      "\n",
      "    strsplit\n",
      "\n"
     ]
    },
    {
     "data": {
      "text/plain": [
       "4 x 5 sparse Matrix of class \"lgCMatrix\"\n",
       "     MA0137.3 MA0144.2 MA0640.1 MA0754.1 MA0105.4\n",
       "[1,]        |        |        |        |        |\n",
       "[2,]        |        |        |        |        |\n",
       "[3,]        |        |        |        |        |\n",
       "[4,]        |        |        .        |        |"
      ]
     },
     "metadata": {},
     "output_type": "display_data"
    },
    {
     "data": {
      "text/plain": [
       "4 x 5 sparse Matrix of class \"dgCMatrix\"\n",
       "     MA0137.3  MA0144.2  MA0640.1 MA0754.1  MA0105.4\n",
       "[1,] 9.541955 3.6040778 -4.924036 9.868329  9.496414\n",
       "[2,] 7.935174 0.3447297 -4.924036 9.868329  9.496414\n",
       "[3,] 9.541955 0.3447297 -4.924036 9.868329  9.496414\n",
       "[4,] 4.626961 0.3394320  .        3.099821 -3.089536"
      ]
     },
     "metadata": {},
     "output_type": "display_data"
    },
    {
     "data": {
      "text/plain": [
       "4 x 5 sparse Matrix of class \"dgCMatrix\"\n",
       "     MA0137.3 MA0144.2 MA0640.1 MA0754.1 MA0105.4\n",
       "[1,]        1        3        1        2        3\n",
       "[2,]        1        3        1        2        3\n",
       "[3,]        1        3        1        2        6\n",
       "[4,]        1        3        .        2        4"
      ]
     },
     "metadata": {},
     "output_type": "display_data"
    }
   ],
   "source": [
    "# Make a set of peaks\n",
    "regions <- GRanges(\n",
    "  seqnames = c(\"chr4\", \"chr4\", \"chr4\", \"chr4\"),\n",
    "  ranges = IRanges(\n",
    "    start = c(74038698, 73869284, 74099205, 73944420),\n",
    "    end   = c(74038798, 73869383, 74099303, 73944520)\n",
    "  )\n",
    ")\n",
    "\n",
    "# Get motif matches for example motifs in peaks\n",
    "motif_ix <- matchMotifs(PFMatrixList, regions, genome = \"hg38\", p.cutoff = 0.005, out = \"scores\") \n",
    "\n",
    "motifMatches(motif_ix)\n",
    "\n",
    "motifScores(motif_ix)\n",
    "\n",
    "motifCounts(motif_ix)"
   ]
  },
  {
   "cell_type": "markdown",
   "metadata": {},
   "source": [
    "# CXCL3 TSS"
   ]
  },
  {
   "cell_type": "code",
   "execution_count": 94,
   "metadata": {},
   "outputs": [],
   "source": [
    "library(ggplot2)"
   ]
  },
  {
   "cell_type": "code",
   "execution_count": 95,
   "metadata": {},
   "outputs": [
    {
     "name": "stdout",
     "output_type": "stream",
     "text": [
      "[1] \"hi\"\n"
     ]
    }
   ],
   "source": [
    "print(\"hi\")"
   ]
  },
  {
   "cell_type": "code",
   "execution_count": 146,
   "metadata": {},
   "outputs": [
    {
     "data": {
      "image/png": "[encoded data removed]"
     },
     "metadata": {},
     "output_type": "display_data"
    }
   ],
   "source": [
    "# CXCL3 transcription start site\n",
    "\n",
    "pwms <- getMatrixSet(JASPAR2018, list(species = 9606, name = c(\"CUX1\", \"NFKB1\", \"STAT3\")))\n",
    "\n",
    "motif_ix <- matchMotifs(pwms, regions[1], genome = \"hg38\", p.cutoff = 0.005, out = \"positions\") \n",
    "\n",
    "d <- do.call(rbind, lapply(names(motif_ix), function(motif_name) {\n",
    "  retval <- as.data.frame(motif_ix[[motif_name]])\n",
    "  if (nrow(retval) > 0) {\n",
    "    retval[[\"motif\"]] <- motif_name\n",
    "    if (motif_name %in% names(motif_dict)) {\n",
    "      retval[[\"protein\"]] <- motif_dict[[motif_name]]\n",
    "    } else {\n",
    "      retval[[\"protein\"]] <- \"STAT1\"\n",
    "    }\n",
    "    retval\n",
    "  }\n",
    "}))\n",
    "d$index <- seq(nrow(d))\n",
    "\n",
    "options(repr.plot.width = 10, repr.plot.height = 2)\n",
    "\n",
    "d$proteini <- as.integer(factor(d$protein))\n",
    "\n",
    "dtext <- data.frame(\n",
    "  pos = unlist(strsplit(\"TTTTTATGCATGGTTGAGACTGGAAAGCCCGGAGCGGCCGGGCCAGGGAAATTCCCGGAGCTCCAGATCGATCC\", \"\")),\n",
    "  neg = unlist(strsplit(\"AAAAATACGTACCAACTCTGACCTTTCGGGCCTCGCCGGCCCGGTCCCTTTAAGGGCCTCGAGGTCTAGCTAGG\", \"\"))\n",
    ")\n",
    "dtext$x <- seq(from = 74038713, to = 1 + 74038713 - nrow(dtext))\n",
    "\n",
    "d$y <- ifelse(d$strand == \"+\", 1, 0)\n",
    "\n",
    "p <- ggplot() +\n",
    "geom_segment(\n",
    "  data = d,\n",
    "  aes(x = start - 0.5, xend = end + 0.5, y = y, yend = y, color = protein),\n",
    "  size = 8, alpha = 0.5\n",
    ") +\n",
    "geom_text(\n",
    "  data = dtext,\n",
    "  mapping = aes(x = x, y = 1, label = pos),\n",
    "  hjust = 0.5\n",
    ") +\n",
    "geom_text(\n",
    "  data = dtext,\n",
    "  mapping = aes(x = x, y = 0, label = neg),\n",
    "  hjust = 0.5\n",
    ") +\n",
    "# geom_segment(\n",
    "#   data = data.frame(x = 74038773, xend = 74038773, y = 1.5, yend = 1.2),\n",
    "#   mapping = aes(x, y, xend = xend, yend = yend), arrow = arrow(length = unit(2, \"mm\")),\n",
    "#   size = 0.5\n",
    "# ) +\n",
    "scale_y_continuous(\n",
    "  expand = c(0.5, 0),\n",
    "  breaks = c(0, 1),\n",
    "  labels = c('0' = \"-\", '1' = \"+\")\n",
    ") +\n",
    "# scale_x_reverse(\n",
    "#   breaks = round(seq(min(d$start), max(d$end), by = 10)) - 6,\n",
    "#   labels = round(max(d$end) - seq(min(d$start), max(d$end), by = 10)) + 7,\n",
    "#   expand = c(0, 0.3)\n",
    "# ) +\n",
    "# scale_color_brewer(palette = \"Set2\", name = \"Motif\") +\n",
    "scale_color_manual(\n",
    "  guide = FALSE,\n",
    "  name = \"Motif\",\n",
    "  values = c(\n",
    "    \"NFKB1\" = \"#66C2A5\", \"CUX1\" = \"#FC8D62\", \"STAT3\" = \"#8DA0CB\"\n",
    "  )\n",
    ") +\n",
    "# guides(color = guide_legend(title = \"Motif\")) +\n",
    "# theme_void() +\n",
    "theme(\n",
    "  axis.line.y = element_blank(),\n",
    "  axis.ticks.y = element_blank(),\n",
    "  axis.line.x = element_line(size = 0.2),\n",
    "  axis.ticks = element_line(size = 0.2),\n",
    "  axis.text.y = element_text(size = 20, hjust = 0.5),\n",
    "#   axis.text.x = element_text(size = 20),\n",
    "  plot.title = element_text(size = 20, hjust = 0.5),\n",
    "  legend.title = element_text(size = 20),\n",
    "  legend.text = element_text(size = 20),\n",
    "  plot.margin = margin(t = 2, b = 2, l = 0, r = 1, unit = \"lines\")\n",
    ") +\n",
    "labs(\n",
    "  title = sprintf(\"hg38 chr4:74038713-74038786 (%s bp)\", length(dtext$pos)),\n",
    "  x = NULL,\n",
    "  y = NULL\n",
    ")\n",
    "\n",
    "show_plot(p, name = \"CXCL3-promoter\")"
   ]
  },
  {
   "cell_type": "code",
   "execution_count": 90,
   "metadata": {},
   "outputs": [
    {
     "data": {
      "text/html": [
       "74"
      ],
      "text/latex": [
       "74"
      ],
      "text/markdown": [
       "74"
      ],
      "text/plain": [
       "[1] 74"
      ]
     },
     "metadata": {},
     "output_type": "display_data"
    }
   ],
   "source": []
  },
  {
   "cell_type": "code",
   "execution_count": 203,
   "metadata": {},
   "outputs": [
    {
     "name": "stdout",
     "output_type": "stream",
     "text": [
      "c(\"#66C2A5\", \"#FC8D62\", \"#8DA0CB\", \"#E78AC3\", \"#A6D854\", \"#FFD92F\", \n",
      "\"#E5C494\", \"#B3B3B3\")\n"
     ]
    }
   ],
   "source": [
    "dput(RColorBrewer::brewer.pal(name = \"Set2\", n = 8))"
   ]
  },
  {
   "cell_type": "code",
   "execution_count": 117,
   "metadata": {},
   "outputs": [
    {
     "data": {
      "text/html": [
       "'chr4:74038713-74038786'"
      ],
      "text/latex": [
       "'chr4:74038713-74038786'"
      ],
      "text/markdown": [
       "'chr4:74038713-74038786'"
      ],
      "text/plain": [
       "[1] \"chr4:74038713-74038786\""
      ]
     },
     "metadata": {},
     "output_type": "display_data"
    }
   ],
   "source": [
    "sprintf(\"chr4:%s-%s\", min(c(d$end, d$start)), max(c(d$start, d$end)))"
   ]
  },
  {
   "cell_type": "code",
   "execution_count": 123,
   "metadata": {},
   "outputs": [
    {
     "data": {
      "text/plain": [
       "  74-letter \"DNAString\" instance\n",
       "seq: TTTTTATGCATGGTTGAGACTGGAAAGCCCGGAGCGGCCGGGCCAGGGAAATTCCCGGAGCTCCAGATCGATCC"
      ]
     },
     "metadata": {},
     "output_type": "display_data"
    }
   ],
   "source": [
    "getSeq(BSgenome.Hsapiens.UCSC.hg38, names = \"chr4\", start = 74038713, end = 74038786, strand = \"+\")"
   ]
  },
  {
   "cell_type": "markdown",
   "metadata": {},
   "source": [
    "---"
   ]
  },
  {
   "cell_type": "markdown",
   "metadata": {},
   "source": [
    "## CUX1 ChIP-seq"
   ]
  },
  {
   "cell_type": "markdown",
   "metadata": {},
   "source": [
    "### ENCODE narrowPeak: Narrow (or Point-Source) Peaks format\n",
    "\n",
    "This format is used to provide called peaks of signal enrichment based on pooled, normalized (interpreted) data. It is a BED6+4 format.\n",
    "\n",
    "1. **chrom** - Name of the chromosome (or contig, scaffold, etc.).\n",
    "2. **chromStart** - The starting position of the feature in the chromosome or scaffold. The first base in a chromosome is numbered 0.\n",
    "3. **chromEnd** - The ending position of the feature in the chromosome or scaffold. The chromEnd base is not included in the display of the feature. For example, the first 100 bases of a chromosome are defined as chromStart=0, chromEnd=100, and span the bases numbered 0-99.\n",
    "4. **name** - Name given to a region (preferably unique). Use \".\" if no name is assigned.\n",
    "5. **score** - Indicates how dark the peak will be displayed in the browser (0-1000). If all scores were \"'0\"' when the data were submitted to the DCC, the DCC assigned scores 1-1000 based on signal value. Ideally the average signalValue per base spread is between 100-1000.\n",
    "6. **strand** - +/- to denote strand or orientation (whenever applicable). Use \".\" if no orientation is assigned.\n",
    "7. **signalValue** - Measurement of overall (usually, average) enrichment for the region.\n",
    "8. **pValue** - Measurement of statistical significance (-log10). Use -1 if no pValue is assigned.\n",
    "9. **qValue** - Measurement of statistical significance using false discovery rate (-log10). Use -1 if no qValue is assigned.\n",
    "10. **peak** - Point-source called for this peak; 0-based offset from chromStart. Use -1 if no point-source called."
   ]
  },
  {
   "cell_type": "code",
   "execution_count": 29,
   "metadata": {},
   "outputs": [
    {
     "data": {
      "text/html": [
       "<ol class=list-inline>\n",
       "\t<li>'data-raw/public-data/ENCODE/CUX1/ENCFF000YHL.bed.gz'</li>\n",
       "\t<li>'data-raw/public-data/ENCODE/CUX1/ENCFF001VMG.bed.gz'</li>\n",
       "\t<li>'data-raw/public-data/ENCODE/CUX1/ENCFF022FYX.bed.gz'</li>\n",
       "\t<li>'data-raw/public-data/ENCODE/CUX1/ENCFF688YAV.bed.gz'</li>\n",
       "\t<li>'data-raw/public-data/ENCODE/CUX1/ENCFF903AOD.bed.gz'</li>\n",
       "</ol>\n"
      ],
      "text/latex": [
       "\\begin{enumerate*}\n",
       "\\item 'data-raw/public-data/ENCODE/CUX1/ENCFF000YHL.bed.gz'\n",
       "\\item 'data-raw/public-data/ENCODE/CUX1/ENCFF001VMG.bed.gz'\n",
       "\\item 'data-raw/public-data/ENCODE/CUX1/ENCFF022FYX.bed.gz'\n",
       "\\item 'data-raw/public-data/ENCODE/CUX1/ENCFF688YAV.bed.gz'\n",
       "\\item 'data-raw/public-data/ENCODE/CUX1/ENCFF903AOD.bed.gz'\n",
       "\\end{enumerate*}\n"
      ],
      "text/markdown": [
       "1. 'data-raw/public-data/ENCODE/CUX1/ENCFF000YHL.bed.gz'\n",
       "2. 'data-raw/public-data/ENCODE/CUX1/ENCFF001VMG.bed.gz'\n",
       "3. 'data-raw/public-data/ENCODE/CUX1/ENCFF022FYX.bed.gz'\n",
       "4. 'data-raw/public-data/ENCODE/CUX1/ENCFF688YAV.bed.gz'\n",
       "5. 'data-raw/public-data/ENCODE/CUX1/ENCFF903AOD.bed.gz'\n",
       "\n",
       "\n"
      ],
      "text/plain": [
       "[1] \"data-raw/public-data/ENCODE/CUX1/ENCFF000YHL.bed.gz\"\n",
       "[2] \"data-raw/public-data/ENCODE/CUX1/ENCFF001VMG.bed.gz\"\n",
       "[3] \"data-raw/public-data/ENCODE/CUX1/ENCFF022FYX.bed.gz\"\n",
       "[4] \"data-raw/public-data/ENCODE/CUX1/ENCFF688YAV.bed.gz\"\n",
       "[5] \"data-raw/public-data/ENCODE/CUX1/ENCFF903AOD.bed.gz\""
      ]
     },
     "metadata": {},
     "output_type": "display_data"
    }
   ],
   "source": [
    "Sys.glob(\"data-raw/public-data/ENCODE/CUX1/ENCFF*.bed.gz\")"
   ]
  },
  {
   "cell_type": "markdown",
   "metadata": {},
   "source": [
    "Download the ENCODE ChIP-seq peaks for CUX1:"
   ]
  },
  {
   "cell_type": "code",
   "execution_count": 30,
   "metadata": {},
   "outputs": [],
   "source": [
    "cux1_files <- list(\n",
    "  c(\n",
    "    experiment = \"https://www.encodeproject.org/experiments/ENCSR000EFO/\",\n",
    "    celltype   = \"K562 cell line\",\n",
    "    url        = \"https://www.encodeproject.org/files/ENCFF688YAV/@@download/ENCFF688YAV.bed.gz\"\n",
    "  ),\n",
    "  c(\n",
    "    experiment = \"https://www.encodeproject.org/experiments/ENCSR017CEO/\",\n",
    "    celltype   = \"MCF-7 cell line\",\n",
    "    url        = \"https://www.encodeproject.org/files/ENCFF022FYX/@@download/ENCFF022FYX.bed.gz\"\n",
    "  ),\n",
    "  c(\n",
    "    experiment = \"https://www.encodeproject.org/experiments/ENCSR000DYR/\",\n",
    "    celltype   = \"GM12878 cell line\",\n",
    "    url        = \"https://www.encodeproject.org/files/ENCFF903AOD/@@download/ENCFF903AOD.bed.gz\"\n",
    "  )\n",
    ")\n",
    "for (cux1_file in cux1_files) {\n",
    "  bedfile <- basename(cux1_file['url'])\n",
    "  destfile <- file.path(\"data-raw/public-data/ENCODE/CUX1\", bedfile)\n",
    "  if (!file.exists(destfile)) {\n",
    "    download.file(url = cux1_file['url'], destfile = destfile)\n",
    "  }\n",
    "}"
   ]
  },
  {
   "cell_type": "code",
   "execution_count": 31,
   "metadata": {},
   "outputs": [
    {
     "data": {
      "text/html": [
       "<ol class=list-inline>\n",
       "\t<li>'data-raw/public-data/ENCODE/CUX1/ENCFF688YAV.bed.gz'</li>\n",
       "\t<li>'data-raw/public-data/ENCODE/CUX1/ENCFF022FYX.bed.gz'</li>\n",
       "\t<li>'data-raw/public-data/ENCODE/CUX1/ENCFF903AOD.bed.gz'</li>\n",
       "</ol>\n"
      ],
      "text/latex": [
       "\\begin{enumerate*}\n",
       "\\item 'data-raw/public-data/ENCODE/CUX1/ENCFF688YAV.bed.gz'\n",
       "\\item 'data-raw/public-data/ENCODE/CUX1/ENCFF022FYX.bed.gz'\n",
       "\\item 'data-raw/public-data/ENCODE/CUX1/ENCFF903AOD.bed.gz'\n",
       "\\end{enumerate*}\n"
      ],
      "text/markdown": [
       "1. 'data-raw/public-data/ENCODE/CUX1/ENCFF688YAV.bed.gz'\n",
       "2. 'data-raw/public-data/ENCODE/CUX1/ENCFF022FYX.bed.gz'\n",
       "3. 'data-raw/public-data/ENCODE/CUX1/ENCFF903AOD.bed.gz'\n",
       "\n",
       "\n"
      ],
      "text/plain": [
       "[1] \"data-raw/public-data/ENCODE/CUX1/ENCFF688YAV.bed.gz\"\n",
       "[2] \"data-raw/public-data/ENCODE/CUX1/ENCFF022FYX.bed.gz\"\n",
       "[3] \"data-raw/public-data/ENCODE/CUX1/ENCFF903AOD.bed.gz\""
      ]
     },
     "metadata": {},
     "output_type": "display_data"
    },
    {
     "data": {
      "text/plain": [
       "GRanges object with 899086 ranges and 5 metadata columns:\n",
       "    seqnames                 ranges strand |     score signalValue    pValue\n",
       "       <Rle>              <IRanges>  <Rle> | <integer>   <numeric> <numeric>\n",
       "  .     chr7 [ 67019686,  67019976]      * |         0    349.1455        -1\n",
       "  .     chr7 [148987056, 148987379]      * |         0    341.0758        -1\n",
       "  .     chr2 [ 11279348,  11279620]      * |         0    318.0502        -1\n",
       "  .     chr2 [ 62177419,  62177763]      * |         0    305.2414        -1\n",
       "  .    chr15 [ 35557630,  35557886]      * |         0    295.4011        -1\n",
       "  .      ...                    ...    ... .       ...         ...       ...\n",
       "  .     chr4 [147855744, 147856120]      * |         0    8.066585        -1\n",
       "  .     chr5 [116463275, 116463651]      * |         0    8.066585        -1\n",
       "  .     chr6 [  3235967,   3236343]      * |         0    8.066585        -1\n",
       "  .     chr7 [ 97064923,  97065299]      * |         0    8.066585        -1\n",
       "  .     chr8 [ 14207248,  14207624]      * |         0    8.066585        -1\n",
       "        qValue               file\n",
       "     <numeric>        <character>\n",
       "  .   2.267172 ENCFF688YAV.bed.gz\n",
       "  .   2.267172 ENCFF688YAV.bed.gz\n",
       "  .   2.267172 ENCFF688YAV.bed.gz\n",
       "  .   2.267172 ENCFF688YAV.bed.gz\n",
       "  .   2.267172 ENCFF688YAV.bed.gz\n",
       "  .        ...                ...\n",
       "  . -0.3237343 ENCFF903AOD.bed.gz\n",
       "  . -0.3237343 ENCFF903AOD.bed.gz\n",
       "  . -0.3237343 ENCFF903AOD.bed.gz\n",
       "  . -0.3237343 ENCFF903AOD.bed.gz\n",
       "  . -0.3237343 ENCFF903AOD.bed.gz\n",
       "  -------\n",
       "  seqinfo: 92 sequences from an unspecified genome; no seqlengths"
      ]
     },
     "metadata": {},
     "output_type": "display_data"
    }
   ],
   "source": [
    "bed_files <- file.path(\n",
    "  \"data-raw/public-data/ENCODE/CUX1\", basename(sapply(cux1_files, \"[\", \"url\"))\n",
    ")\n",
    "bed_files\n",
    "\n",
    "cux1_peaks <- do.call(\"c\", GRangesList(lapply(bed_files, function(file) {\n",
    "  retval <- read_encode_bed(file)\n",
    "  retval$file <- basename(file)\n",
    "  retval[seqnames(retval) %in% sprintf(\"chr%s\", c(1:22, \"X\", \"Y\"))]\n",
    "})))\n",
    "\n",
    "cux1_peaks"
   ]
  },
  {
   "cell_type": "code",
   "execution_count": 37,
   "metadata": {},
   "outputs": [
    {
     "data": {},
     "metadata": {},
     "output_type": "display_data"
    },
    {
     "data": {
      "image/png": "[encoded data removed]",
      "text/plain": [
       "plot without title"
      ]
     },
     "metadata": {},
     "output_type": "display_data",
     "source": "R display func"
    }
   ],
   "source": [
    "options(repr.plot.width = 8, repr.plot.height = 3)\n",
    "\n",
    "data.frame(\n",
    "  signalValue = log10(cux1_peaks$signalValue),\n",
    "  file = cux1_peaks$file\n",
    ") %>%\n",
    "ggplot(aes(x = signalValue)) +\n",
    "geom_histogram(bins = 100) +\n",
    "facet_grid(~ file) +\n",
    "scale_x_log10(labels = function(x) 10^x)"
   ]
  },
  {
   "cell_type": "markdown",
   "metadata": {},
   "source": [
    "Choose the peaks with `signalValue` greater than the 0.9 quantile:"
   ]
  },
  {
   "cell_type": "code",
   "execution_count": 39,
   "metadata": {},
   "outputs": [
    {
     "data": {
      "text/plain": [
       "       \n",
       "        ENCFF022FYX.bed.gz ENCFF688YAV.bed.gz ENCFF903AOD.bed.gz\n",
       "  FALSE             269577             269892             269708\n",
       "  TRUE               29953              29988              29968"
      ]
     },
     "metadata": {},
     "output_type": "display_data"
    }
   ],
   "source": [
    "d <- with(cux1_peaks, data.frame(\n",
    "#   gene_symbol = gene_symbol,\n",
    "  signalValue = signalValue,\n",
    "  file = file\n",
    ")) %>%\n",
    "group_by(file) %>%\n",
    "mutate(include = signalValue > quantile(signalValue, probs = 0.9))\n",
    "table(d$include, d$file)"
   ]
  },
  {
   "cell_type": "markdown",
   "metadata": {},
   "source": [
    "Promoters with a CUX1 peak:"
   ]
  },
  {
   "cell_type": "code",
   "execution_count": 41,
   "metadata": {},
   "outputs": [
    {
     "data": {
      "text/plain": [
       "GRanges object with 30225 ranges and 3 metadata columns:\n",
       "            seqnames                 ranges strand |     gene_id gene_symbol\n",
       "               <Rle>              <IRanges>  <Rle> | <character> <character>\n",
       "  102723099     chr7 [148987027, 148987626]      + |   102723099       GHET1\n",
       "       6084     chr7 [148987149, 148987748]      - |        6084        RNY1\n",
       "       4211     chr2 [ 66432952,  66433551]      + |        4211       MEIS1\n",
       "     730198     chr2 [ 66433371,  66433970]      - |      730198   MEIS1-AS3\n",
       "       8341     chr6 [ 27837260,  27837859]      + |        8341   HIST1H2BN\n",
       "        ...      ...                    ...    ... .         ...         ...\n",
       "     340512     chr9 [107102889, 107103488]      - |      340512   LOC340512\n",
       "      58506    chr19 [ 49641625,  49642224]      + |       58506       SCAF1\n",
       "       4647    chr11 [ 77127764,  77128363]      + |        4647       MYO7A\n",
       "     162972    chr19 [ 57559764,  57560363]      - |      162972      ZNF550\n",
       "      51315     chr2 [ 88055630,  88056229]      - |       51315       KRCC1\n",
       "                          file\n",
       "                   <character>\n",
       "  102723099 ENCFF688YAV.bed.gz\n",
       "       6084 ENCFF688YAV.bed.gz\n",
       "       4211 ENCFF688YAV.bed.gz\n",
       "     730198 ENCFF688YAV.bed.gz\n",
       "       8341 ENCFF688YAV.bed.gz\n",
       "        ...                ...\n",
       "     340512 ENCFF903AOD.bed.gz\n",
       "      58506 ENCFF903AOD.bed.gz\n",
       "       4647 ENCFF903AOD.bed.gz\n",
       "     162972 ENCFF903AOD.bed.gz\n",
       "      51315 ENCFF903AOD.bed.gz\n",
       "  -------\n",
       "  seqinfo: 455 sequences (1 circular) from hg38 genome"
      ]
     },
     "metadata": {},
     "output_type": "display_data"
    },
    {
     "data": {
      "text/html": [
       "14509"
      ],
      "text/latex": [
       "14509"
      ],
      "text/markdown": [
       "14509"
      ],
      "text/plain": [
       "[1] 14509"
      ]
     },
     "metadata": {},
     "output_type": "display_data"
    }
   ],
   "source": [
    "f1 <- suppressWarnings(findOverlaps(\n",
    "#   query = cux1_peaks[d$include,],\n",
    "  query = cux1_peaks,\n",
    "  subject = prom_ranges\n",
    "))\n",
    "prom_hits <- prom_ranges[subjectHits(f1)]\n",
    "prom_hits$file <- cux1_peaks[queryHits(f1)]$file\n",
    "prom_hits\n",
    "\n",
    "length(unique(prom_hits$gene_symbol))"
   ]
  },
  {
   "cell_type": "markdown",
   "metadata": {},
   "source": [
    "Considering a few genes of interest, which of them have a CUX1 peak in the promoter?"
   ]
  },
  {
   "cell_type": "code",
   "execution_count": 59,
   "metadata": {},
   "outputs": [
    {
     "name": "stdout",
     "output_type": "stream",
     "text": [
      " [1] \"CSF2\"   \"CXCL1\"  \"CXCL10\" \"CXCL2\"  \"CXCL3\"  \"CXCL8\"  \"ELF3\"   \"G0S2\"  \n",
      " [9] \"IL23A\"  \"IL6\"    \"NFKBIZ\" \"PTGS2\" \n"
     ]
    }
   ],
   "source": [
    "these_genes <- c(\n",
    "  \"CXCL1\", \"CXCL2\", \"CXCL3\",\n",
    "  \"CXCL5\", \"CXCL6\", \"CXCL8\",\n",
    "  \"CXCL10\", \"CCL20\", \"CCL5\",\n",
    "  \"CCL2\", \"IL6\", \"CSF2\",\n",
    "  \"CSF3\", \"NFKBIZ\", \"ELF3\",\n",
    "  \"IL23A\", \"PTGS2\", \"G0S2\",\n",
    "  \"MMP3\", \"MMP1\", \"TNFAIP2\",\n",
    "  \"TNFAIP6\"\n",
    ")\n",
    "\n",
    "print(sort(unique(\n",
    "  prom_hits[prom_hits$gene_symbol %in% these_genes]$gene_symbol\n",
    ")))"
   ]
  },
  {
   "cell_type": "markdown",
   "metadata": {},
   "source": [
    "It looks like the ChIP-seq data on the K562 cell line has peaks in most of our promoters of interest:"
   ]
  },
  {
   "cell_type": "code",
   "execution_count": 60,
   "metadata": {},
   "outputs": [
    {
     "data": {
      "text/plain": [
       "        \n",
       "         ENCFF022FYX.bed.gz ENCFF688YAV.bed.gz ENCFF903AOD.bed.gz\n",
       "  CSF2                    0                  1                  0\n",
       "  CXCL1                   0                  1                  0\n",
       "  CXCL10                  1                  0                  0\n",
       "  CXCL2                   2                  1                  0\n",
       "  CXCL3                   0                  2                  1\n",
       "  CXCL8                   0                  1                  0\n",
       "  ELF3                    0                  1                  0\n",
       "  G0S2                    0                  2                  0\n",
       "  IL23A                   1                  3                  1\n",
       "  IL6                     1                  1                  0\n",
       "  NFKBIZ                  1                  1                  2\n",
       "  PTGS2                   0                  0                  1"
      ]
     },
     "metadata": {},
     "output_type": "display_data"
    }
   ],
   "source": [
    "x <- table(prom_hits$gene_symbol, prom_hits$file)\n",
    "x[intersect(rownames(x), these_genes),]\n",
    "# cux1_genes <- names(which(x == 3))\n",
    "# these_genes[which(these_genes %in% cux1_genes)]"
   ]
  },
  {
   "cell_type": "markdown",
   "metadata": {},
   "source": [
    "## Overlap CUX1 peaks with CUX1 motifs"
   ]
  },
  {
   "cell_type": "code",
   "execution_count": 42,
   "metadata": {},
   "outputs": [],
   "source": [
    "cux1_both <- suppressWarnings(findOverlaps(\n",
    "  query = cux1_motif, \n",
    "  subject = cux1_peaks,\n",
    "  type = \"within\"\n",
    "))"
   ]
  },
  {
   "cell_type": "markdown",
   "metadata": {},
   "source": [
    "How many peaks have a motif?"
   ]
  },
  {
   "cell_type": "code",
   "execution_count": 43,
   "metadata": {},
   "outputs": [
    {
     "data": {
      "text/html": [
       "'621598 (69.14%)'"
      ],
      "text/latex": [
       "'621598 (69.14\\%)'"
      ],
      "text/markdown": [
       "'621598 (69.14%)'"
      ],
      "text/plain": [
       "[1] \"621598 (69.14%)\""
      ]
     },
     "metadata": {},
     "output_type": "display_data"
    }
   ],
   "source": [
    "n_peaks_with_motif <- length(unique(subjectHits(cux1_both)))\n",
    "n_peaks <- length(cux1_peaks$pValue)\n",
    "sprintf(\"%s (%0.2f%%)\", n_peaks_with_motif, 100 * n_peaks_with_motif / n_peaks)"
   ]
  },
  {
   "cell_type": "markdown",
   "metadata": {},
   "source": [
    "How many motifs have a peak?"
   ]
  },
  {
   "cell_type": "code",
   "execution_count": 44,
   "metadata": {},
   "outputs": [
    {
     "data": {
      "text/html": [
       "'1562961 (11.80%)'"
      ],
      "text/latex": [
       "'1562961 (11.80\\%)'"
      ],
      "text/markdown": [
       "'1562961 (11.80%)'"
      ],
      "text/plain": [
       "[1] \"1562961 (11.80%)\""
      ]
     },
     "metadata": {},
     "output_type": "display_data"
    }
   ],
   "source": [
    "n_motifs_with_peak <- length(unique(queryHits(cux1_both)))\n",
    "n_motifs <- length(cux1_motif$rel_score)\n",
    "sprintf(\"%s (%0.2f%%)\", n_motifs_with_peak, 100 * n_motifs_with_peak / n_motifs)"
   ]
  },
  {
   "cell_type": "markdown",
   "metadata": {},
   "source": [
    "Promoters with a CUX1 peak that contains a CUX1 motif:"
   ]
  },
  {
   "cell_type": "code",
   "execution_count": 46,
   "metadata": {},
   "outputs": [
    {
     "data": {
      "text/plain": [
       "GRanges object with 11262 ranges and 2 metadata columns:\n",
       "            seqnames                 ranges strand |     gene_id gene_symbol\n",
       "               <Rle>              <IRanges>  <Rle> | <character> <character>\n",
       "      10002    chr15   [71792138, 71792737]      + |       10002       NR2E3\n",
       "  100036567    chr15   [25267966, 25268565]      + |   100036567 SNORD115-47\n",
       "  100048912     chr9   [21802136, 21802735]      + |   100048912  CDKN2B-AS1\n",
       "  100048912     chr9   [21802136, 21802735]      + |   100048912  CDKN2B-AS1\n",
       "      10005    chr20   [45857307, 45857906]      - |       10005       ACOT8\n",
       "        ...      ...                    ...    ... .         ...         ...\n",
       "       9980    chr21 [ 36156282,  36156881]      + |        9980      DOPEY2\n",
       "       9986    chr11 [ 66842335,  66842934]      + |        9986        RCE1\n",
       "       9991     chr9 [112333568, 112334167]      - |        9991       PTBP3\n",
       "       9991     chr9 [112333568, 112334167]      - |        9991       PTBP3\n",
       "       9994     chr6 [ 89829394,  89829993]      + |        9994    CASP8AP2\n",
       "  -------\n",
       "  seqinfo: 455 sequences (1 circular) from hg38 genome"
      ]
     },
     "metadata": {},
     "output_type": "display_data"
    },
    {
     "data": {
      "text/html": [
       "7161"
      ],
      "text/latex": [
       "7161"
      ],
      "text/markdown": [
       "7161"
      ],
      "text/plain": [
       "[1] 7161"
      ]
     },
     "metadata": {},
     "output_type": "display_data"
    }
   ],
   "source": [
    "f1 <- suppressWarnings(findOverlaps(\n",
    "  query = prom_ranges,\n",
    "  subject = cux1_peaks[unique(subjectHits(cux1_both))]\n",
    "))\n",
    "prom_hits <- prom_ranges[queryHits(f1)]\n",
    "# prom_hits$file <- cux1_peaks[subjectHits(f1)]$file\n",
    "prom_hits\n",
    "\n",
    "length(table(prom_hits$gene_symbol))"
   ]
  },
  {
   "cell_type": "code",
   "execution_count": 47,
   "metadata": {},
   "outputs": [
    {
     "name": "stdout",
     "output_type": "stream",
     "text": [
      "[1] \"CSF2\"   \"CXCL1\"  \"CXCL10\" \"CXCL2\"  \"CXCL3\"  \"IL23A\"  \"IL6\"    \"NFKBIZ\"\n"
     ]
    }
   ],
   "source": [
    "these_genes <- c(\n",
    "  \"CXCL1\", \"CXCL2\", \"CXCL3\",\n",
    "  \"CXCL5\", \"CXCL6\", \"CXCL8\",\n",
    "  \"CXCL10\", \"CCL20\", \"CCL5\",\n",
    "  \"CCL2\", \"IL6\", \"CSF2\",\n",
    "  \"CSF3\", \"NFKBIZ\", \"ELF3\",\n",
    "  \"IL23A\", \"PTGS2\", \"G0S2\",\n",
    "  \"MMP3\", \"MMP1\", \"TNFAIP2\",\n",
    "  \"TNFAIP6\"\n",
    ")\n",
    "\n",
    "print(sort(unique(\n",
    "  prom_hits[prom_hits$gene_symbol %in% these_genes]$gene_symbol\n",
    ")))"
   ]
  },
  {
   "cell_type": "code",
   "execution_count": 145,
   "metadata": {},
   "outputs": [
    {
     "data": {
      "text/html": [
       "<table>\n",
       "<thead><tr><th></th><th scope=col>chrom</th><th scope=col>start</th><th scope=col>end</th><th scope=col>strand</th><th scope=col>name</th><th scope=col>bin</th></tr></thead>\n",
       "<tbody>\n",
       "\t<tr><th scope=row>1</th><td>chr4          </td><td>73868893      </td><td>73869492      </td><td>+             </td><td>CXCL1 promoter</td><td>1             </td></tr>\n",
       "\t<tr><th scope=row>ENCFF688YAV.bed.gz</th><td>chr4          </td><td>73869211      </td><td>73869551      </td><td>*             </td><td>K562          </td><td>2             </td></tr>\n",
       "</tbody>\n",
       "</table>\n"
      ],
      "text/latex": [
       "\\begin{tabular}{r|llllll}\n",
       "  & chrom & start & end & strand & name & bin\\\\\n",
       "\\hline\n",
       "\t1 & chr4           & 73868893       & 73869492       & +              & CXCL1 promoter & 1             \\\\\n",
       "\tENCFF688YAV.bed.gz & chr4           & 73869211       & 73869551       & *              & K562           & 2             \\\\\n",
       "\\end{tabular}\n"
      ],
      "text/markdown": [
       "\n",
       "| <!--/--> | chrom | start | end | strand | name | bin | \n",
       "|---|---|\n",
       "| 1 | chr4           | 73868893       | 73869492       | +              | CXCL1 promoter | 1              | \n",
       "| ENCFF688YAV.bed.gz | chr4           | 73869211       | 73869551       | *              | K562           | 2              | \n",
       "\n",
       "\n"
      ],
      "text/plain": [
       "                   chrom start    end      strand name           bin\n",
       "1                  chr4  73868893 73869492 +      CXCL1 promoter 1  \n",
       "ENCFF688YAV.bed.gz chr4  73869211 73869551 *      K562           2  "
      ]
     },
     "metadata": {},
     "output_type": "display_data"
    },
    {
     "data": {},
     "metadata": {},
     "output_type": "display_data"
    },
    {
     "data": {
      "image/png": "[encoded data removed]",
      "text/plain": [
       "plot without title"
      ]
     },
     "metadata": {},
     "output_type": "display_data",
     "source": "R display func"
    }
   ],
   "source": [
    "this_gene_symbol <- \"CXCL1\"\n",
    "\n",
    "this_prom <- unique(prom_ranges[prom_ranges$gene_symbol %in% c(this_gene_symbol)])\n",
    "\n",
    "this_gene <- gene_ranges[gene_ranges$gene_symbol %in% c(this_gene_symbol)]\n",
    "\n",
    "x <- suppressWarnings(findOverlaps(\n",
    "  query = this_prom,\n",
    "  subject = cux1_peaks[unique(subjectHits(cux1_both))]\n",
    "))\n",
    "this_peaks <- cux1_peaks[unique(subjectHits(cux1_both))][subjectHits(x)]\n",
    "\n",
    "file_to_cell <- c(\n",
    "  \"ENCFF903AOD.bed.gz\" = \"GM12878\",\n",
    "  \"ENCFF688YAV.bed.gz\" = \"K562\",\n",
    "  \"ENCFF022FYX.bed.gz\" = \"MCF-7\"\n",
    ")\n",
    "\n",
    "d <- rbind(\n",
    "#   data.frame(\n",
    "#     chrom = as.character(seqnames(this_gene)),\n",
    "#     start = start(this_gene),\n",
    "#     end = end(this_gene),\n",
    "#     strand = as.character(strand(this_gene)),\n",
    "#     name = as.character(this_gene$gene_symbol)\n",
    "#   ),\n",
    "  data.frame(\n",
    "    chrom = as.character(seqnames(this_prom)),\n",
    "    start = start(this_prom),\n",
    "    end = end(this_prom),\n",
    "    strand = as.character(strand(this_prom)),\n",
    "    name = paste(as.character(this_prom$gene_symbol), \"promoter\")\n",
    "  ),\n",
    "  data.frame(\n",
    "    chrom = seqnames(this_peaks),\n",
    "    start = start(this_peaks),\n",
    "    end = end(this_peaks),\n",
    "    strand = as.character(strand(this_peaks)),\n",
    "    name = file_to_cell[this_peaks$file]\n",
    "  )\n",
    ")\n",
    "d$bin <- disjointBins(IRanges(d$start, d$end))\n",
    "\n",
    "d\n",
    "\n",
    "ggplot(d) +\n",
    "geom_rect(\n",
    "  mapping = aes(\n",
    "    xmin = start, xmax = end,\n",
    "    ymin = bin, ymax = bin + 0.9\n",
    "  )\n",
    ") +\n",
    "geom_text(\n",
    "  mapping = aes(\n",
    "    x = start + (end - start) / 2,\n",
    "    y = bin + 0.5,\n",
    "    label = name\n",
    "  ),\n",
    "  color = \"white\",\n",
    "  size = 6\n",
    ") +\n",
    "# theme_bw() +\n",
    "scale_x_continuous(labels = function(x) x - min(d$start)) +\n",
    "labs(x = \"bp from start\", y = NULL)"
   ]
  },
  {
   "cell_type": "markdown",
   "metadata": {},
   "source": [
    "## REMAP ChIP-seq peaks"
   ]
  },
  {
   "cell_type": "code",
   "execution_count": null,
   "metadata": {},
   "outputs": [],
   "source": [
    "remap <- fread(\n",
    "  \"zcat /data/srlab/external-data/REMAP/remap2018_all_macs2_hg38_v1_2.bed.gz | grep -P '(CUX1|ELF3|STAT3|STAT4|NFKB)'\",\n",
    "  sep = \"\\t\",\n",
    "  header = FALSE\n",
    ")\n",
    "remap <- cbind(remap, stringr::str_split_fixed(remap$V4, \"\\\\.\", 3))"
   ]
  },
  {
   "cell_type": "code",
   "execution_count": null,
   "metadata": {},
   "outputs": [],
   "source": [
    "colnames(remap) <- c(\n",
    "  \"chrom\", \"start\", \"end\",\n",
    "  \"info\", \"V5\", \"V6\",\n",
    "  \"start2\", \"end2\", \"color\",\n",
    "  \"experiment\", \"protein\", \"celltype\"\n",
    ")\n",
    "head(remap)"
   ]
  },
  {
   "cell_type": "code",
   "execution_count": null,
   "metadata": {},
   "outputs": [],
   "source": [
    "table(remap$protein)"
   ]
  },
  {
   "cell_type": "code",
   "execution_count": null,
   "metadata": {},
   "outputs": [],
   "source": [
    "table(table(remap$color))"
   ]
  },
  {
   "cell_type": "code",
   "execution_count": null,
   "metadata": {},
   "outputs": [],
   "source": [
    "table(remap$experiment, remap$protein)"
   ]
  },
  {
   "cell_type": "code",
   "execution_count": null,
   "metadata": {},
   "outputs": [],
   "source": [
    "remap_ranges <- GRanges(\n",
    "  seqnames = remap$chrom,\n",
    "  ranges = IRanges(\n",
    "    start = remap$start,\n",
    "    end = remap$end\n",
    "  ),\n",
    "  experiment = remap$experiment,\n",
    "  protein = remap$protein,\n",
    "  celltype = remap$celltype\n",
    ")\n",
    "remap_ranges"
   ]
  },
  {
   "cell_type": "code",
   "execution_count": null,
   "metadata": {},
   "outputs": [],
   "source": [
    "f1 <- findOverlaps(query = remap_ranges, subject = prom_ranges)\n",
    "prom_hits <- prom_ranges[subjectHits(f1)]\n",
    "\n",
    "prom_hits$protein    <- remap_ranges[queryHits(f1)]$protein\n",
    "prom_hits$experiment <- remap_ranges[queryHits(f1)]$experiment\n",
    "prom_hits$celltype   <- remap_ranges[queryHits(f1)]$celltype\n",
    "\n",
    "prom_hits"
   ]
  },
  {
   "cell_type": "code",
   "execution_count": null,
   "metadata": {},
   "outputs": [],
   "source": [
    "prom_hits[prom_hits$gene_symbol %in% these_genes & prom_hits$protein %in% c(\"CUX1\"),]"
   ]
  },
  {
   "cell_type": "code",
   "execution_count": null,
   "metadata": {},
   "outputs": [],
   "source": [
    "data.frame(\n",
    "  gene_symbol = prom_hits$gene_symbol,\n",
    "  protein = prom_hits$protein,\n",
    "  gene_id = prom_hits$gene_id\n",
    ") %>%\n",
    "group_by(protein) %>%\n",
    "summarise(targets = length(unique(gene_symbol)))"
   ]
  },
  {
   "cell_type": "code",
   "execution_count": null,
   "metadata": {},
   "outputs": [],
   "source": [
    "x <- dcast(\n",
    "  data = data.frame(\n",
    "    gene_symbol = prom_hits$gene_symbol,\n",
    "    protein = prom_hits$protein,\n",
    "    gene_id = prom_hits$gene_id\n",
    "  ),\n",
    "  formula = gene_symbol ~ protein,\n",
    "  value.var = 'gene_id',\n",
    "  fun.aggregate = length\n",
    ")\n",
    "x <- x[!is.na(x$gene_symbol),]\n",
    "rownames(x) <- x$gene_symbol\n",
    "x$gene_symbol <- NULL\n",
    "x <- as.matrix(x)"
   ]
  },
  {
   "cell_type": "code",
   "execution_count": null,
   "metadata": {},
   "outputs": [],
   "source": [
    "these_genes <- c(\n",
    "  \"CXCL1\", \"CXCL2\", \"CXCL3\",\n",
    "  \"CXCL5\", \"CXCL6\", \"CXCL8\",\n",
    "  \"CXCL10\", \"CCL20\", \"CCL5\",\n",
    "  \"CCL2\", \"IL6\", \"CSF2\",\n",
    "  \"CSF3\", \"NFKBIZ\", \"ELF3\",\n",
    "  \"IL23A\", \"PTGS2\", \"G0S2\",\n",
    "  \"MMP3\", \"MMP1\", \"TNFAIP2\",\n",
    "  \"TNFAIP6\"\n",
    ")\n",
    "length(these_genes)\n",
    "\n",
    "length(intersect(these_genes, rownames(x)))"
   ]
  },
  {
   "cell_type": "code",
   "execution_count": null,
   "metadata": {},
   "outputs": [],
   "source": [
    "chip <- (x[intersect(these_genes, rownames(x)),] > 0) + 0\n",
    "chip_order <- seriate(chip, method = \"BEA_TSP\")\n",
    "chip <- chip[chip_order[[1]], chip_order[[2]]]"
   ]
  },
  {
   "cell_type": "code",
   "execution_count": null,
   "metadata": {},
   "outputs": [],
   "source": [
    "chip %>%\n",
    "melt() %>%\n",
    "ggplot(aes(Var2, Var1, fill = value)) +\n",
    "geom_tile() +\n",
    "theme_minimal()"
   ]
  },
  {
   "cell_type": "markdown",
   "metadata": {},
   "source": [
    "### Nearest ChIP-seq peak"
   ]
  },
  {
   "cell_type": "code",
   "execution_count": 32,
   "metadata": {},
   "outputs": [
    {
     "data": {
      "text/plain": [
       "GRanges object with 1 range and 2 metadata columns:\n",
       "       seqnames               ranges strand |     gene_id gene_symbol\n",
       "          <Rle>            <IRanges>  <Rle> | <character> <character>\n",
       "  2920     chr4 [74099194, 74099793]      - |        2920       CXCL2\n",
       "  -------\n",
       "  seqinfo: 455 sequences (1 circular) from hg38 genome"
      ]
     },
     "metadata": {},
     "output_type": "display_data"
    }
   ],
   "source": [
    "# Get the promoter for a particular gene\n",
    "# this_gene <- \"TNFRSF1A\"\n",
    "this_gene <- \"CXCL2\"\n",
    "this_prom <- prom_ranges[which(prom_ranges$gene_symbol == this_gene)]\n",
    "this_prom"
   ]
  },
  {
   "cell_type": "code",
   "execution_count": 33,
   "metadata": {},
   "outputs": [
    {
     "ename": "ERROR",
     "evalue": "Error in eval(expr, envir, enclos): object 'remap_ranges' not found\n",
     "execution_count": 33,
     "output_type": "error",
     "traceback": [
      "Error in eval(expr, envir, enclos): object 'remap_ranges' not found\nTraceback:\n"
     ]
    }
   ],
   "source": [
    "remap_ranges[nearest(this_prom, remap_ranges)]"
   ]
  }
 ],
 "metadata": {
  "kernelspec": {
   "display_name": "R",
   "language": "R",
   "name": "ir"
  },
  "language_info": {
   "codemirror_mode": "r",
   "file_extension": ".r",
   "mimetype": "text/x-r-source",
   "name": "R",
   "pygments_lexer": "r",
   "version": "3.6.1"
  }
 },
 "nbformat": 4,
 "nbformat_minor": 4
}
